{
 "cells": [
  {
   "cell_type": "markdown",
   "id": "581e9a05-652e-4176-a920-8841f8ebb60a",
   "metadata": {},
   "source": [
    "# <span style=\"color:red\">EXERCICE 1</span>\n",
    "\n",
    "# <span style=\"color:blue\">ÉTAPE 1: CHARGER LES DONNÉES DANS VOTRE NOTEBOOK</span>"
   ]
  },
  {
   "cell_type": "markdown",
   "id": "9185cc16-3d19-48ba-8889-e7f6bcd605b9",
   "metadata": {},
   "source": [
    "# Charger les 5 data frame"
   ]
  },
  {
   "cell_type": "code",
   "execution_count": 679,
   "id": "6d80fb43-75ed-4f50-b1ea-13d67c12b1b9",
   "metadata": {},
   "outputs": [],
   "source": [
    "import numpy as nf\n",
    "import pandas as pd\n",
    "import matplotlib.pyplot as plt\n",
    "import seaborn as sns"
   ]
  },
  {
   "cell_type": "code",
   "execution_count": 680,
   "id": "fce70fca-ab66-4f67-adbe-e166a15dc585",
   "metadata": {},
   "outputs": [],
   "source": [
    "df_series= pd.read_csv('EdStatsCountry-Series.csv')\n",
    "df_country=pd.read_csv('EdStatsCountry.csv')\n",
    "df_data= pd.read_csv('EdStatsData.csv')\n",
    "df_foot= pd.read_csv('EdStatsFootNote.csv')\n",
    "df_stat_series= pd.read_csv('EdStatsSeries.csv')"
   ]
  },
  {
   "cell_type": "markdown",
   "id": "ca4b165f-0204-4b28-a08b-84e0876f7f4a",
   "metadata": {},
   "source": [
    "# Visualiser dans un Jupyter Notebook les premières lignes des cinq fichiers en utilisant Pandas"
   ]
  },
  {
   "cell_type": "code",
   "execution_count": 681,
   "id": "17a2ac2b-c331-4b59-9399-f36a405b36b1",
   "metadata": {},
   "outputs": [
    {
     "data": {
      "text/html": [
       "<div>\n",
       "<style scoped>\n",
       "    .dataframe tbody tr th:only-of-type {\n",
       "        vertical-align: middle;\n",
       "    }\n",
       "\n",
       "    .dataframe tbody tr th {\n",
       "        vertical-align: top;\n",
       "    }\n",
       "\n",
       "    .dataframe thead th {\n",
       "        text-align: right;\n",
       "    }\n",
       "</style>\n",
       "<table border=\"1\" class=\"dataframe\">\n",
       "  <thead>\n",
       "    <tr style=\"text-align: right;\">\n",
       "      <th></th>\n",
       "      <th>CountryCode</th>\n",
       "      <th>SeriesCode</th>\n",
       "      <th>DESCRIPTION</th>\n",
       "      <th>Unnamed: 3</th>\n",
       "    </tr>\n",
       "  </thead>\n",
       "  <tbody>\n",
       "    <tr>\n",
       "      <th>0</th>\n",
       "      <td>ABW</td>\n",
       "      <td>SP.POP.TOTL</td>\n",
       "      <td>Data sources : United Nations World Population...</td>\n",
       "      <td>NaN</td>\n",
       "    </tr>\n",
       "    <tr>\n",
       "      <th>1</th>\n",
       "      <td>ABW</td>\n",
       "      <td>SP.POP.GROW</td>\n",
       "      <td>Data sources: United Nations World Population ...</td>\n",
       "      <td>NaN</td>\n",
       "    </tr>\n",
       "    <tr>\n",
       "      <th>2</th>\n",
       "      <td>AFG</td>\n",
       "      <td>SP.POP.GROW</td>\n",
       "      <td>Data sources: United Nations World Population ...</td>\n",
       "      <td>NaN</td>\n",
       "    </tr>\n",
       "    <tr>\n",
       "      <th>3</th>\n",
       "      <td>AFG</td>\n",
       "      <td>NY.GDP.PCAP.PP.CD</td>\n",
       "      <td>Estimates are based on regression.</td>\n",
       "      <td>NaN</td>\n",
       "    </tr>\n",
       "    <tr>\n",
       "      <th>4</th>\n",
       "      <td>AFG</td>\n",
       "      <td>SP.POP.TOTL</td>\n",
       "      <td>Data sources : United Nations World Population...</td>\n",
       "      <td>NaN</td>\n",
       "    </tr>\n",
       "  </tbody>\n",
       "</table>\n",
       "</div>"
      ],
      "text/plain": [
       "  CountryCode         SeriesCode  \\\n",
       "0         ABW        SP.POP.TOTL   \n",
       "1         ABW        SP.POP.GROW   \n",
       "2         AFG        SP.POP.GROW   \n",
       "3         AFG  NY.GDP.PCAP.PP.CD   \n",
       "4         AFG        SP.POP.TOTL   \n",
       "\n",
       "                                         DESCRIPTION  Unnamed: 3  \n",
       "0  Data sources : United Nations World Population...         NaN  \n",
       "1  Data sources: United Nations World Population ...         NaN  \n",
       "2  Data sources: United Nations World Population ...         NaN  \n",
       "3                 Estimates are based on regression.         NaN  \n",
       "4  Data sources : United Nations World Population...         NaN  "
      ]
     },
     "execution_count": 681,
     "metadata": {},
     "output_type": "execute_result"
    }
   ],
   "source": [
    "df_series.head()"
   ]
  },
  {
   "cell_type": "code",
   "execution_count": 682,
   "id": "61657db9-0d74-4230-b308-dbd3aa967cbd",
   "metadata": {},
   "outputs": [
    {
     "data": {
      "text/html": [
       "<div>\n",
       "<style scoped>\n",
       "    .dataframe tbody tr th:only-of-type {\n",
       "        vertical-align: middle;\n",
       "    }\n",
       "\n",
       "    .dataframe tbody tr th {\n",
       "        vertical-align: top;\n",
       "    }\n",
       "\n",
       "    .dataframe thead th {\n",
       "        text-align: right;\n",
       "    }\n",
       "</style>\n",
       "<table border=\"1\" class=\"dataframe\">\n",
       "  <thead>\n",
       "    <tr style=\"text-align: right;\">\n",
       "      <th></th>\n",
       "      <th>Country Code</th>\n",
       "      <th>Short Name</th>\n",
       "      <th>Table Name</th>\n",
       "      <th>Long Name</th>\n",
       "      <th>2-alpha code</th>\n",
       "      <th>Currency Unit</th>\n",
       "      <th>Special Notes</th>\n",
       "      <th>Region</th>\n",
       "      <th>Income Group</th>\n",
       "      <th>WB-2 code</th>\n",
       "      <th>...</th>\n",
       "      <th>IMF data dissemination standard</th>\n",
       "      <th>Latest population census</th>\n",
       "      <th>Latest household survey</th>\n",
       "      <th>Source of most recent Income and expenditure data</th>\n",
       "      <th>Vital registration complete</th>\n",
       "      <th>Latest agricultural census</th>\n",
       "      <th>Latest industrial data</th>\n",
       "      <th>Latest trade data</th>\n",
       "      <th>Latest water withdrawal data</th>\n",
       "      <th>Unnamed: 31</th>\n",
       "    </tr>\n",
       "  </thead>\n",
       "  <tbody>\n",
       "    <tr>\n",
       "      <th>0</th>\n",
       "      <td>ABW</td>\n",
       "      <td>Aruba</td>\n",
       "      <td>Aruba</td>\n",
       "      <td>Aruba</td>\n",
       "      <td>AW</td>\n",
       "      <td>Aruban florin</td>\n",
       "      <td>SNA data for 2000-2011 are updated from offici...</td>\n",
       "      <td>Latin America &amp; Caribbean</td>\n",
       "      <td>High income: nonOECD</td>\n",
       "      <td>AW</td>\n",
       "      <td>...</td>\n",
       "      <td>NaN</td>\n",
       "      <td>2010</td>\n",
       "      <td>NaN</td>\n",
       "      <td>NaN</td>\n",
       "      <td>Yes</td>\n",
       "      <td>NaN</td>\n",
       "      <td>NaN</td>\n",
       "      <td>2012.0</td>\n",
       "      <td>NaN</td>\n",
       "      <td>NaN</td>\n",
       "    </tr>\n",
       "    <tr>\n",
       "      <th>1</th>\n",
       "      <td>AFG</td>\n",
       "      <td>Afghanistan</td>\n",
       "      <td>Afghanistan</td>\n",
       "      <td>Islamic State of Afghanistan</td>\n",
       "      <td>AF</td>\n",
       "      <td>Afghan afghani</td>\n",
       "      <td>Fiscal year end: March 20; reporting period fo...</td>\n",
       "      <td>South Asia</td>\n",
       "      <td>Low income</td>\n",
       "      <td>AF</td>\n",
       "      <td>...</td>\n",
       "      <td>General Data Dissemination System (GDDS)</td>\n",
       "      <td>1979</td>\n",
       "      <td>Multiple Indicator Cluster Survey (MICS), 2010/11</td>\n",
       "      <td>Integrated household survey (IHS), 2008</td>\n",
       "      <td>NaN</td>\n",
       "      <td>2013/14</td>\n",
       "      <td>NaN</td>\n",
       "      <td>2012.0</td>\n",
       "      <td>2000</td>\n",
       "      <td>NaN</td>\n",
       "    </tr>\n",
       "    <tr>\n",
       "      <th>2</th>\n",
       "      <td>AGO</td>\n",
       "      <td>Angola</td>\n",
       "      <td>Angola</td>\n",
       "      <td>People's Republic of Angola</td>\n",
       "      <td>AO</td>\n",
       "      <td>Angolan kwanza</td>\n",
       "      <td>April 2013 database update: Based on IMF data,...</td>\n",
       "      <td>Sub-Saharan Africa</td>\n",
       "      <td>Upper middle income</td>\n",
       "      <td>AO</td>\n",
       "      <td>...</td>\n",
       "      <td>General Data Dissemination System (GDDS)</td>\n",
       "      <td>1970</td>\n",
       "      <td>Malaria Indicator Survey (MIS), 2011</td>\n",
       "      <td>Integrated household survey (IHS), 2008</td>\n",
       "      <td>NaN</td>\n",
       "      <td>2015</td>\n",
       "      <td>NaN</td>\n",
       "      <td>NaN</td>\n",
       "      <td>2005</td>\n",
       "      <td>NaN</td>\n",
       "    </tr>\n",
       "    <tr>\n",
       "      <th>3</th>\n",
       "      <td>ALB</td>\n",
       "      <td>Albania</td>\n",
       "      <td>Albania</td>\n",
       "      <td>Republic of Albania</td>\n",
       "      <td>AL</td>\n",
       "      <td>Albanian lek</td>\n",
       "      <td>NaN</td>\n",
       "      <td>Europe &amp; Central Asia</td>\n",
       "      <td>Upper middle income</td>\n",
       "      <td>AL</td>\n",
       "      <td>...</td>\n",
       "      <td>General Data Dissemination System (GDDS)</td>\n",
       "      <td>2011</td>\n",
       "      <td>Demographic and Health Survey (DHS), 2008/09</td>\n",
       "      <td>Living Standards Measurement Study Survey (LSM...</td>\n",
       "      <td>Yes</td>\n",
       "      <td>2012</td>\n",
       "      <td>2010.0</td>\n",
       "      <td>2012.0</td>\n",
       "      <td>2006</td>\n",
       "      <td>NaN</td>\n",
       "    </tr>\n",
       "    <tr>\n",
       "      <th>4</th>\n",
       "      <td>AND</td>\n",
       "      <td>Andorra</td>\n",
       "      <td>Andorra</td>\n",
       "      <td>Principality of Andorra</td>\n",
       "      <td>AD</td>\n",
       "      <td>Euro</td>\n",
       "      <td>NaN</td>\n",
       "      <td>Europe &amp; Central Asia</td>\n",
       "      <td>High income: nonOECD</td>\n",
       "      <td>AD</td>\n",
       "      <td>...</td>\n",
       "      <td>NaN</td>\n",
       "      <td>2011. Population figures compiled from adminis...</td>\n",
       "      <td>NaN</td>\n",
       "      <td>NaN</td>\n",
       "      <td>Yes</td>\n",
       "      <td>NaN</td>\n",
       "      <td>NaN</td>\n",
       "      <td>2006.0</td>\n",
       "      <td>NaN</td>\n",
       "      <td>NaN</td>\n",
       "    </tr>\n",
       "  </tbody>\n",
       "</table>\n",
       "<p>5 rows × 32 columns</p>\n",
       "</div>"
      ],
      "text/plain": [
       "  Country Code   Short Name   Table Name                     Long Name  \\\n",
       "0          ABW        Aruba        Aruba                         Aruba   \n",
       "1          AFG  Afghanistan  Afghanistan  Islamic State of Afghanistan   \n",
       "2          AGO       Angola       Angola   People's Republic of Angola   \n",
       "3          ALB      Albania      Albania           Republic of Albania   \n",
       "4          AND      Andorra      Andorra       Principality of Andorra   \n",
       "\n",
       "  2-alpha code   Currency Unit  \\\n",
       "0           AW   Aruban florin   \n",
       "1           AF  Afghan afghani   \n",
       "2           AO  Angolan kwanza   \n",
       "3           AL    Albanian lek   \n",
       "4           AD            Euro   \n",
       "\n",
       "                                       Special Notes  \\\n",
       "0  SNA data for 2000-2011 are updated from offici...   \n",
       "1  Fiscal year end: March 20; reporting period fo...   \n",
       "2  April 2013 database update: Based on IMF data,...   \n",
       "3                                                NaN   \n",
       "4                                                NaN   \n",
       "\n",
       "                      Region          Income Group WB-2 code  ...  \\\n",
       "0  Latin America & Caribbean  High income: nonOECD        AW  ...   \n",
       "1                 South Asia            Low income        AF  ...   \n",
       "2         Sub-Saharan Africa   Upper middle income        AO  ...   \n",
       "3      Europe & Central Asia   Upper middle income        AL  ...   \n",
       "4      Europe & Central Asia  High income: nonOECD        AD  ...   \n",
       "\n",
       "            IMF data dissemination standard  \\\n",
       "0                                       NaN   \n",
       "1  General Data Dissemination System (GDDS)   \n",
       "2  General Data Dissemination System (GDDS)   \n",
       "3  General Data Dissemination System (GDDS)   \n",
       "4                                       NaN   \n",
       "\n",
       "                            Latest population census  \\\n",
       "0                                               2010   \n",
       "1                                               1979   \n",
       "2                                               1970   \n",
       "3                                               2011   \n",
       "4  2011. Population figures compiled from adminis...   \n",
       "\n",
       "                             Latest household survey  \\\n",
       "0                                                NaN   \n",
       "1  Multiple Indicator Cluster Survey (MICS), 2010/11   \n",
       "2               Malaria Indicator Survey (MIS), 2011   \n",
       "3       Demographic and Health Survey (DHS), 2008/09   \n",
       "4                                                NaN   \n",
       "\n",
       "   Source of most recent Income and expenditure data  \\\n",
       "0                                                NaN   \n",
       "1            Integrated household survey (IHS), 2008   \n",
       "2            Integrated household survey (IHS), 2008   \n",
       "3  Living Standards Measurement Study Survey (LSM...   \n",
       "4                                                NaN   \n",
       "\n",
       "  Vital registration complete Latest agricultural census  \\\n",
       "0                         Yes                        NaN   \n",
       "1                         NaN                    2013/14   \n",
       "2                         NaN                       2015   \n",
       "3                         Yes                       2012   \n",
       "4                         Yes                        NaN   \n",
       "\n",
       "  Latest industrial data Latest trade data Latest water withdrawal data  \\\n",
       "0                    NaN            2012.0                          NaN   \n",
       "1                    NaN            2012.0                         2000   \n",
       "2                    NaN               NaN                         2005   \n",
       "3                 2010.0            2012.0                         2006   \n",
       "4                    NaN            2006.0                          NaN   \n",
       "\n",
       "  Unnamed: 31  \n",
       "0         NaN  \n",
       "1         NaN  \n",
       "2         NaN  \n",
       "3         NaN  \n",
       "4         NaN  \n",
       "\n",
       "[5 rows x 32 columns]"
      ]
     },
     "execution_count": 682,
     "metadata": {},
     "output_type": "execute_result"
    }
   ],
   "source": [
    "df_country.head()"
   ]
  },
  {
   "cell_type": "code",
   "execution_count": 683,
   "id": "5c48d0b5-425b-40df-9671-02eabdf38c74",
   "metadata": {},
   "outputs": [
    {
     "data": {
      "text/html": [
       "<div>\n",
       "<style scoped>\n",
       "    .dataframe tbody tr th:only-of-type {\n",
       "        vertical-align: middle;\n",
       "    }\n",
       "\n",
       "    .dataframe tbody tr th {\n",
       "        vertical-align: top;\n",
       "    }\n",
       "\n",
       "    .dataframe thead th {\n",
       "        text-align: right;\n",
       "    }\n",
       "</style>\n",
       "<table border=\"1\" class=\"dataframe\">\n",
       "  <thead>\n",
       "    <tr style=\"text-align: right;\">\n",
       "      <th></th>\n",
       "      <th>Country Name</th>\n",
       "      <th>Country Code</th>\n",
       "      <th>Indicator Name</th>\n",
       "      <th>Indicator Code</th>\n",
       "      <th>1970</th>\n",
       "      <th>1971</th>\n",
       "      <th>1972</th>\n",
       "      <th>1973</th>\n",
       "      <th>1974</th>\n",
       "      <th>1975</th>\n",
       "      <th>...</th>\n",
       "      <th>2060</th>\n",
       "      <th>2065</th>\n",
       "      <th>2070</th>\n",
       "      <th>2075</th>\n",
       "      <th>2080</th>\n",
       "      <th>2085</th>\n",
       "      <th>2090</th>\n",
       "      <th>2095</th>\n",
       "      <th>2100</th>\n",
       "      <th>Unnamed: 69</th>\n",
       "    </tr>\n",
       "  </thead>\n",
       "  <tbody>\n",
       "    <tr>\n",
       "      <th>0</th>\n",
       "      <td>Arab World</td>\n",
       "      <td>ARB</td>\n",
       "      <td>Adjusted net enrolment rate, lower secondary, ...</td>\n",
       "      <td>UIS.NERA.2</td>\n",
       "      <td>NaN</td>\n",
       "      <td>NaN</td>\n",
       "      <td>NaN</td>\n",
       "      <td>NaN</td>\n",
       "      <td>NaN</td>\n",
       "      <td>NaN</td>\n",
       "      <td>...</td>\n",
       "      <td>NaN</td>\n",
       "      <td>NaN</td>\n",
       "      <td>NaN</td>\n",
       "      <td>NaN</td>\n",
       "      <td>NaN</td>\n",
       "      <td>NaN</td>\n",
       "      <td>NaN</td>\n",
       "      <td>NaN</td>\n",
       "      <td>NaN</td>\n",
       "      <td>NaN</td>\n",
       "    </tr>\n",
       "    <tr>\n",
       "      <th>1</th>\n",
       "      <td>Arab World</td>\n",
       "      <td>ARB</td>\n",
       "      <td>Adjusted net enrolment rate, lower secondary, ...</td>\n",
       "      <td>UIS.NERA.2.F</td>\n",
       "      <td>NaN</td>\n",
       "      <td>NaN</td>\n",
       "      <td>NaN</td>\n",
       "      <td>NaN</td>\n",
       "      <td>NaN</td>\n",
       "      <td>NaN</td>\n",
       "      <td>...</td>\n",
       "      <td>NaN</td>\n",
       "      <td>NaN</td>\n",
       "      <td>NaN</td>\n",
       "      <td>NaN</td>\n",
       "      <td>NaN</td>\n",
       "      <td>NaN</td>\n",
       "      <td>NaN</td>\n",
       "      <td>NaN</td>\n",
       "      <td>NaN</td>\n",
       "      <td>NaN</td>\n",
       "    </tr>\n",
       "    <tr>\n",
       "      <th>2</th>\n",
       "      <td>Arab World</td>\n",
       "      <td>ARB</td>\n",
       "      <td>Adjusted net enrolment rate, lower secondary, ...</td>\n",
       "      <td>UIS.NERA.2.GPI</td>\n",
       "      <td>NaN</td>\n",
       "      <td>NaN</td>\n",
       "      <td>NaN</td>\n",
       "      <td>NaN</td>\n",
       "      <td>NaN</td>\n",
       "      <td>NaN</td>\n",
       "      <td>...</td>\n",
       "      <td>NaN</td>\n",
       "      <td>NaN</td>\n",
       "      <td>NaN</td>\n",
       "      <td>NaN</td>\n",
       "      <td>NaN</td>\n",
       "      <td>NaN</td>\n",
       "      <td>NaN</td>\n",
       "      <td>NaN</td>\n",
       "      <td>NaN</td>\n",
       "      <td>NaN</td>\n",
       "    </tr>\n",
       "    <tr>\n",
       "      <th>3</th>\n",
       "      <td>Arab World</td>\n",
       "      <td>ARB</td>\n",
       "      <td>Adjusted net enrolment rate, lower secondary, ...</td>\n",
       "      <td>UIS.NERA.2.M</td>\n",
       "      <td>NaN</td>\n",
       "      <td>NaN</td>\n",
       "      <td>NaN</td>\n",
       "      <td>NaN</td>\n",
       "      <td>NaN</td>\n",
       "      <td>NaN</td>\n",
       "      <td>...</td>\n",
       "      <td>NaN</td>\n",
       "      <td>NaN</td>\n",
       "      <td>NaN</td>\n",
       "      <td>NaN</td>\n",
       "      <td>NaN</td>\n",
       "      <td>NaN</td>\n",
       "      <td>NaN</td>\n",
       "      <td>NaN</td>\n",
       "      <td>NaN</td>\n",
       "      <td>NaN</td>\n",
       "    </tr>\n",
       "    <tr>\n",
       "      <th>4</th>\n",
       "      <td>Arab World</td>\n",
       "      <td>ARB</td>\n",
       "      <td>Adjusted net enrolment rate, primary, both sex...</td>\n",
       "      <td>SE.PRM.TENR</td>\n",
       "      <td>54.822121</td>\n",
       "      <td>54.894138</td>\n",
       "      <td>56.209438</td>\n",
       "      <td>57.267109</td>\n",
       "      <td>57.991138</td>\n",
       "      <td>59.36554</td>\n",
       "      <td>...</td>\n",
       "      <td>NaN</td>\n",
       "      <td>NaN</td>\n",
       "      <td>NaN</td>\n",
       "      <td>NaN</td>\n",
       "      <td>NaN</td>\n",
       "      <td>NaN</td>\n",
       "      <td>NaN</td>\n",
       "      <td>NaN</td>\n",
       "      <td>NaN</td>\n",
       "      <td>NaN</td>\n",
       "    </tr>\n",
       "  </tbody>\n",
       "</table>\n",
       "<p>5 rows × 70 columns</p>\n",
       "</div>"
      ],
      "text/plain": [
       "  Country Name Country Code  \\\n",
       "0   Arab World          ARB   \n",
       "1   Arab World          ARB   \n",
       "2   Arab World          ARB   \n",
       "3   Arab World          ARB   \n",
       "4   Arab World          ARB   \n",
       "\n",
       "                                      Indicator Name  Indicator Code  \\\n",
       "0  Adjusted net enrolment rate, lower secondary, ...      UIS.NERA.2   \n",
       "1  Adjusted net enrolment rate, lower secondary, ...    UIS.NERA.2.F   \n",
       "2  Adjusted net enrolment rate, lower secondary, ...  UIS.NERA.2.GPI   \n",
       "3  Adjusted net enrolment rate, lower secondary, ...    UIS.NERA.2.M   \n",
       "4  Adjusted net enrolment rate, primary, both sex...     SE.PRM.TENR   \n",
       "\n",
       "        1970       1971       1972       1973       1974      1975  ...  2060  \\\n",
       "0        NaN        NaN        NaN        NaN        NaN       NaN  ...   NaN   \n",
       "1        NaN        NaN        NaN        NaN        NaN       NaN  ...   NaN   \n",
       "2        NaN        NaN        NaN        NaN        NaN       NaN  ...   NaN   \n",
       "3        NaN        NaN        NaN        NaN        NaN       NaN  ...   NaN   \n",
       "4  54.822121  54.894138  56.209438  57.267109  57.991138  59.36554  ...   NaN   \n",
       "\n",
       "   2065  2070  2075  2080  2085  2090  2095  2100  Unnamed: 69  \n",
       "0   NaN   NaN   NaN   NaN   NaN   NaN   NaN   NaN          NaN  \n",
       "1   NaN   NaN   NaN   NaN   NaN   NaN   NaN   NaN          NaN  \n",
       "2   NaN   NaN   NaN   NaN   NaN   NaN   NaN   NaN          NaN  \n",
       "3   NaN   NaN   NaN   NaN   NaN   NaN   NaN   NaN          NaN  \n",
       "4   NaN   NaN   NaN   NaN   NaN   NaN   NaN   NaN          NaN  \n",
       "\n",
       "[5 rows x 70 columns]"
      ]
     },
     "execution_count": 683,
     "metadata": {},
     "output_type": "execute_result"
    }
   ],
   "source": [
    "df_data.head()"
   ]
  },
  {
   "cell_type": "code",
   "execution_count": 684,
   "id": "31eb9def-fe2a-4561-ace1-e2d60525cb1b",
   "metadata": {},
   "outputs": [
    {
     "data": {
      "text/html": [
       "<div>\n",
       "<style scoped>\n",
       "    .dataframe tbody tr th:only-of-type {\n",
       "        vertical-align: middle;\n",
       "    }\n",
       "\n",
       "    .dataframe tbody tr th {\n",
       "        vertical-align: top;\n",
       "    }\n",
       "\n",
       "    .dataframe thead th {\n",
       "        text-align: right;\n",
       "    }\n",
       "</style>\n",
       "<table border=\"1\" class=\"dataframe\">\n",
       "  <thead>\n",
       "    <tr style=\"text-align: right;\">\n",
       "      <th></th>\n",
       "      <th>CountryCode</th>\n",
       "      <th>SeriesCode</th>\n",
       "      <th>Year</th>\n",
       "      <th>DESCRIPTION</th>\n",
       "      <th>Unnamed: 4</th>\n",
       "    </tr>\n",
       "  </thead>\n",
       "  <tbody>\n",
       "    <tr>\n",
       "      <th>0</th>\n",
       "      <td>ABW</td>\n",
       "      <td>SE.PRE.ENRL.FE</td>\n",
       "      <td>YR2001</td>\n",
       "      <td>Country estimation.</td>\n",
       "      <td>NaN</td>\n",
       "    </tr>\n",
       "    <tr>\n",
       "      <th>1</th>\n",
       "      <td>ABW</td>\n",
       "      <td>SE.TER.TCHR.FE</td>\n",
       "      <td>YR2005</td>\n",
       "      <td>Country estimation.</td>\n",
       "      <td>NaN</td>\n",
       "    </tr>\n",
       "    <tr>\n",
       "      <th>2</th>\n",
       "      <td>ABW</td>\n",
       "      <td>SE.PRE.TCHR.FE</td>\n",
       "      <td>YR2000</td>\n",
       "      <td>Country estimation.</td>\n",
       "      <td>NaN</td>\n",
       "    </tr>\n",
       "    <tr>\n",
       "      <th>3</th>\n",
       "      <td>ABW</td>\n",
       "      <td>SE.SEC.ENRL.GC</td>\n",
       "      <td>YR2004</td>\n",
       "      <td>Country estimation.</td>\n",
       "      <td>NaN</td>\n",
       "    </tr>\n",
       "    <tr>\n",
       "      <th>4</th>\n",
       "      <td>ABW</td>\n",
       "      <td>SE.PRE.TCHR</td>\n",
       "      <td>YR2006</td>\n",
       "      <td>Country estimation.</td>\n",
       "      <td>NaN</td>\n",
       "    </tr>\n",
       "  </tbody>\n",
       "</table>\n",
       "</div>"
      ],
      "text/plain": [
       "  CountryCode      SeriesCode    Year          DESCRIPTION  Unnamed: 4\n",
       "0         ABW  SE.PRE.ENRL.FE  YR2001  Country estimation.         NaN\n",
       "1         ABW  SE.TER.TCHR.FE  YR2005  Country estimation.         NaN\n",
       "2         ABW  SE.PRE.TCHR.FE  YR2000  Country estimation.         NaN\n",
       "3         ABW  SE.SEC.ENRL.GC  YR2004  Country estimation.         NaN\n",
       "4         ABW     SE.PRE.TCHR  YR2006  Country estimation.         NaN"
      ]
     },
     "execution_count": 684,
     "metadata": {},
     "output_type": "execute_result"
    }
   ],
   "source": [
    "df_foot.head()"
   ]
  },
  {
   "cell_type": "code",
   "execution_count": 685,
   "id": "28893795-f129-459e-a536-a3b053b8de8c",
   "metadata": {
    "scrolled": true
   },
   "outputs": [
    {
     "data": {
      "text/html": [
       "<div>\n",
       "<style scoped>\n",
       "    .dataframe tbody tr th:only-of-type {\n",
       "        vertical-align: middle;\n",
       "    }\n",
       "\n",
       "    .dataframe tbody tr th {\n",
       "        vertical-align: top;\n",
       "    }\n",
       "\n",
       "    .dataframe thead th {\n",
       "        text-align: right;\n",
       "    }\n",
       "</style>\n",
       "<table border=\"1\" class=\"dataframe\">\n",
       "  <thead>\n",
       "    <tr style=\"text-align: right;\">\n",
       "      <th></th>\n",
       "      <th>Series Code</th>\n",
       "      <th>Topic</th>\n",
       "      <th>Indicator Name</th>\n",
       "      <th>Short definition</th>\n",
       "      <th>Long definition</th>\n",
       "      <th>Unit of measure</th>\n",
       "      <th>Periodicity</th>\n",
       "      <th>Base Period</th>\n",
       "      <th>Other notes</th>\n",
       "      <th>Aggregation method</th>\n",
       "      <th>...</th>\n",
       "      <th>Notes from original source</th>\n",
       "      <th>General comments</th>\n",
       "      <th>Source</th>\n",
       "      <th>Statistical concept and methodology</th>\n",
       "      <th>Development relevance</th>\n",
       "      <th>Related source links</th>\n",
       "      <th>Other web links</th>\n",
       "      <th>Related indicators</th>\n",
       "      <th>License Type</th>\n",
       "      <th>Unnamed: 20</th>\n",
       "    </tr>\n",
       "  </thead>\n",
       "  <tbody>\n",
       "    <tr>\n",
       "      <th>0</th>\n",
       "      <td>BAR.NOED.1519.FE.ZS</td>\n",
       "      <td>Attainment</td>\n",
       "      <td>Barro-Lee: Percentage of female population age...</td>\n",
       "      <td>Percentage of female population age 15-19 with...</td>\n",
       "      <td>Percentage of female population age 15-19 with...</td>\n",
       "      <td>NaN</td>\n",
       "      <td>NaN</td>\n",
       "      <td>NaN</td>\n",
       "      <td>NaN</td>\n",
       "      <td>NaN</td>\n",
       "      <td>...</td>\n",
       "      <td>NaN</td>\n",
       "      <td>NaN</td>\n",
       "      <td>Robert J. Barro and Jong-Wha Lee: http://www.b...</td>\n",
       "      <td>NaN</td>\n",
       "      <td>NaN</td>\n",
       "      <td>NaN</td>\n",
       "      <td>NaN</td>\n",
       "      <td>NaN</td>\n",
       "      <td>NaN</td>\n",
       "      <td>NaN</td>\n",
       "    </tr>\n",
       "    <tr>\n",
       "      <th>1</th>\n",
       "      <td>BAR.NOED.1519.ZS</td>\n",
       "      <td>Attainment</td>\n",
       "      <td>Barro-Lee: Percentage of population age 15-19 ...</td>\n",
       "      <td>Percentage of population age 15-19 with no edu...</td>\n",
       "      <td>Percentage of population age 15-19 with no edu...</td>\n",
       "      <td>NaN</td>\n",
       "      <td>NaN</td>\n",
       "      <td>NaN</td>\n",
       "      <td>NaN</td>\n",
       "      <td>NaN</td>\n",
       "      <td>...</td>\n",
       "      <td>NaN</td>\n",
       "      <td>NaN</td>\n",
       "      <td>Robert J. Barro and Jong-Wha Lee: http://www.b...</td>\n",
       "      <td>NaN</td>\n",
       "      <td>NaN</td>\n",
       "      <td>NaN</td>\n",
       "      <td>NaN</td>\n",
       "      <td>NaN</td>\n",
       "      <td>NaN</td>\n",
       "      <td>NaN</td>\n",
       "    </tr>\n",
       "    <tr>\n",
       "      <th>2</th>\n",
       "      <td>BAR.NOED.15UP.FE.ZS</td>\n",
       "      <td>Attainment</td>\n",
       "      <td>Barro-Lee: Percentage of female population age...</td>\n",
       "      <td>Percentage of female population age 15+ with n...</td>\n",
       "      <td>Percentage of female population age 15+ with n...</td>\n",
       "      <td>NaN</td>\n",
       "      <td>NaN</td>\n",
       "      <td>NaN</td>\n",
       "      <td>NaN</td>\n",
       "      <td>NaN</td>\n",
       "      <td>...</td>\n",
       "      <td>NaN</td>\n",
       "      <td>NaN</td>\n",
       "      <td>Robert J. Barro and Jong-Wha Lee: http://www.b...</td>\n",
       "      <td>NaN</td>\n",
       "      <td>NaN</td>\n",
       "      <td>NaN</td>\n",
       "      <td>NaN</td>\n",
       "      <td>NaN</td>\n",
       "      <td>NaN</td>\n",
       "      <td>NaN</td>\n",
       "    </tr>\n",
       "    <tr>\n",
       "      <th>3</th>\n",
       "      <td>BAR.NOED.15UP.ZS</td>\n",
       "      <td>Attainment</td>\n",
       "      <td>Barro-Lee: Percentage of population age 15+ wi...</td>\n",
       "      <td>Percentage of population age 15+ with no educa...</td>\n",
       "      <td>Percentage of population age 15+ with no educa...</td>\n",
       "      <td>NaN</td>\n",
       "      <td>NaN</td>\n",
       "      <td>NaN</td>\n",
       "      <td>NaN</td>\n",
       "      <td>NaN</td>\n",
       "      <td>...</td>\n",
       "      <td>NaN</td>\n",
       "      <td>NaN</td>\n",
       "      <td>Robert J. Barro and Jong-Wha Lee: http://www.b...</td>\n",
       "      <td>NaN</td>\n",
       "      <td>NaN</td>\n",
       "      <td>NaN</td>\n",
       "      <td>NaN</td>\n",
       "      <td>NaN</td>\n",
       "      <td>NaN</td>\n",
       "      <td>NaN</td>\n",
       "    </tr>\n",
       "    <tr>\n",
       "      <th>4</th>\n",
       "      <td>BAR.NOED.2024.FE.ZS</td>\n",
       "      <td>Attainment</td>\n",
       "      <td>Barro-Lee: Percentage of female population age...</td>\n",
       "      <td>Percentage of female population age 20-24 with...</td>\n",
       "      <td>Percentage of female population age 20-24 with...</td>\n",
       "      <td>NaN</td>\n",
       "      <td>NaN</td>\n",
       "      <td>NaN</td>\n",
       "      <td>NaN</td>\n",
       "      <td>NaN</td>\n",
       "      <td>...</td>\n",
       "      <td>NaN</td>\n",
       "      <td>NaN</td>\n",
       "      <td>Robert J. Barro and Jong-Wha Lee: http://www.b...</td>\n",
       "      <td>NaN</td>\n",
       "      <td>NaN</td>\n",
       "      <td>NaN</td>\n",
       "      <td>NaN</td>\n",
       "      <td>NaN</td>\n",
       "      <td>NaN</td>\n",
       "      <td>NaN</td>\n",
       "    </tr>\n",
       "  </tbody>\n",
       "</table>\n",
       "<p>5 rows × 21 columns</p>\n",
       "</div>"
      ],
      "text/plain": [
       "           Series Code       Topic  \\\n",
       "0  BAR.NOED.1519.FE.ZS  Attainment   \n",
       "1     BAR.NOED.1519.ZS  Attainment   \n",
       "2  BAR.NOED.15UP.FE.ZS  Attainment   \n",
       "3     BAR.NOED.15UP.ZS  Attainment   \n",
       "4  BAR.NOED.2024.FE.ZS  Attainment   \n",
       "\n",
       "                                      Indicator Name  \\\n",
       "0  Barro-Lee: Percentage of female population age...   \n",
       "1  Barro-Lee: Percentage of population age 15-19 ...   \n",
       "2  Barro-Lee: Percentage of female population age...   \n",
       "3  Barro-Lee: Percentage of population age 15+ wi...   \n",
       "4  Barro-Lee: Percentage of female population age...   \n",
       "\n",
       "                                    Short definition  \\\n",
       "0  Percentage of female population age 15-19 with...   \n",
       "1  Percentage of population age 15-19 with no edu...   \n",
       "2  Percentage of female population age 15+ with n...   \n",
       "3  Percentage of population age 15+ with no educa...   \n",
       "4  Percentage of female population age 20-24 with...   \n",
       "\n",
       "                                     Long definition  Unit of measure  \\\n",
       "0  Percentage of female population age 15-19 with...              NaN   \n",
       "1  Percentage of population age 15-19 with no edu...              NaN   \n",
       "2  Percentage of female population age 15+ with n...              NaN   \n",
       "3  Percentage of population age 15+ with no educa...              NaN   \n",
       "4  Percentage of female population age 20-24 with...              NaN   \n",
       "\n",
       "  Periodicity Base Period Other notes Aggregation method  ...  \\\n",
       "0         NaN         NaN         NaN                NaN  ...   \n",
       "1         NaN         NaN         NaN                NaN  ...   \n",
       "2         NaN         NaN         NaN                NaN  ...   \n",
       "3         NaN         NaN         NaN                NaN  ...   \n",
       "4         NaN         NaN         NaN                NaN  ...   \n",
       "\n",
       "  Notes from original source  General comments  \\\n",
       "0                        NaN               NaN   \n",
       "1                        NaN               NaN   \n",
       "2                        NaN               NaN   \n",
       "3                        NaN               NaN   \n",
       "4                        NaN               NaN   \n",
       "\n",
       "                                              Source  \\\n",
       "0  Robert J. Barro and Jong-Wha Lee: http://www.b...   \n",
       "1  Robert J. Barro and Jong-Wha Lee: http://www.b...   \n",
       "2  Robert J. Barro and Jong-Wha Lee: http://www.b...   \n",
       "3  Robert J. Barro and Jong-Wha Lee: http://www.b...   \n",
       "4  Robert J. Barro and Jong-Wha Lee: http://www.b...   \n",
       "\n",
       "  Statistical concept and methodology Development relevance  \\\n",
       "0                                 NaN                   NaN   \n",
       "1                                 NaN                   NaN   \n",
       "2                                 NaN                   NaN   \n",
       "3                                 NaN                   NaN   \n",
       "4                                 NaN                   NaN   \n",
       "\n",
       "  Related source links Other web links  Related indicators  License Type  \\\n",
       "0                  NaN             NaN                 NaN           NaN   \n",
       "1                  NaN             NaN                 NaN           NaN   \n",
       "2                  NaN             NaN                 NaN           NaN   \n",
       "3                  NaN             NaN                 NaN           NaN   \n",
       "4                  NaN             NaN                 NaN           NaN   \n",
       "\n",
       "   Unnamed: 20  \n",
       "0          NaN  \n",
       "1          NaN  \n",
       "2          NaN  \n",
       "3          NaN  \n",
       "4          NaN  \n",
       "\n",
       "[5 rows x 21 columns]"
      ]
     },
     "execution_count": 685,
     "metadata": {},
     "output_type": "execute_result"
    }
   ],
   "source": [
    "df_stat_series.head()"
   ]
  },
  {
   "cell_type": "markdown",
   "id": "5ecd6da6-85e4-4be4-90d9-1bf6dfc9fb51",
   "metadata": {},
   "source": [
    "# <span style=\"color:blue\">ÉTAPE 2: COLLECTER LES INFOS BASIQUES SUR CHAQUE JEUX DE DONNÉES</span>"
   ]
  },
  {
   "cell_type": "markdown",
   "id": "b2e6c657-3110-485e-b2d6-b501b53a7dc2",
   "metadata": {},
   "source": [
    "## 1)Définir ce que représente une ligne: Calculez le nombre de lignes et de colonnes\n",
    "## 2) Calculez le nombre de doublons dans le jeu de données.\n",
    "## 3) Supprimez les doublons s’il y en a.\n",
    "## 4) Calculez la proportion de valeurs manquantes par colonne.\n",
    "## 5) Supprimez les colonnes inutilisables.\n",
    "## 6) Pour les colonnes numériques : calculez les statistiques descriptives basiques en utilisant describe().\n",
    "## 7) Pour les colonnes catégorielles : calculez le nombre d'occurrences de chaque valeur possible de la colonne."
   ]
  },
  {
   "cell_type": "markdown",
   "id": "2d51f335-8206-44f9-9688-edc8be629a4d",
   "metadata": {},
   "source": [
    "### <span style=\"color:violet\"> DATA FRAME SERIES</span>"
   ]
  },
  {
   "cell_type": "code",
   "execution_count": 686,
   "id": "b44f6d24-7ed6-4a00-bdd9-2555c54fb07a",
   "metadata": {},
   "outputs": [
    {
     "data": {
      "text/plain": [
       "Index(['CountryCode', 'SeriesCode', 'DESCRIPTION', 'Unnamed: 3'], dtype='object')"
      ]
     },
     "execution_count": 686,
     "metadata": {},
     "output_type": "execute_result"
    }
   ],
   "source": [
    "df_series.columns"
   ]
  },
  {
   "cell_type": "code",
   "execution_count": 687,
   "id": "270c4f95-f0cc-42f3-8613-385640f29a37",
   "metadata": {},
   "outputs": [
    {
     "data": {
      "text/plain": [
       "Index(['Country Name', 'Country Code', 'Indicator Name', 'Indicator Code',\n",
       "       '1970', '1971', '1972', '1973', '1974', '1975', '1976', '1977', '1978',\n",
       "       '1979', '1980', '1981', '1982', '1983', '1984', '1985', '1986', '1987',\n",
       "       '1988', '1989', '1990', '1991', '1992', '1993', '1994', '1995', '1996',\n",
       "       '1997', '1998', '1999', '2000', '2001', '2002', '2003', '2004', '2005',\n",
       "       '2006', '2007', '2008', '2009', '2010', '2011', '2012', '2013', '2014',\n",
       "       '2015', '2016', '2017', '2020', '2025', '2030', '2035', '2040', '2045',\n",
       "       '2050', '2055', '2060', '2065', '2070', '2075', '2080', '2085', '2090',\n",
       "       '2095', '2100', 'Unnamed: 69'],\n",
       "      dtype='object')"
      ]
     },
     "execution_count": 687,
     "metadata": {},
     "output_type": "execute_result"
    }
   ],
   "source": [
    "df_data.columns"
   ]
  },
  {
   "cell_type": "code",
   "execution_count": 688,
   "id": "462678b3-8437-4896-a662-9b0b34bdb66a",
   "metadata": {},
   "outputs": [
    {
     "data": {
      "text/plain": [
       "Index(['CountryCode', 'SeriesCode', 'Year', 'DESCRIPTION', 'Unnamed: 4'], dtype='object')"
      ]
     },
     "execution_count": 688,
     "metadata": {},
     "output_type": "execute_result"
    }
   ],
   "source": [
    "df_foot.columns"
   ]
  },
  {
   "cell_type": "code",
   "execution_count": 689,
   "id": "6fde315c-cc74-4549-8ffc-7871f50cade8",
   "metadata": {},
   "outputs": [
    {
     "data": {
      "text/plain": [
       "Index(['Series Code', 'Topic', 'Indicator Name', 'Short definition',\n",
       "       'Long definition', 'Unit of measure', 'Periodicity', 'Base Period',\n",
       "       'Other notes', 'Aggregation method', 'Limitations and exceptions',\n",
       "       'Notes from original source', 'General comments', 'Source',\n",
       "       'Statistical concept and methodology', 'Development relevance',\n",
       "       'Related source links', 'Other web links', 'Related indicators',\n",
       "       'License Type', 'Unnamed: 20'],\n",
       "      dtype='object')"
      ]
     },
     "execution_count": 689,
     "metadata": {},
     "output_type": "execute_result"
    }
   ],
   "source": [
    "df_stat_series.columns"
   ]
  },
  {
   "cell_type": "code",
   "execution_count": 690,
   "id": "c8b7555e-9d48-4901-a7b1-9f58291d754e",
   "metadata": {},
   "outputs": [
    {
     "name": "stdout",
     "output_type": "stream",
     "text": [
      "(613, 4)\n"
     ]
    }
   ],
   "source": [
    "print(df_series.shape)"
   ]
  },
  {
   "cell_type": "code",
   "execution_count": 691,
   "id": "7ba855e5-3a0b-4950-9137-dee04e87e9a9",
   "metadata": {
    "scrolled": true
   },
   "outputs": [
    {
     "name": "stdout",
     "output_type": "stream",
     "text": [
      "<class 'pandas.core.frame.DataFrame'>\n",
      "RangeIndex: 613 entries, 0 to 612\n",
      "Data columns (total 4 columns):\n",
      " #   Column       Non-Null Count  Dtype  \n",
      "---  ------       --------------  -----  \n",
      " 0   CountryCode  613 non-null    object \n",
      " 1   SeriesCode   613 non-null    object \n",
      " 2   DESCRIPTION  613 non-null    object \n",
      " 3   Unnamed: 3   0 non-null      float64\n",
      "dtypes: float64(1), object(3)\n",
      "memory usage: 19.3+ KB\n",
      "None\n"
     ]
    }
   ],
   "source": [
    "print(df_series.info())"
   ]
  },
  {
   "cell_type": "markdown",
   "id": "3aecfafb-9121-4aff-b3ab-ae5caec3e499",
   "metadata": {},
   "source": [
    "### <span style=\"color:pink\"> Le DF Series contient 613 lignes qui sont numéroté de 0 à 612 et 4 colonnes </span>\n",
    "\n",
    "### <span style=\"color:pink\"> Object(3): Signifie dire que les 3 premières colonnes contiennent 613 valeurs qui sont non null, soit pas vides avec du texte ou chaine de caractères </span>\n",
    "### <span style=\"color:pink\"> Dtypes: float64(1): Signifie que la colonne 'unnamed' peux contenir des valeurs décimales mais qu'elle est vide: je choisi de la supprimer tout de suite, ainsi que les descriptions qui me sont d'aucune utilité pour le projet </span>"
   ]
  },
  {
   "cell_type": "code",
   "execution_count": 692,
   "id": "c86a3e45-be1e-48ab-9516-d9dabe566231",
   "metadata": {},
   "outputs": [],
   "source": [
    "df_series = df_series.drop(columns=['Unnamed: 3'])\n",
    "df_series = df_series.drop(columns=['DESCRIPTION'])"
   ]
  },
  {
   "cell_type": "code",
   "execution_count": 693,
   "id": "bfd965a9-5fa9-4433-808b-befa94331e7d",
   "metadata": {},
   "outputs": [
    {
     "data": {
      "text/html": [
       "<div>\n",
       "<style scoped>\n",
       "    .dataframe tbody tr th:only-of-type {\n",
       "        vertical-align: middle;\n",
       "    }\n",
       "\n",
       "    .dataframe tbody tr th {\n",
       "        vertical-align: top;\n",
       "    }\n",
       "\n",
       "    .dataframe thead th {\n",
       "        text-align: right;\n",
       "    }\n",
       "</style>\n",
       "<table border=\"1\" class=\"dataframe\">\n",
       "  <thead>\n",
       "    <tr style=\"text-align: right;\">\n",
       "      <th></th>\n",
       "      <th>CountryCode</th>\n",
       "      <th>SeriesCode</th>\n",
       "    </tr>\n",
       "  </thead>\n",
       "  <tbody>\n",
       "    <tr>\n",
       "      <th>0</th>\n",
       "      <td>ABW</td>\n",
       "      <td>SP.POP.TOTL</td>\n",
       "    </tr>\n",
       "    <tr>\n",
       "      <th>1</th>\n",
       "      <td>ABW</td>\n",
       "      <td>SP.POP.GROW</td>\n",
       "    </tr>\n",
       "    <tr>\n",
       "      <th>2</th>\n",
       "      <td>AFG</td>\n",
       "      <td>SP.POP.GROW</td>\n",
       "    </tr>\n",
       "    <tr>\n",
       "      <th>3</th>\n",
       "      <td>AFG</td>\n",
       "      <td>NY.GDP.PCAP.PP.CD</td>\n",
       "    </tr>\n",
       "    <tr>\n",
       "      <th>4</th>\n",
       "      <td>AFG</td>\n",
       "      <td>SP.POP.TOTL</td>\n",
       "    </tr>\n",
       "  </tbody>\n",
       "</table>\n",
       "</div>"
      ],
      "text/plain": [
       "  CountryCode         SeriesCode\n",
       "0         ABW        SP.POP.TOTL\n",
       "1         ABW        SP.POP.GROW\n",
       "2         AFG        SP.POP.GROW\n",
       "3         AFG  NY.GDP.PCAP.PP.CD\n",
       "4         AFG        SP.POP.TOTL"
      ]
     },
     "execution_count": 693,
     "metadata": {},
     "output_type": "execute_result"
    }
   ],
   "source": [
    "df_series.head()"
   ]
  },
  {
   "cell_type": "code",
   "execution_count": 694,
   "id": "2597315d-3b56-470a-8db7-12f00b35b09e",
   "metadata": {},
   "outputs": [
    {
     "name": "stdout",
     "output_type": "stream",
     "text": [
      "       CountryCode   SeriesCode\n",
      "count          613          613\n",
      "unique         211           21\n",
      "top            MDA  SP.POP.TOTL\n",
      "freq            18          211\n"
     ]
    }
   ],
   "source": [
    "print(df_series.describe(include='object'))"
   ]
  },
  {
   "cell_type": "markdown",
   "id": "08a7bf16-38c8-4bff-a1fb-3487e2fd8f7b",
   "metadata": {},
   "source": [
    "### <span style=\"color:pink\"> Pour COUNT: Signifie qu'il y a 613 lignes dans chacune des deux colonnes CountryCode et SeriesCode </span>\n",
    "### <span style=\"color:pink\"> Pour UNIQUE : CountryCode: il y a 211 valeurs différentes, donc 211 pays ou zones distincts, SeriesCode: il y a 21 indicateurs différents </span>\n",
    "### <span style=\"color:pink\"> Pour TOP: CountryCode: La valeur la plus fréquente est : MDA (Pays Moldavie) et SeriesCode: SP.POP.TOTL, représente la statistique population totale </span>\n",
    "### <span style=\"color:pink\"> FREQ: signifie que → Le code pays MDA apparaît 18 fois, et SP.POP.TOTL apparaît 211 fois, j'imagine 1 ligne par pays car 211 Country Code </span>\n",
    "### <span style=\"color:pink\"> Je conclue qu'il me manque les indicateurs statistiques chiffrés dans ce DF, tous ceux listés dans SeriesCode (PIB, POP TOTAL, GROW CROISSANCE etc.)"
   ]
  },
  {
   "cell_type": "code",
   "execution_count": 695,
   "id": "39f120e4-204b-48f1-8cac-8260b1bd9164",
   "metadata": {},
   "outputs": [
    {
     "name": "stdout",
     "output_type": "stream",
     "text": [
      "Nombre de doublons : 0\n"
     ]
    }
   ],
   "source": [
    "doublons = df_series.duplicated().sum()\n",
    "print(\"Nombre de doublons :\", doublons)"
   ]
  },
  {
   "cell_type": "code",
   "execution_count": 696,
   "id": "38e2706f-6f97-4d97-a358-907ba5054927",
   "metadata": {
    "scrolled": true
   },
   "outputs": [
    {
     "name": "stdout",
     "output_type": "stream",
     "text": [
      "Nombre de doublons colonne Country et Series : 0\n"
     ]
    }
   ],
   "source": [
    "doublons_colonnes = df_series.duplicated(subset=['CountryCode', 'SeriesCode']).sum()\n",
    "print(\"Nombre de doublons colonne Country et Series :\", doublons)"
   ]
  },
  {
   "cell_type": "markdown",
   "id": "eef349b6-2e2c-43f9-afb2-0575c65c85f7",
   "metadata": {},
   "source": [
    "### <span style=\"color:pink\"> J'ai fait 2 codes, 1 pour trouver des lignes identiques sur toutes les colonnes et 1 autre avec SUBSET, pour savoir si la combinaison CountryCode + SeriesCode est unique, résultat il n'y a pas de doublons je ne supprime plus rien pour ce DF </span>"
   ]
  },
  {
   "cell_type": "code",
   "execution_count": 697,
   "id": "aacdcd7c-c62f-4bb5-975a-3ac9d726d4b4",
   "metadata": {},
   "outputs": [
    {
     "name": "stdout",
     "output_type": "stream",
     "text": [
      "Total de valeurs manquantes : 0\n"
     ]
    }
   ],
   "source": [
    "total_valeurs_manquantes = df_series.isnull().sum().sum()\n",
    "print(\"Total de valeurs manquantes :\", total_valeurs_manquantes)"
   ]
  },
  {
   "cell_type": "markdown",
   "id": "bf04382b-8010-41a2-9b39-fe85fda9889f",
   "metadata": {},
   "source": [
    "### <span style=\"color:pink\"> Il n'y a pas de valeurs manquantes sur ce DF </span>"
   ]
  },
  {
   "cell_type": "code",
   "execution_count": 698,
   "id": "5334a748-16f7-4c33-82ca-ac13c8a19855",
   "metadata": {},
   "outputs": [
    {
     "name": "stdout",
     "output_type": "stream",
     "text": [
      "SeriesCode\n",
      "SP.POP.TOTL          211\n",
      "SP.POP.GROW          211\n",
      "NY.GDP.PCAP.PP.CD     19\n",
      "NY.GDP.PCAP.PP.KD     19\n",
      "NY.GNP.PCAP.PP.CD     19\n",
      "NY.GDP.MKTP.PP.KD     14\n",
      "NY.GNP.MKTP.PP.CD     14\n",
      "NY.GDP.MKTP.PP.CD     14\n",
      "SP.POP.0014.TO.ZS     13\n",
      "SP.POP.TOTL.FE.ZS     13\n",
      "SP.POP.TOTL.MA.ZS     13\n",
      "SP.POP.1564.TO.ZS     13\n",
      "NY.GNP.PCAP.CD         6\n",
      "NY.GDP.PCAP.CD         5\n",
      "NY.GDP.PCAP.KD         5\n",
      "SP.POP.1564.MA.IN      4\n",
      "SP.POP.0014.TO         4\n",
      "SP.POP.1564.TO         4\n",
      "SP.POP.1564.FE.IN      4\n",
      "SP.POP.0014.MA.IN      4\n",
      "SP.POP.0014.FE.IN      4\n",
      "Name: count, dtype: int64\n"
     ]
    }
   ],
   "source": [
    "occurrences_df_series_SeriesCode = df_series['SeriesCode'].value_counts()\n",
    "print(occurrences_df_series_SeriesCode)"
   ]
  },
  {
   "cell_type": "code",
   "execution_count": 699,
   "id": "a08f6af1-442e-478a-8bdc-f3209142e50e",
   "metadata": {},
   "outputs": [
    {
     "name": "stdout",
     "output_type": "stream",
     "text": [
      "CountryCode\n",
      "MDA    18\n",
      "GEO    18\n",
      "CYP    12\n",
      "SRB    12\n",
      "MUS    12\n",
      "       ..\n",
      "GRL     2\n",
      "GTM     2\n",
      "GUM     2\n",
      "HKG     2\n",
      "ZWE     2\n",
      "Name: count, Length: 211, dtype: int64\n"
     ]
    }
   ],
   "source": [
    "occurrences_df_series_CountryCode = df_series['CountryCode'].value_counts()\n",
    "print(occurrences_df_series_CountryCode)"
   ]
  },
  {
   "cell_type": "markdown",
   "id": "a0feb547-0691-49e9-bd8c-b13bd87e77a3",
   "metadata": {},
   "source": [
    "### <span style=\"color:pink\"> J'ai compté le nombre d'occurence d'indicateurs pour la colonne Series et les nombres d'occurence de pays de la colonne Country </span>"
   ]
  },
  {
   "cell_type": "markdown",
   "id": "5265c71e-96a6-4e48-b86f-30bb51d10f0a",
   "metadata": {},
   "source": [
    "### <span style=\"color:violet\"> DATA FRAME COUNTRY</span> "
   ]
  },
  {
   "cell_type": "code",
   "execution_count": 700,
   "id": "f74cd941-ac2f-4bee-b443-ea0828cb762f",
   "metadata": {},
   "outputs": [
    {
     "data": {
      "text/plain": [
       "Index(['Country Code', 'Short Name', 'Table Name', 'Long Name', '2-alpha code',\n",
       "       'Currency Unit', 'Special Notes', 'Region', 'Income Group', 'WB-2 code',\n",
       "       'National accounts base year', 'National accounts reference year',\n",
       "       'SNA price valuation', 'Lending category', 'Other groups',\n",
       "       'System of National Accounts', 'Alternative conversion factor',\n",
       "       'PPP survey year', 'Balance of Payments Manual in use',\n",
       "       'External debt Reporting status', 'System of trade',\n",
       "       'Government Accounting concept', 'IMF data dissemination standard',\n",
       "       'Latest population census', 'Latest household survey',\n",
       "       'Source of most recent Income and expenditure data',\n",
       "       'Vital registration complete', 'Latest agricultural census',\n",
       "       'Latest industrial data', 'Latest trade data',\n",
       "       'Latest water withdrawal data', 'Unnamed: 31'],\n",
       "      dtype='object')"
      ]
     },
     "execution_count": 700,
     "metadata": {},
     "output_type": "execute_result"
    }
   ],
   "source": [
    "df_country.columns"
   ]
  },
  {
   "cell_type": "code",
   "execution_count": 701,
   "id": "e520d1d5-0179-4138-8d19-3fe6161a6db5",
   "metadata": {},
   "outputs": [
    {
     "name": "stdout",
     "output_type": "stream",
     "text": [
      "(241, 32)\n"
     ]
    }
   ],
   "source": [
    "print(df_country.shape)"
   ]
  },
  {
   "cell_type": "code",
   "execution_count": 702,
   "id": "add5cb06-0b3a-4fb5-a88a-5c31c34a9636",
   "metadata": {},
   "outputs": [
    {
     "name": "stdout",
     "output_type": "stream",
     "text": [
      "<class 'pandas.core.frame.DataFrame'>\n",
      "RangeIndex: 241 entries, 0 to 240\n",
      "Data columns (total 32 columns):\n",
      " #   Column                                             Non-Null Count  Dtype  \n",
      "---  ------                                             --------------  -----  \n",
      " 0   Country Code                                       241 non-null    object \n",
      " 1   Short Name                                         241 non-null    object \n",
      " 2   Table Name                                         241 non-null    object \n",
      " 3   Long Name                                          241 non-null    object \n",
      " 4   2-alpha code                                       238 non-null    object \n",
      " 5   Currency Unit                                      215 non-null    object \n",
      " 6   Special Notes                                      145 non-null    object \n",
      " 7   Region                                             214 non-null    object \n",
      " 8   Income Group                                       214 non-null    object \n",
      " 9   WB-2 code                                          240 non-null    object \n",
      " 10  National accounts base year                        205 non-null    object \n",
      " 11  National accounts reference year                   32 non-null     float64\n",
      " 12  SNA price valuation                                197 non-null    object \n",
      " 13  Lending category                                   144 non-null    object \n",
      " 14  Other groups                                       58 non-null     object \n",
      " 15  System of National Accounts                        215 non-null    object \n",
      " 16  Alternative conversion factor                      47 non-null     object \n",
      " 17  PPP survey year                                    145 non-null    object \n",
      " 18  Balance of Payments Manual in use                  181 non-null    object \n",
      " 19  External debt Reporting status                     124 non-null    object \n",
      " 20  System of trade                                    200 non-null    object \n",
      " 21  Government Accounting concept                      161 non-null    object \n",
      " 22  IMF data dissemination standard                    181 non-null    object \n",
      " 23  Latest population census                           213 non-null    object \n",
      " 24  Latest household survey                            141 non-null    object \n",
      " 25  Source of most recent Income and expenditure data  160 non-null    object \n",
      " 26  Vital registration complete                        111 non-null    object \n",
      " 27  Latest agricultural census                         142 non-null    object \n",
      " 28  Latest industrial data                             107 non-null    float64\n",
      " 29  Latest trade data                                  185 non-null    float64\n",
      " 30  Latest water withdrawal data                       179 non-null    object \n",
      " 31  Unnamed: 31                                        0 non-null      float64\n",
      "dtypes: float64(4), object(28)\n",
      "memory usage: 60.4+ KB\n",
      "None\n"
     ]
    }
   ],
   "source": [
    "print(df_country.info())"
   ]
  },
  {
   "cell_type": "markdown",
   "id": "984004ef-6e57-4bc0-af32-08596b0e554d",
   "metadata": {},
   "source": [
    "### <span style=\"color:pink\"> Le DF Country contient 241 lignes qui sont numéroté de 0 à 240 et 32 colonnes </span>\n",
    "### <span style=\"color:pink\"> Object(28): Signifie que 28 colonnes contiennent du texte ou chaine de caractères </span>\n",
    "### <span style=\"color:pink\">float64(4)Signifie que 4 colonnes contiennent des chiffres décimales </span>\n",
    "### <span style=\"color:pink\"> On remarque que la colonne'unnamed'est vide: je choisi de la supprimer tout de suite</span>"
   ]
  },
  {
   "cell_type": "code",
   "execution_count": 703,
   "id": "8707528b-ce37-4f0e-9d48-4fc225b20d86",
   "metadata": {},
   "outputs": [],
   "source": [
    "df_country = df_country.drop(columns=['Unnamed: 31'])"
   ]
  },
  {
   "cell_type": "code",
   "execution_count": 704,
   "id": "365e6164-c5fd-40f9-9a4d-1d8bad04246f",
   "metadata": {},
   "outputs": [
    {
     "data": {
      "text/html": [
       "<div>\n",
       "<style scoped>\n",
       "    .dataframe tbody tr th:only-of-type {\n",
       "        vertical-align: middle;\n",
       "    }\n",
       "\n",
       "    .dataframe tbody tr th {\n",
       "        vertical-align: top;\n",
       "    }\n",
       "\n",
       "    .dataframe thead th {\n",
       "        text-align: right;\n",
       "    }\n",
       "</style>\n",
       "<table border=\"1\" class=\"dataframe\">\n",
       "  <thead>\n",
       "    <tr style=\"text-align: right;\">\n",
       "      <th></th>\n",
       "      <th>Country Code</th>\n",
       "      <th>Short Name</th>\n",
       "      <th>Table Name</th>\n",
       "      <th>Long Name</th>\n",
       "      <th>2-alpha code</th>\n",
       "      <th>Currency Unit</th>\n",
       "      <th>Special Notes</th>\n",
       "      <th>Region</th>\n",
       "      <th>Income Group</th>\n",
       "      <th>WB-2 code</th>\n",
       "      <th>...</th>\n",
       "      <th>Government Accounting concept</th>\n",
       "      <th>IMF data dissemination standard</th>\n",
       "      <th>Latest population census</th>\n",
       "      <th>Latest household survey</th>\n",
       "      <th>Source of most recent Income and expenditure data</th>\n",
       "      <th>Vital registration complete</th>\n",
       "      <th>Latest agricultural census</th>\n",
       "      <th>Latest industrial data</th>\n",
       "      <th>Latest trade data</th>\n",
       "      <th>Latest water withdrawal data</th>\n",
       "    </tr>\n",
       "  </thead>\n",
       "  <tbody>\n",
       "    <tr>\n",
       "      <th>0</th>\n",
       "      <td>ABW</td>\n",
       "      <td>Aruba</td>\n",
       "      <td>Aruba</td>\n",
       "      <td>Aruba</td>\n",
       "      <td>AW</td>\n",
       "      <td>Aruban florin</td>\n",
       "      <td>SNA data for 2000-2011 are updated from offici...</td>\n",
       "      <td>Latin America &amp; Caribbean</td>\n",
       "      <td>High income: nonOECD</td>\n",
       "      <td>AW</td>\n",
       "      <td>...</td>\n",
       "      <td>NaN</td>\n",
       "      <td>NaN</td>\n",
       "      <td>2010</td>\n",
       "      <td>NaN</td>\n",
       "      <td>NaN</td>\n",
       "      <td>Yes</td>\n",
       "      <td>NaN</td>\n",
       "      <td>NaN</td>\n",
       "      <td>2012.0</td>\n",
       "      <td>NaN</td>\n",
       "    </tr>\n",
       "    <tr>\n",
       "      <th>1</th>\n",
       "      <td>AFG</td>\n",
       "      <td>Afghanistan</td>\n",
       "      <td>Afghanistan</td>\n",
       "      <td>Islamic State of Afghanistan</td>\n",
       "      <td>AF</td>\n",
       "      <td>Afghan afghani</td>\n",
       "      <td>Fiscal year end: March 20; reporting period fo...</td>\n",
       "      <td>South Asia</td>\n",
       "      <td>Low income</td>\n",
       "      <td>AF</td>\n",
       "      <td>...</td>\n",
       "      <td>Consolidated central government</td>\n",
       "      <td>General Data Dissemination System (GDDS)</td>\n",
       "      <td>1979</td>\n",
       "      <td>Multiple Indicator Cluster Survey (MICS), 2010/11</td>\n",
       "      <td>Integrated household survey (IHS), 2008</td>\n",
       "      <td>NaN</td>\n",
       "      <td>2013/14</td>\n",
       "      <td>NaN</td>\n",
       "      <td>2012.0</td>\n",
       "      <td>2000</td>\n",
       "    </tr>\n",
       "    <tr>\n",
       "      <th>2</th>\n",
       "      <td>AGO</td>\n",
       "      <td>Angola</td>\n",
       "      <td>Angola</td>\n",
       "      <td>People's Republic of Angola</td>\n",
       "      <td>AO</td>\n",
       "      <td>Angolan kwanza</td>\n",
       "      <td>April 2013 database update: Based on IMF data,...</td>\n",
       "      <td>Sub-Saharan Africa</td>\n",
       "      <td>Upper middle income</td>\n",
       "      <td>AO</td>\n",
       "      <td>...</td>\n",
       "      <td>Budgetary central government</td>\n",
       "      <td>General Data Dissemination System (GDDS)</td>\n",
       "      <td>1970</td>\n",
       "      <td>Malaria Indicator Survey (MIS), 2011</td>\n",
       "      <td>Integrated household survey (IHS), 2008</td>\n",
       "      <td>NaN</td>\n",
       "      <td>2015</td>\n",
       "      <td>NaN</td>\n",
       "      <td>NaN</td>\n",
       "      <td>2005</td>\n",
       "    </tr>\n",
       "    <tr>\n",
       "      <th>3</th>\n",
       "      <td>ALB</td>\n",
       "      <td>Albania</td>\n",
       "      <td>Albania</td>\n",
       "      <td>Republic of Albania</td>\n",
       "      <td>AL</td>\n",
       "      <td>Albanian lek</td>\n",
       "      <td>NaN</td>\n",
       "      <td>Europe &amp; Central Asia</td>\n",
       "      <td>Upper middle income</td>\n",
       "      <td>AL</td>\n",
       "      <td>...</td>\n",
       "      <td>Budgetary central government</td>\n",
       "      <td>General Data Dissemination System (GDDS)</td>\n",
       "      <td>2011</td>\n",
       "      <td>Demographic and Health Survey (DHS), 2008/09</td>\n",
       "      <td>Living Standards Measurement Study Survey (LSM...</td>\n",
       "      <td>Yes</td>\n",
       "      <td>2012</td>\n",
       "      <td>2010.0</td>\n",
       "      <td>2012.0</td>\n",
       "      <td>2006</td>\n",
       "    </tr>\n",
       "    <tr>\n",
       "      <th>4</th>\n",
       "      <td>AND</td>\n",
       "      <td>Andorra</td>\n",
       "      <td>Andorra</td>\n",
       "      <td>Principality of Andorra</td>\n",
       "      <td>AD</td>\n",
       "      <td>Euro</td>\n",
       "      <td>NaN</td>\n",
       "      <td>Europe &amp; Central Asia</td>\n",
       "      <td>High income: nonOECD</td>\n",
       "      <td>AD</td>\n",
       "      <td>...</td>\n",
       "      <td>NaN</td>\n",
       "      <td>NaN</td>\n",
       "      <td>2011. Population figures compiled from adminis...</td>\n",
       "      <td>NaN</td>\n",
       "      <td>NaN</td>\n",
       "      <td>Yes</td>\n",
       "      <td>NaN</td>\n",
       "      <td>NaN</td>\n",
       "      <td>2006.0</td>\n",
       "      <td>NaN</td>\n",
       "    </tr>\n",
       "  </tbody>\n",
       "</table>\n",
       "<p>5 rows × 31 columns</p>\n",
       "</div>"
      ],
      "text/plain": [
       "  Country Code   Short Name   Table Name                     Long Name  \\\n",
       "0          ABW        Aruba        Aruba                         Aruba   \n",
       "1          AFG  Afghanistan  Afghanistan  Islamic State of Afghanistan   \n",
       "2          AGO       Angola       Angola   People's Republic of Angola   \n",
       "3          ALB      Albania      Albania           Republic of Albania   \n",
       "4          AND      Andorra      Andorra       Principality of Andorra   \n",
       "\n",
       "  2-alpha code   Currency Unit  \\\n",
       "0           AW   Aruban florin   \n",
       "1           AF  Afghan afghani   \n",
       "2           AO  Angolan kwanza   \n",
       "3           AL    Albanian lek   \n",
       "4           AD            Euro   \n",
       "\n",
       "                                       Special Notes  \\\n",
       "0  SNA data for 2000-2011 are updated from offici...   \n",
       "1  Fiscal year end: March 20; reporting period fo...   \n",
       "2  April 2013 database update: Based on IMF data,...   \n",
       "3                                                NaN   \n",
       "4                                                NaN   \n",
       "\n",
       "                      Region          Income Group WB-2 code  ...  \\\n",
       "0  Latin America & Caribbean  High income: nonOECD        AW  ...   \n",
       "1                 South Asia            Low income        AF  ...   \n",
       "2         Sub-Saharan Africa   Upper middle income        AO  ...   \n",
       "3      Europe & Central Asia   Upper middle income        AL  ...   \n",
       "4      Europe & Central Asia  High income: nonOECD        AD  ...   \n",
       "\n",
       "     Government Accounting concept           IMF data dissemination standard  \\\n",
       "0                              NaN                                       NaN   \n",
       "1  Consolidated central government  General Data Dissemination System (GDDS)   \n",
       "2     Budgetary central government  General Data Dissemination System (GDDS)   \n",
       "3     Budgetary central government  General Data Dissemination System (GDDS)   \n",
       "4                              NaN                                       NaN   \n",
       "\n",
       "                            Latest population census  \\\n",
       "0                                               2010   \n",
       "1                                               1979   \n",
       "2                                               1970   \n",
       "3                                               2011   \n",
       "4  2011. Population figures compiled from adminis...   \n",
       "\n",
       "                             Latest household survey  \\\n",
       "0                                                NaN   \n",
       "1  Multiple Indicator Cluster Survey (MICS), 2010/11   \n",
       "2               Malaria Indicator Survey (MIS), 2011   \n",
       "3       Demographic and Health Survey (DHS), 2008/09   \n",
       "4                                                NaN   \n",
       "\n",
       "   Source of most recent Income and expenditure data  \\\n",
       "0                                                NaN   \n",
       "1            Integrated household survey (IHS), 2008   \n",
       "2            Integrated household survey (IHS), 2008   \n",
       "3  Living Standards Measurement Study Survey (LSM...   \n",
       "4                                                NaN   \n",
       "\n",
       "  Vital registration complete Latest agricultural census  \\\n",
       "0                         Yes                        NaN   \n",
       "1                         NaN                    2013/14   \n",
       "2                         NaN                       2015   \n",
       "3                         Yes                       2012   \n",
       "4                         Yes                        NaN   \n",
       "\n",
       "  Latest industrial data Latest trade data Latest water withdrawal data  \n",
       "0                    NaN            2012.0                          NaN  \n",
       "1                    NaN            2012.0                         2000  \n",
       "2                    NaN               NaN                         2005  \n",
       "3                 2010.0            2012.0                         2006  \n",
       "4                    NaN            2006.0                          NaN  \n",
       "\n",
       "[5 rows x 31 columns]"
      ]
     },
     "execution_count": 704,
     "metadata": {},
     "output_type": "execute_result"
    }
   ],
   "source": [
    "df_country.head()"
   ]
  },
  {
   "cell_type": "code",
   "execution_count": 705,
   "id": "8234fbcf-3397-4416-bf82-dea9368dbcff",
   "metadata": {},
   "outputs": [],
   "source": [
    "df_country = df_country.drop(columns=['Special Notes'])"
   ]
  },
  {
   "cell_type": "markdown",
   "id": "7ff7ff00-09bf-4906-b6db-881fbe4f4d19",
   "metadata": {},
   "source": [
    "### <span style=\"color:pink\"> Je supprime speciale note qui ne m'est pas utile</span>"
   ]
  },
  {
   "cell_type": "code",
   "execution_count": 706,
   "id": "eab33806-fc17-424e-9fe2-83b6a4ff084a",
   "metadata": {},
   "outputs": [
    {
     "name": "stdout",
     "output_type": "stream",
     "text": [
      "       Country Code Short Name Table Name Long Name 2-alpha code  \\\n",
      "count           241        241        241       241          238   \n",
      "unique          241        241        241       241          238   \n",
      "top             ABW      Aruba      Aruba     Aruba           AW   \n",
      "freq              1          1          1         1            1   \n",
      "\n",
      "       Currency Unit                 Region         Income Group WB-2 code  \\\n",
      "count            215                    214                  214       240   \n",
      "unique           152                      7                    5       240   \n",
      "top             Euro  Europe & Central Asia  Upper middle income        AW   \n",
      "freq              23                     57                   55         1   \n",
      "\n",
      "       National accounts base year  ... External debt Reporting status  \\\n",
      "count                          205  ...                            124   \n",
      "unique                          43  ...                              3   \n",
      "top                           2005  ...                         Actual   \n",
      "freq                            34  ...                            107   \n",
      "\n",
      "             System of trade    Government Accounting concept  \\\n",
      "count                    200                              161   \n",
      "unique                     2                                2   \n",
      "top     General trade system  Consolidated central government   \n",
      "freq                     106                               95   \n",
      "\n",
      "                 IMF data dissemination standard Latest population census  \\\n",
      "count                                        181                      213   \n",
      "unique                                         2                       27   \n",
      "top     General Data Dissemination System (GDDS)                     2011   \n",
      "freq                                         110                       59   \n",
      "\n",
      "                Latest household survey  \\\n",
      "count                               141   \n",
      "unique                               60   \n",
      "top     World Health Survey (WHS), 2003   \n",
      "freq                                 10   \n",
      "\n",
      "       Source of most recent Income and expenditure data  \\\n",
      "count                                                160   \n",
      "unique                                                75   \n",
      "top              Integrated household survey (IHS), 2012   \n",
      "freq                                                  15   \n",
      "\n",
      "       Vital registration complete Latest agricultural census  \\\n",
      "count                          111                        142   \n",
      "unique                           2                         35   \n",
      "top                            Yes                       2010   \n",
      "freq                           110                         36   \n",
      "\n",
      "       Latest water withdrawal data  \n",
      "count                           179  \n",
      "unique                           20  \n",
      "top                            2000  \n",
      "freq                             40  \n",
      "\n",
      "[4 rows x 27 columns]\n"
     ]
    }
   ],
   "source": [
    "print(df_country.describe(include='object'))"
   ]
  },
  {
   "cell_type": "markdown",
   "id": "f20e4a0f-5e58-4c2e-ac58-40d6a66d7016",
   "metadata": {},
   "source": [
    "### <span style=\"color:pink\"> J'utilise ce code pour décrire les donnnés 'object'</span>\n",
    "### <span style=\"color:pink\"> Il y a 241 pays différents comme dans la DF Series</span>\n",
    "### <span style=\"color:pink\"> Chaque ligne correspond bien à 1 seul pays car la fréquence max est 1 pour tous les champs</span>\n",
    "### <span style=\"color:pink\"> 2-alpha code: 238 valeurs sur 241: 3 doublons ou 3 valeurs manquantes</span>\n",
    "### <span style=\"color:pink\"> Il y a 215 monnaie,152 monnaies uniques référencés manque 26 devises</span>\n",
    "### <span style=\"color:pink\"> La monnai la plus fréquente est l'euro 26 fois présente</span>\n",
    "### <span style=\"color:pink\"> On a 214 région sur 241 pays, dont 7 différentes j'en conclue que les pays sont situé sur de grosses zones géographiques</span>\n",
    "### <span style=\"color:pink\"> La région la plus courante est Europe & Central Asia mentionné 57 fois</span>\n",
    "### <span style=\"color:pink\">214 revenus au total, classés en 7 catégories pour les 241 pays,les catégories sont Low, Lower middle, Upper middle, High income OECD, High income non-OECD</span>\n",
    "### <span style=\"color:pink\">Upper middle income soit revenue moyen supérieur est le groupe le plus présent 55X</span>\n",
    "### <span style=\"color:pink\">Pour l'année des comptes nationaux, on a 205 lignes d'années, 43 années différentes, la plus présente est 2005 34 fois</span>\n",
    "### <span style=\"color:pink\">Statut de déclaration de la dette extérieur 124 au totale 3 catégorie, le plus présent est Actuel présent 107X 200 systèmes commerciales au global, classé en 2 catégories, la plus présente général trade system présente 106X</span>\n",
    "### <span style=\"color:pink\">Apres on a des renseignements sur le concept de comptabilité commerciale gouv 2 catégories</span>\n",
    "### <span style=\"color:pink\">On a des infos sur les norme de diffusion des données du FMI, 2 présents, le générale est plus présent</span>\n",
    "### <span style=\"color:pink\">On a des infos sur le dernier recensement des donnés, présent pour 213 pays 28 manquants, l'année 2011 est la plus présente 59 pays</span>\n",
    "### <span style=\"color:pink\">On a des infos sur la dernière enquete des ménages, 60 types d'enquêtes</span>\n",
    "### <span style=\"color:pink\">On a des infos sur une étude effectué sur les revenus et les dépenses, renseigné pour 160 pays, 75 études, celle auprès des ménages est la plus présente X15</span>\n",
    "### <span style=\"color:pink\">Autres infos, sur l'enregistrement de l'état civil, 110 l'on fait sur 111 enregistré</span>\n",
    "### <span style=\"color:pink\">Autres infos, sur l'enregistrement de l'agriculture 142 enregistré</span>\n",
    "### <span style=\"color:pink\">Autres infos, sur le retrait d'eau 179 renseignés</span>"
   ]
  },
  {
   "cell_type": "code",
   "execution_count": 707,
   "id": "256fc5c0-54a4-4d36-afa1-2adcca598c67",
   "metadata": {
    "scrolled": true
   },
   "outputs": [
    {
     "name": "stdout",
     "output_type": "stream",
     "text": [
      "Income Group\n",
      "Upper middle income     55\n",
      "Lower middle income     50\n",
      "High income: nonOECD    44\n",
      "Low income              34\n",
      "High income: OECD       31\n",
      "Name: count, dtype: int64\n"
     ]
    }
   ],
   "source": [
    "print(df_country['Income Group'].value_counts())"
   ]
  },
  {
   "cell_type": "markdown",
   "id": "659807e8-519b-4f5e-ab0f-8170b28f8f89",
   "metadata": {},
   "source": [
    "### <span style=\"color:pink\"> Juste par curiosité je me suis dit qu'il serai intéressant de connaitre le groupe de revenu auquel appartien chaque pays</span>\n",
    "### <span style=\"color:pink\"> On avait vu avant que le plus présent était Upper middle income dans 55 pays</span>"
   ]
  },
  {
   "cell_type": "code",
   "execution_count": 708,
   "id": "10798019-4b05-4cb3-a4fe-ad6420ec8123",
   "metadata": {
    "scrolled": true
   },
   "outputs": [
    {
     "name": "stdout",
     "output_type": "stream",
     "text": [
      "       National accounts reference year  Latest industrial data  \\\n",
      "count                          32.00000              107.000000   \n",
      "mean                         2001.53125             2008.102804   \n",
      "std                             5.24856                2.616834   \n",
      "min                          1987.00000             2000.000000   \n",
      "25%                          1996.75000             2007.500000   \n",
      "50%                          2002.00000             2009.000000   \n",
      "75%                          2005.00000             2010.000000   \n",
      "max                          2012.00000             2010.000000   \n",
      "\n",
      "       Latest trade data  \n",
      "count         185.000000  \n",
      "mean         2010.994595  \n",
      "std             2.569675  \n",
      "min          1995.000000  \n",
      "25%          2011.000000  \n",
      "50%          2012.000000  \n",
      "75%          2012.000000  \n",
      "max          2012.000000  \n"
     ]
    }
   ],
   "source": [
    "print(df_country.describe())"
   ]
  },
  {
   "cell_type": "markdown",
   "id": "6fcbafdc-7e14-4545-824d-762727282cf5",
   "metadata": {},
   "source": [
    "### <span style=\"color:pink\"> Je descrit pour les donnnés numériques et les objets</span>\n",
    "### <span style=\"color:pink\"> Il y a 3 infos: </span>\n",
    "### <span style=\"color:pink\"> Sur l'année de références des comptes nationaux, 32 pays sont renseignés,l'année la plus ancienne 1987 et plus récente 2012</span>\n",
    "### <span style=\"color:pink\"> Sur les dernières données de l'industrie: 107 sont renseigné,l'année la plus ancienne 2000, plus récente 2010</span>\n",
    "### <span style=\"color:pink\"> Sur les dernières donnés lié au commerce: 185 sont renseignés, l'année la plus ancienne 1995 et plus récente 2012</span>\n",
    "### <span style=\"color:pink\"> J'en conclue que les donnés ne sont pas très a jour </span>"
   ]
  },
  {
   "cell_type": "code",
   "execution_count": 709,
   "id": "f313e743-1308-4329-85b8-bbc2a2338ea7",
   "metadata": {},
   "outputs": [
    {
     "name": "stdout",
     "output_type": "stream",
     "text": [
      "Country Code\n",
      "ABW    1\n",
      "LCA    1\n",
      "MRT    1\n",
      "MUS    1\n",
      "MWI    1\n",
      "      ..\n",
      "GRL    1\n",
      "GTM    1\n",
      "GUM    1\n",
      "GUY    1\n",
      "ZWE    1\n",
      "Name: count, Length: 241, dtype: int64\n"
     ]
    }
   ],
   "source": [
    "occurrences_df_country = df_country['Country Code'].value_counts()\n",
    "print(occurrences_df_country)"
   ]
  },
  {
   "cell_type": "code",
   "execution_count": 710,
   "id": "f827b619-089d-4b35-b600-67a952bc8877",
   "metadata": {},
   "outputs": [
    {
     "name": "stdout",
     "output_type": "stream",
     "text": [
      "Currency Unit\n",
      "Euro                     23\n",
      "CFA franc                14\n",
      "U.S. dollar              14\n",
      "East Caribbean dollar     6\n",
      "Danish krone              3\n",
      "                         ..\n",
      "Georgian lari             1\n",
      "Fijian dollar             1\n",
      "Ethiopian birr            1\n",
      "Eritrean nakfa            1\n",
      "New Zambian kwacha        1\n",
      "Name: count, Length: 152, dtype: int64\n"
     ]
    }
   ],
   "source": [
    "occurrences_df_country = df_country['Currency Unit'].value_counts()\n",
    "print(occurrences_df_country)"
   ]
  },
  {
   "cell_type": "code",
   "execution_count": 711,
   "id": "9113c9df-a5f9-4532-ba24-8246cea10e62",
   "metadata": {},
   "outputs": [
    {
     "name": "stdout",
     "output_type": "stream",
     "text": [
      "Region\n",
      "Europe & Central Asia         57\n",
      "Sub-Saharan Africa            48\n",
      "Latin America & Caribbean     41\n",
      "East Asia & Pacific           36\n",
      "Middle East & North Africa    21\n",
      "South Asia                     8\n",
      "North America                  3\n",
      "Name: count, dtype: int64\n"
     ]
    }
   ],
   "source": [
    "occurrences_df_country = df_country['Region'].value_counts()\n",
    "print(occurrences_df_country)"
   ]
  },
  {
   "cell_type": "code",
   "execution_count": 712,
   "id": "641319a4-68ed-427e-9615-5887969b8667",
   "metadata": {},
   "outputs": [
    {
     "name": "stdout",
     "output_type": "stream",
     "text": [
      "Income Group\n",
      "Upper middle income     55\n",
      "Lower middle income     50\n",
      "High income: nonOECD    44\n",
      "Low income              34\n",
      "High income: OECD       31\n",
      "Name: count, dtype: int64\n"
     ]
    }
   ],
   "source": [
    "occurrences_df_country = df_country['Income Group'].value_counts()\n",
    "print(occurrences_df_country)"
   ]
  },
  {
   "cell_type": "markdown",
   "id": "57503f44-caaa-4aab-b456-7106a13a6a5b",
   "metadata": {},
   "source": [
    "### <span style=\"color:pink\"> J'ai compté le nombre d'occurence d'indicateurs intéressant peut être pour la suite </span>\n",
    "### <span style=\"color:pink\">Country Code, Income Group, Region, Currency Unit, Country Code</span>"
   ]
  },
  {
   "cell_type": "code",
   "execution_count": 713,
   "id": "326958bc-bc47-48d3-92b2-9df4e0407904",
   "metadata": {},
   "outputs": [
    {
     "name": "stdout",
     "output_type": "stream",
     "text": [
      "Nombre de doublons : 0\n"
     ]
    }
   ],
   "source": [
    "doublons = df_country.duplicated().sum()\n",
    "print(\"Nombre de doublons :\", doublons)"
   ]
  },
  {
   "cell_type": "markdown",
   "id": "6bfe5ef0-fda4-4e18-9949-8e650fb5d674",
   "metadata": {},
   "source": [
    "### <span style=\"color:pink\">Il n'y a pas de doublons sur ce DF</span>"
   ]
  },
  {
   "cell_type": "code",
   "execution_count": 714,
   "id": "69f2ae3a-da6e-4ff5-81d2-75941517d8f7",
   "metadata": {},
   "outputs": [
    {
     "name": "stdout",
     "output_type": "stream",
     "text": [
      "Total de valeurs manquantes : 2017\n"
     ]
    }
   ],
   "source": [
    "total_valeurs_manquantes = df_country.isnull().sum().sum()\n",
    "print(\"Total de valeurs manquantes :\", total_valeurs_manquantes)"
   ]
  },
  {
   "cell_type": "code",
   "execution_count": 715,
   "id": "c6977ec7-2257-4ac7-8c24-2d1567a7b9ea",
   "metadata": {},
   "outputs": [
    {
     "name": "stdout",
     "output_type": "stream",
     "text": [
      "2-alpha code                                           3\n",
      "Currency Unit                                         26\n",
      "Region                                                27\n",
      "Income Group                                          27\n",
      "WB-2 code                                              1\n",
      "National accounts base year                           36\n",
      "National accounts reference year                     209\n",
      "SNA price valuation                                   44\n",
      "Lending category                                      97\n",
      "Other groups                                         183\n",
      "System of National Accounts                           26\n",
      "Alternative conversion factor                        194\n",
      "PPP survey year                                       96\n",
      "Balance of Payments Manual in use                     60\n",
      "External debt Reporting status                       117\n",
      "System of trade                                       41\n",
      "Government Accounting concept                         80\n",
      "IMF data dissemination standard                       60\n",
      "Latest population census                              28\n",
      "Latest household survey                              100\n",
      "Source of most recent Income and expenditure data     81\n",
      "Vital registration complete                          130\n",
      "Latest agricultural census                            99\n",
      "Latest industrial data                               134\n",
      "Latest trade data                                     56\n",
      "Latest water withdrawal data                          62\n",
      "dtype: int64\n"
     ]
    }
   ],
   "source": [
    "missing = df_country.isnull().sum()\n",
    "missing = missing[missing > 0]\n",
    "print(missing)"
   ]
  },
  {
   "cell_type": "markdown",
   "id": "b31eece9-aa7a-45fb-bad3-6d6e9ad06e1a",
   "metadata": {},
   "source": [
    "### <span style=\"color:pink\">Il y a 2017 valeurs manquantes sur mon DF Country, répartis dans ces colonnes</span>"
   ]
  },
  {
   "cell_type": "code",
   "execution_count": 716,
   "id": "94ecb9cb-e45d-48a4-9ac3-d8cd8ab6cd66",
   "metadata": {},
   "outputs": [
    {
     "name": "stdout",
     "output_type": "stream",
     "text": [
      "2-alpha code : 3 valeurs manquantes sur 241 lignes → soit 1.24 %\n",
      "Currency Unit : 26 valeurs manquantes sur 241 lignes → soit 10.79 %\n",
      "Region : 27 valeurs manquantes sur 241 lignes → soit 11.2 %\n",
      "Income Group : 27 valeurs manquantes sur 241 lignes → soit 11.2 %\n",
      "WB-2 code : 1 valeurs manquantes sur 241 lignes → soit 0.41 %\n",
      "National accounts base year : 36 valeurs manquantes sur 241 lignes → soit 14.94 %\n",
      "National accounts reference year : 209 valeurs manquantes sur 241 lignes → soit 86.72 %\n",
      "SNA price valuation : 44 valeurs manquantes sur 241 lignes → soit 18.26 %\n",
      "Lending category : 97 valeurs manquantes sur 241 lignes → soit 40.25 %\n",
      "Other groups : 183 valeurs manquantes sur 241 lignes → soit 75.93 %\n",
      "System of National Accounts : 26 valeurs manquantes sur 241 lignes → soit 10.79 %\n",
      "Alternative conversion factor : 194 valeurs manquantes sur 241 lignes → soit 80.5 %\n",
      "PPP survey year : 96 valeurs manquantes sur 241 lignes → soit 39.83 %\n",
      "Balance of Payments Manual in use : 60 valeurs manquantes sur 241 lignes → soit 24.9 %\n",
      "External debt Reporting status : 117 valeurs manquantes sur 241 lignes → soit 48.55 %\n",
      "System of trade : 41 valeurs manquantes sur 241 lignes → soit 17.01 %\n",
      "Government Accounting concept : 80 valeurs manquantes sur 241 lignes → soit 33.2 %\n",
      "IMF data dissemination standard : 60 valeurs manquantes sur 241 lignes → soit 24.9 %\n",
      "Latest population census : 28 valeurs manquantes sur 241 lignes → soit 11.62 %\n",
      "Latest household survey : 100 valeurs manquantes sur 241 lignes → soit 41.49 %\n",
      "Source of most recent Income and expenditure data : 81 valeurs manquantes sur 241 lignes → soit 33.61 %\n",
      "Vital registration complete : 130 valeurs manquantes sur 241 lignes → soit 53.94 %\n",
      "Latest agricultural census : 99 valeurs manquantes sur 241 lignes → soit 41.08 %\n",
      "Latest industrial data : 134 valeurs manquantes sur 241 lignes → soit 55.6 %\n",
      "Latest trade data : 56 valeurs manquantes sur 241 lignes → soit 23.24 %\n",
      "Latest water withdrawal data : 62 valeurs manquantes sur 241 lignes → soit 25.73 %\n"
     ]
    }
   ],
   "source": [
    "total_rows = len(df_country)\n",
    "\n",
    "missing_counts = df_country.isnull().sum()\n",
    "\n",
    "for col, missing in missing_counts.items():\n",
    "    if missing > 0:\n",
    "        print(f\"{col} : {missing} valeurs manquantes sur {total_rows} lignes → soit {round((missing/total_rows)*100, 2)} %\")"
   ]
  },
  {
   "cell_type": "code",
   "execution_count": 717,
   "id": "ce4f876e-02ed-4331-b781-1c4cb3b465ee",
   "metadata": {},
   "outputs": [],
   "source": [
    "df_nan= pd.DataFrame(df_country.isna().mean()).reset_index()"
   ]
  },
  {
   "cell_type": "code",
   "execution_count": 718,
   "id": "c0cb4dcf-2a60-40f7-8cd5-f6427c87fdaf",
   "metadata": {},
   "outputs": [
    {
     "data": {
      "text/html": [
       "<div>\n",
       "<style scoped>\n",
       "    .dataframe tbody tr th:only-of-type {\n",
       "        vertical-align: middle;\n",
       "    }\n",
       "\n",
       "    .dataframe tbody tr th {\n",
       "        vertical-align: top;\n",
       "    }\n",
       "\n",
       "    .dataframe thead th {\n",
       "        text-align: right;\n",
       "    }\n",
       "</style>\n",
       "<table border=\"1\" class=\"dataframe\">\n",
       "  <thead>\n",
       "    <tr style=\"text-align: right;\">\n",
       "      <th></th>\n",
       "      <th>index</th>\n",
       "      <th>0</th>\n",
       "    </tr>\n",
       "  </thead>\n",
       "  <tbody>\n",
       "    <tr>\n",
       "      <th>10</th>\n",
       "      <td>National accounts reference year</td>\n",
       "      <td>0.867220</td>\n",
       "    </tr>\n",
       "    <tr>\n",
       "      <th>15</th>\n",
       "      <td>Alternative conversion factor</td>\n",
       "      <td>0.804979</td>\n",
       "    </tr>\n",
       "    <tr>\n",
       "      <th>13</th>\n",
       "      <td>Other groups</td>\n",
       "      <td>0.759336</td>\n",
       "    </tr>\n",
       "    <tr>\n",
       "      <th>27</th>\n",
       "      <td>Latest industrial data</td>\n",
       "      <td>0.556017</td>\n",
       "    </tr>\n",
       "    <tr>\n",
       "      <th>25</th>\n",
       "      <td>Vital registration complete</td>\n",
       "      <td>0.539419</td>\n",
       "    </tr>\n",
       "    <tr>\n",
       "      <th>18</th>\n",
       "      <td>External debt Reporting status</td>\n",
       "      <td>0.485477</td>\n",
       "    </tr>\n",
       "    <tr>\n",
       "      <th>23</th>\n",
       "      <td>Latest household survey</td>\n",
       "      <td>0.414938</td>\n",
       "    </tr>\n",
       "    <tr>\n",
       "      <th>26</th>\n",
       "      <td>Latest agricultural census</td>\n",
       "      <td>0.410788</td>\n",
       "    </tr>\n",
       "    <tr>\n",
       "      <th>12</th>\n",
       "      <td>Lending category</td>\n",
       "      <td>0.402490</td>\n",
       "    </tr>\n",
       "    <tr>\n",
       "      <th>16</th>\n",
       "      <td>PPP survey year</td>\n",
       "      <td>0.398340</td>\n",
       "    </tr>\n",
       "    <tr>\n",
       "      <th>24</th>\n",
       "      <td>Source of most recent Income and expenditure data</td>\n",
       "      <td>0.336100</td>\n",
       "    </tr>\n",
       "    <tr>\n",
       "      <th>20</th>\n",
       "      <td>Government Accounting concept</td>\n",
       "      <td>0.331950</td>\n",
       "    </tr>\n",
       "    <tr>\n",
       "      <th>29</th>\n",
       "      <td>Latest water withdrawal data</td>\n",
       "      <td>0.257261</td>\n",
       "    </tr>\n",
       "    <tr>\n",
       "      <th>21</th>\n",
       "      <td>IMF data dissemination standard</td>\n",
       "      <td>0.248963</td>\n",
       "    </tr>\n",
       "    <tr>\n",
       "      <th>17</th>\n",
       "      <td>Balance of Payments Manual in use</td>\n",
       "      <td>0.248963</td>\n",
       "    </tr>\n",
       "    <tr>\n",
       "      <th>28</th>\n",
       "      <td>Latest trade data</td>\n",
       "      <td>0.232365</td>\n",
       "    </tr>\n",
       "    <tr>\n",
       "      <th>11</th>\n",
       "      <td>SNA price valuation</td>\n",
       "      <td>0.182573</td>\n",
       "    </tr>\n",
       "    <tr>\n",
       "      <th>19</th>\n",
       "      <td>System of trade</td>\n",
       "      <td>0.170124</td>\n",
       "    </tr>\n",
       "    <tr>\n",
       "      <th>9</th>\n",
       "      <td>National accounts base year</td>\n",
       "      <td>0.149378</td>\n",
       "    </tr>\n",
       "    <tr>\n",
       "      <th>22</th>\n",
       "      <td>Latest population census</td>\n",
       "      <td>0.116183</td>\n",
       "    </tr>\n",
       "    <tr>\n",
       "      <th>7</th>\n",
       "      <td>Income Group</td>\n",
       "      <td>0.112033</td>\n",
       "    </tr>\n",
       "    <tr>\n",
       "      <th>6</th>\n",
       "      <td>Region</td>\n",
       "      <td>0.112033</td>\n",
       "    </tr>\n",
       "    <tr>\n",
       "      <th>14</th>\n",
       "      <td>System of National Accounts</td>\n",
       "      <td>0.107884</td>\n",
       "    </tr>\n",
       "    <tr>\n",
       "      <th>5</th>\n",
       "      <td>Currency Unit</td>\n",
       "      <td>0.107884</td>\n",
       "    </tr>\n",
       "    <tr>\n",
       "      <th>4</th>\n",
       "      <td>2-alpha code</td>\n",
       "      <td>0.012448</td>\n",
       "    </tr>\n",
       "    <tr>\n",
       "      <th>8</th>\n",
       "      <td>WB-2 code</td>\n",
       "      <td>0.004149</td>\n",
       "    </tr>\n",
       "    <tr>\n",
       "      <th>3</th>\n",
       "      <td>Long Name</td>\n",
       "      <td>0.000000</td>\n",
       "    </tr>\n",
       "    <tr>\n",
       "      <th>2</th>\n",
       "      <td>Table Name</td>\n",
       "      <td>0.000000</td>\n",
       "    </tr>\n",
       "    <tr>\n",
       "      <th>1</th>\n",
       "      <td>Short Name</td>\n",
       "      <td>0.000000</td>\n",
       "    </tr>\n",
       "    <tr>\n",
       "      <th>0</th>\n",
       "      <td>Country Code</td>\n",
       "      <td>0.000000</td>\n",
       "    </tr>\n",
       "  </tbody>\n",
       "</table>\n",
       "</div>"
      ],
      "text/plain": [
       "                                                index         0\n",
       "10                   National accounts reference year  0.867220\n",
       "15                      Alternative conversion factor  0.804979\n",
       "13                                       Other groups  0.759336\n",
       "27                             Latest industrial data  0.556017\n",
       "25                        Vital registration complete  0.539419\n",
       "18                     External debt Reporting status  0.485477\n",
       "23                            Latest household survey  0.414938\n",
       "26                         Latest agricultural census  0.410788\n",
       "12                                   Lending category  0.402490\n",
       "16                                    PPP survey year  0.398340\n",
       "24  Source of most recent Income and expenditure data  0.336100\n",
       "20                      Government Accounting concept  0.331950\n",
       "29                       Latest water withdrawal data  0.257261\n",
       "21                    IMF data dissemination standard  0.248963\n",
       "17                  Balance of Payments Manual in use  0.248963\n",
       "28                                  Latest trade data  0.232365\n",
       "11                                SNA price valuation  0.182573\n",
       "19                                    System of trade  0.170124\n",
       "9                         National accounts base year  0.149378\n",
       "22                           Latest population census  0.116183\n",
       "7                                        Income Group  0.112033\n",
       "6                                              Region  0.112033\n",
       "14                        System of National Accounts  0.107884\n",
       "5                                       Currency Unit  0.107884\n",
       "4                                        2-alpha code  0.012448\n",
       "8                                           WB-2 code  0.004149\n",
       "3                                           Long Name  0.000000\n",
       "2                                          Table Name  0.000000\n",
       "1                                          Short Name  0.000000\n",
       "0                                        Country Code  0.000000"
      ]
     },
     "execution_count": 718,
     "metadata": {},
     "output_type": "execute_result"
    }
   ],
   "source": [
    "df_nan.sort_values(by= 0, ascending= False)"
   ]
  },
  {
   "cell_type": "markdown",
   "id": "57bf578c-dc79-491a-8854-dca243ad1359",
   "metadata": {},
   "source": [
    "### <span style=\"color:pink\">Je cherche a savoir le nombre de valeurs manquantes par rapport au totale de ligne pour pouvoir faire une analyse</span>\n",
    "### <span style=\"color:pink\">Le plus grosses lacunes de valeurs manquante se situent sur les 4 colonnes: </span>\n",
    "### <span style=\"color:pink\">National accounts reference year : 209 valeurs manquantes sur 241 lignes → soit 86.72 %</span>\n",
    "### <span style=\"color:pink\">Other groups : 183 valeurs manquantes sur 241 lignes → soit 75.93 %</span>\n",
    "### <span style=\"color:pink\">Alternative conversion factor : 194 valeurs manquantes sur 241 lignes → soit 80.5 %</span>\n",
    "### <span style=\"color:pink\">En analyse, je me dit que peux êtres ces donnés la ne seront pas exploitable car trop de vide pas assez de donnés?</span>"
   ]
  },
  {
   "cell_type": "markdown",
   "id": "33728ee9-ce90-4f73-b6a2-f97fc29820a8",
   "metadata": {},
   "source": [
    "### <span style=\"color:violet\"> DATA FRAME 'DATA'</span> "
   ]
  },
  {
   "cell_type": "code",
   "execution_count": 719,
   "id": "9fb5461a-3265-4276-9d21-c7cf2961dc5b",
   "metadata": {},
   "outputs": [
    {
     "data": {
      "text/plain": [
       "Index(['Country Name', 'Country Code', 'Indicator Name', 'Indicator Code',\n",
       "       '1970', '1971', '1972', '1973', '1974', '1975', '1976', '1977', '1978',\n",
       "       '1979', '1980', '1981', '1982', '1983', '1984', '1985', '1986', '1987',\n",
       "       '1988', '1989', '1990', '1991', '1992', '1993', '1994', '1995', '1996',\n",
       "       '1997', '1998', '1999', '2000', '2001', '2002', '2003', '2004', '2005',\n",
       "       '2006', '2007', '2008', '2009', '2010', '2011', '2012', '2013', '2014',\n",
       "       '2015', '2016', '2017', '2020', '2025', '2030', '2035', '2040', '2045',\n",
       "       '2050', '2055', '2060', '2065', '2070', '2075', '2080', '2085', '2090',\n",
       "       '2095', '2100', 'Unnamed: 69'],\n",
       "      dtype='object')"
      ]
     },
     "execution_count": 719,
     "metadata": {},
     "output_type": "execute_result"
    }
   ],
   "source": [
    "df_data.columns"
   ]
  },
  {
   "cell_type": "code",
   "execution_count": 720,
   "id": "c48fcdd7-56cd-4706-b559-4365f403f03c",
   "metadata": {},
   "outputs": [
    {
     "name": "stdout",
     "output_type": "stream",
     "text": [
      "(886930, 70)\n"
     ]
    }
   ],
   "source": [
    "print(df_data.shape)"
   ]
  },
  {
   "cell_type": "code",
   "execution_count": 721,
   "id": "f60b8d1f-6ee3-402c-b3f3-76eb57d56173",
   "metadata": {},
   "outputs": [
    {
     "name": "stdout",
     "output_type": "stream",
     "text": [
      "<class 'pandas.core.frame.DataFrame'>\n",
      "RangeIndex: 886930 entries, 0 to 886929\n",
      "Data columns (total 70 columns):\n",
      " #   Column          Non-Null Count   Dtype  \n",
      "---  ------          --------------   -----  \n",
      " 0   Country Name    886930 non-null  object \n",
      " 1   Country Code    886930 non-null  object \n",
      " 2   Indicator Name  886930 non-null  object \n",
      " 3   Indicator Code  886930 non-null  object \n",
      " 4   1970            72288 non-null   float64\n",
      " 5   1971            35537 non-null   float64\n",
      " 6   1972            35619 non-null   float64\n",
      " 7   1973            35545 non-null   float64\n",
      " 8   1974            35730 non-null   float64\n",
      " 9   1975            87306 non-null   float64\n",
      " 10  1976            37483 non-null   float64\n",
      " 11  1977            37574 non-null   float64\n",
      " 12  1978            37576 non-null   float64\n",
      " 13  1979            36809 non-null   float64\n",
      " 14  1980            89122 non-null   float64\n",
      " 15  1981            38777 non-null   float64\n",
      " 16  1982            37511 non-null   float64\n",
      " 17  1983            38460 non-null   float64\n",
      " 18  1984            38606 non-null   float64\n",
      " 19  1985            90296 non-null   float64\n",
      " 20  1986            39372 non-null   float64\n",
      " 21  1987            38641 non-null   float64\n",
      " 22  1988            38552 non-null   float64\n",
      " 23  1989            37540 non-null   float64\n",
      " 24  1990            124405 non-null  float64\n",
      " 25  1991            74437 non-null   float64\n",
      " 26  1992            75543 non-null   float64\n",
      " 27  1993            75793 non-null   float64\n",
      " 28  1994            77462 non-null   float64\n",
      " 29  1995            131361 non-null  float64\n",
      " 30  1996            76807 non-null   float64\n",
      " 31  1997            73453 non-null   float64\n",
      " 32  1998            84914 non-null   float64\n",
      " 33  1999            118839 non-null  float64\n",
      " 34  2000            176676 non-null  float64\n",
      " 35  2001            123509 non-null  float64\n",
      " 36  2002            124205 non-null  float64\n",
      " 37  2003            130363 non-null  float64\n",
      " 38  2004            128814 non-null  float64\n",
      " 39  2005            184108 non-null  float64\n",
      " 40  2006            140312 non-null  float64\n",
      " 41  2007            137272 non-null  float64\n",
      " 42  2008            134387 non-null  float64\n",
      " 43  2009            142108 non-null  float64\n",
      " 44  2010            242442 non-null  float64\n",
      " 45  2011            146012 non-null  float64\n",
      " 46  2012            147264 non-null  float64\n",
      " 47  2013            137509 non-null  float64\n",
      " 48  2014            113789 non-null  float64\n",
      " 49  2015            131058 non-null  float64\n",
      " 50  2016            16460 non-null   float64\n",
      " 51  2017            143 non-null     float64\n",
      " 52  2020            51436 non-null   float64\n",
      " 53  2025            51436 non-null   float64\n",
      " 54  2030            51436 non-null   float64\n",
      " 55  2035            51436 non-null   float64\n",
      " 56  2040            51436 non-null   float64\n",
      " 57  2045            51436 non-null   float64\n",
      " 58  2050            51436 non-null   float64\n",
      " 59  2055            51436 non-null   float64\n",
      " 60  2060            51436 non-null   float64\n",
      " 61  2065            51436 non-null   float64\n",
      " 62  2070            51436 non-null   float64\n",
      " 63  2075            51436 non-null   float64\n",
      " 64  2080            51436 non-null   float64\n",
      " 65  2085            51436 non-null   float64\n",
      " 66  2090            51436 non-null   float64\n",
      " 67  2095            51436 non-null   float64\n",
      " 68  2100            51436 non-null   float64\n",
      " 69  Unnamed: 69     0 non-null       float64\n",
      "dtypes: float64(66), object(4)\n",
      "memory usage: 473.7+ MB\n",
      "None\n"
     ]
    }
   ],
   "source": [
    "print(df_data.info())"
   ]
  },
  {
   "cell_type": "markdown",
   "id": "35a8b38a-81fc-4506-81d8-743530d1caa3",
   "metadata": {},
   "source": [
    "### <span style=\"color:pink\"> Le DF Data contient 886 930 lignes qui sont numéroté de 0 à 886 929 et 70 colonnes </span>\n",
    "### <span style=\"color:pink\"> 4 colonnes contiennent du texte ou chaine de caractères </span>\n",
    "### <span style=\"color:pink\"> 66 colonnes contiennent des chiffres décimales </span>\n",
    "### <span style=\"color:pink\"> On remarque que la colonne'unnamed'est vide: je choisi de la supprimer tout de suite</span>"
   ]
  },
  {
   "cell_type": "code",
   "execution_count": 722,
   "id": "2a7b20c8-a787-44c9-be6a-48c38dd48a73",
   "metadata": {},
   "outputs": [],
   "source": [
    "df_data = df_data.drop(columns=['Unnamed: 69'])"
   ]
  },
  {
   "cell_type": "code",
   "execution_count": 723,
   "id": "22007ed1-9a3c-42f5-af90-9dbc0e30267a",
   "metadata": {},
   "outputs": [
    {
     "data": {
      "text/html": [
       "<div>\n",
       "<style scoped>\n",
       "    .dataframe tbody tr th:only-of-type {\n",
       "        vertical-align: middle;\n",
       "    }\n",
       "\n",
       "    .dataframe tbody tr th {\n",
       "        vertical-align: top;\n",
       "    }\n",
       "\n",
       "    .dataframe thead th {\n",
       "        text-align: right;\n",
       "    }\n",
       "</style>\n",
       "<table border=\"1\" class=\"dataframe\">\n",
       "  <thead>\n",
       "    <tr style=\"text-align: right;\">\n",
       "      <th></th>\n",
       "      <th>Country Name</th>\n",
       "      <th>Country Code</th>\n",
       "      <th>Indicator Name</th>\n",
       "      <th>Indicator Code</th>\n",
       "      <th>1970</th>\n",
       "      <th>1971</th>\n",
       "      <th>1972</th>\n",
       "      <th>1973</th>\n",
       "      <th>1974</th>\n",
       "      <th>1975</th>\n",
       "      <th>...</th>\n",
       "      <th>2055</th>\n",
       "      <th>2060</th>\n",
       "      <th>2065</th>\n",
       "      <th>2070</th>\n",
       "      <th>2075</th>\n",
       "      <th>2080</th>\n",
       "      <th>2085</th>\n",
       "      <th>2090</th>\n",
       "      <th>2095</th>\n",
       "      <th>2100</th>\n",
       "    </tr>\n",
       "  </thead>\n",
       "  <tbody>\n",
       "    <tr>\n",
       "      <th>0</th>\n",
       "      <td>Arab World</td>\n",
       "      <td>ARB</td>\n",
       "      <td>Adjusted net enrolment rate, lower secondary, ...</td>\n",
       "      <td>UIS.NERA.2</td>\n",
       "      <td>NaN</td>\n",
       "      <td>NaN</td>\n",
       "      <td>NaN</td>\n",
       "      <td>NaN</td>\n",
       "      <td>NaN</td>\n",
       "      <td>NaN</td>\n",
       "      <td>...</td>\n",
       "      <td>NaN</td>\n",
       "      <td>NaN</td>\n",
       "      <td>NaN</td>\n",
       "      <td>NaN</td>\n",
       "      <td>NaN</td>\n",
       "      <td>NaN</td>\n",
       "      <td>NaN</td>\n",
       "      <td>NaN</td>\n",
       "      <td>NaN</td>\n",
       "      <td>NaN</td>\n",
       "    </tr>\n",
       "    <tr>\n",
       "      <th>1</th>\n",
       "      <td>Arab World</td>\n",
       "      <td>ARB</td>\n",
       "      <td>Adjusted net enrolment rate, lower secondary, ...</td>\n",
       "      <td>UIS.NERA.2.F</td>\n",
       "      <td>NaN</td>\n",
       "      <td>NaN</td>\n",
       "      <td>NaN</td>\n",
       "      <td>NaN</td>\n",
       "      <td>NaN</td>\n",
       "      <td>NaN</td>\n",
       "      <td>...</td>\n",
       "      <td>NaN</td>\n",
       "      <td>NaN</td>\n",
       "      <td>NaN</td>\n",
       "      <td>NaN</td>\n",
       "      <td>NaN</td>\n",
       "      <td>NaN</td>\n",
       "      <td>NaN</td>\n",
       "      <td>NaN</td>\n",
       "      <td>NaN</td>\n",
       "      <td>NaN</td>\n",
       "    </tr>\n",
       "    <tr>\n",
       "      <th>2</th>\n",
       "      <td>Arab World</td>\n",
       "      <td>ARB</td>\n",
       "      <td>Adjusted net enrolment rate, lower secondary, ...</td>\n",
       "      <td>UIS.NERA.2.GPI</td>\n",
       "      <td>NaN</td>\n",
       "      <td>NaN</td>\n",
       "      <td>NaN</td>\n",
       "      <td>NaN</td>\n",
       "      <td>NaN</td>\n",
       "      <td>NaN</td>\n",
       "      <td>...</td>\n",
       "      <td>NaN</td>\n",
       "      <td>NaN</td>\n",
       "      <td>NaN</td>\n",
       "      <td>NaN</td>\n",
       "      <td>NaN</td>\n",
       "      <td>NaN</td>\n",
       "      <td>NaN</td>\n",
       "      <td>NaN</td>\n",
       "      <td>NaN</td>\n",
       "      <td>NaN</td>\n",
       "    </tr>\n",
       "    <tr>\n",
       "      <th>3</th>\n",
       "      <td>Arab World</td>\n",
       "      <td>ARB</td>\n",
       "      <td>Adjusted net enrolment rate, lower secondary, ...</td>\n",
       "      <td>UIS.NERA.2.M</td>\n",
       "      <td>NaN</td>\n",
       "      <td>NaN</td>\n",
       "      <td>NaN</td>\n",
       "      <td>NaN</td>\n",
       "      <td>NaN</td>\n",
       "      <td>NaN</td>\n",
       "      <td>...</td>\n",
       "      <td>NaN</td>\n",
       "      <td>NaN</td>\n",
       "      <td>NaN</td>\n",
       "      <td>NaN</td>\n",
       "      <td>NaN</td>\n",
       "      <td>NaN</td>\n",
       "      <td>NaN</td>\n",
       "      <td>NaN</td>\n",
       "      <td>NaN</td>\n",
       "      <td>NaN</td>\n",
       "    </tr>\n",
       "    <tr>\n",
       "      <th>4</th>\n",
       "      <td>Arab World</td>\n",
       "      <td>ARB</td>\n",
       "      <td>Adjusted net enrolment rate, primary, both sex...</td>\n",
       "      <td>SE.PRM.TENR</td>\n",
       "      <td>54.822121</td>\n",
       "      <td>54.894138</td>\n",
       "      <td>56.209438</td>\n",
       "      <td>57.267109</td>\n",
       "      <td>57.991138</td>\n",
       "      <td>59.36554</td>\n",
       "      <td>...</td>\n",
       "      <td>NaN</td>\n",
       "      <td>NaN</td>\n",
       "      <td>NaN</td>\n",
       "      <td>NaN</td>\n",
       "      <td>NaN</td>\n",
       "      <td>NaN</td>\n",
       "      <td>NaN</td>\n",
       "      <td>NaN</td>\n",
       "      <td>NaN</td>\n",
       "      <td>NaN</td>\n",
       "    </tr>\n",
       "  </tbody>\n",
       "</table>\n",
       "<p>5 rows × 69 columns</p>\n",
       "</div>"
      ],
      "text/plain": [
       "  Country Name Country Code  \\\n",
       "0   Arab World          ARB   \n",
       "1   Arab World          ARB   \n",
       "2   Arab World          ARB   \n",
       "3   Arab World          ARB   \n",
       "4   Arab World          ARB   \n",
       "\n",
       "                                      Indicator Name  Indicator Code  \\\n",
       "0  Adjusted net enrolment rate, lower secondary, ...      UIS.NERA.2   \n",
       "1  Adjusted net enrolment rate, lower secondary, ...    UIS.NERA.2.F   \n",
       "2  Adjusted net enrolment rate, lower secondary, ...  UIS.NERA.2.GPI   \n",
       "3  Adjusted net enrolment rate, lower secondary, ...    UIS.NERA.2.M   \n",
       "4  Adjusted net enrolment rate, primary, both sex...     SE.PRM.TENR   \n",
       "\n",
       "        1970       1971       1972       1973       1974      1975  ...  2055  \\\n",
       "0        NaN        NaN        NaN        NaN        NaN       NaN  ...   NaN   \n",
       "1        NaN        NaN        NaN        NaN        NaN       NaN  ...   NaN   \n",
       "2        NaN        NaN        NaN        NaN        NaN       NaN  ...   NaN   \n",
       "3        NaN        NaN        NaN        NaN        NaN       NaN  ...   NaN   \n",
       "4  54.822121  54.894138  56.209438  57.267109  57.991138  59.36554  ...   NaN   \n",
       "\n",
       "   2060  2065  2070  2075  2080  2085  2090  2095  2100  \n",
       "0   NaN   NaN   NaN   NaN   NaN   NaN   NaN   NaN   NaN  \n",
       "1   NaN   NaN   NaN   NaN   NaN   NaN   NaN   NaN   NaN  \n",
       "2   NaN   NaN   NaN   NaN   NaN   NaN   NaN   NaN   NaN  \n",
       "3   NaN   NaN   NaN   NaN   NaN   NaN   NaN   NaN   NaN  \n",
       "4   NaN   NaN   NaN   NaN   NaN   NaN   NaN   NaN   NaN  \n",
       "\n",
       "[5 rows x 69 columns]"
      ]
     },
     "execution_count": 723,
     "metadata": {},
     "output_type": "execute_result"
    }
   ],
   "source": [
    "df_data.head()"
   ]
  },
  {
   "cell_type": "code",
   "execution_count": 724,
   "id": "9b7d6319-fc6b-42fb-be92-ab71785aa5d9",
   "metadata": {},
   "outputs": [
    {
     "name": "stdout",
     "output_type": "stream",
     "text": [
      "       Country Name Country Code  \\\n",
      "count        886930       886930   \n",
      "unique          242          242   \n",
      "top      Arab World          ARB   \n",
      "freq           3665         3665   \n",
      "\n",
      "                                           Indicator Name Indicator Code  \n",
      "count                                              886930         886930  \n",
      "unique                                               3665           3665  \n",
      "top     Adjusted net enrolment rate, lower secondary, ...     UIS.NERA.2  \n",
      "freq                                                  242            242  \n"
     ]
    }
   ],
   "source": [
    "print(df_data.describe(include='object'))"
   ]
  },
  {
   "cell_type": "markdown",
   "id": "de3ae1ad-8d8c-4b95-9e30-60a4c6782d2f",
   "metadata": {},
   "source": [
    "### <span style=\"color:pink\"> Dans ce DF, il n'y a que 4 colonnes qui contiennent du texte ou chaine de caractères </span>\n",
    "### <span style=\"color:pink\">La colonne Country Name et Code, contiennt 886 930 lignes, dont 242 uniques: les différents noms de pays</span>\n",
    "### <span style=\"color:pink\">Le nom de pays le plus fréquent est Arab Word présent 3 665X, jeu de données assez complet</span>\n",
    "### <span style=\"color:pink\">La colonne indicator Name et Code contiennt elles 2, 886930 lignes dont 3665 indicateurs différents</span>\n",
    "### <span style=\"color:pink\">L'indicateur le plus présent est Taux net ajusté de scolarisation, premier cycle du secondaire, les deux sexes 242 fois en proportion</span>"
   ]
  },
  {
   "cell_type": "code",
   "execution_count": 725,
   "id": "81642116-8871-4ba1-9116-efca37f7877c",
   "metadata": {},
   "outputs": [
    {
     "name": "stdout",
     "output_type": "stream",
     "text": [
      "               1970          1971          1972          1973          1974  \\\n",
      "count  7.228800e+04  3.553700e+04  3.561900e+04  3.554500e+04  3.573000e+04   \n",
      "mean   1.974772e+09  4.253638e+09  4.592365e+09  5.105006e+09  5.401493e+09   \n",
      "std    1.211687e+11  1.804814e+11  1.914083e+11  2.059170e+11  2.112150e+11   \n",
      "min   -1.435564e+00 -1.594625e+00 -3.056522e+00 -4.032582e+00 -4.213563e+00   \n",
      "25%    8.900000e-01  8.853210e+00  9.240920e+00  9.595200e+00  9.861595e+00   \n",
      "50%    6.317724e+00  6.316240e+01  6.655139e+01  6.969595e+01  7.087760e+01   \n",
      "75%    6.251250e+01  5.655200e+04  5.863650e+04  6.202900e+04  6.383675e+04   \n",
      "max    1.903929e+13  1.986457e+13  2.100916e+13  2.238367e+13  2.282991e+13   \n",
      "\n",
      "               1975          1976          1977          1978          1979  \\\n",
      "count  8.730600e+04  3.748300e+04  3.757400e+04  3.757600e+04  3.680900e+04   \n",
      "mean   2.314288e+09  5.731808e+09  6.124437e+09  6.671489e+09  7.436724e+09   \n",
      "std    1.375059e+11  2.215546e+11  2.325489e+11  2.473986e+11  2.660957e+11   \n",
      "min   -3.658569e+00 -2.950945e+00 -3.174870e+00 -3.558749e+00 -2.973612e+00   \n",
      "25%    1.400000e+00  9.312615e+00  9.519913e+00  1.000000e+01  1.000000e+01   \n",
      "50%    9.677420e+00  7.101590e+01  7.133326e+01  7.290512e+01  7.510173e+01   \n",
      "75%    7.854163e+01  5.682800e+04  5.739175e+04  5.940425e+04  6.411500e+04   \n",
      "max    2.300634e+13  2.424128e+13  2.521383e+13  2.622101e+13  2.730873e+13   \n",
      "\n",
      "       ...          2055          2060          2065          2070  \\\n",
      "count  ...  5.143600e+04  5.143600e+04  5.143600e+04  5.143600e+04   \n",
      "mean   ...  7.145788e+02  7.224868e+02  7.271290e+02  7.283779e+02   \n",
      "std    ...  2.136851e+04  2.215845e+04  2.287990e+04  2.352338e+04   \n",
      "min    ... -1.830000e+00 -1.630000e+00 -1.440000e+00 -1.260000e+00   \n",
      "25%    ...  3.000000e-02  3.000000e-02  3.000000e-02  2.000000e-02   \n",
      "50%    ...  2.300000e-01  2.300000e-01  2.300000e-01  2.300000e-01   \n",
      "75%    ...  7.500000e+00  7.505000e+00  7.500000e+00  7.300000e+00   \n",
      "max    ...  2.813670e+06  2.951569e+06  3.070879e+06  3.169711e+06   \n",
      "\n",
      "               2075          2080          2085          2090          2095  \\\n",
      "count  5.143600e+04  5.143600e+04  5.143600e+04  5.143600e+04  5.143600e+04   \n",
      "mean   7.266484e+02  7.228327e+02  7.176899e+02  7.113072e+02  7.034274e+02   \n",
      "std    2.408149e+04  2.455897e+04  2.496587e+04  2.530183e+04  2.556069e+04   \n",
      "min   -1.090000e+00 -9.200000e-01 -7.800000e-01 -6.500000e-01 -5.500000e-01   \n",
      "25%    2.000000e-02  1.000000e-02  1.000000e-02  1.000000e-02  1.000000e-02   \n",
      "50%    2.300000e-01  2.300000e-01  2.300000e-01  2.300000e-01  2.300000e-01   \n",
      "75%    7.100000e+00  6.722500e+00  6.080000e+00  5.462500e+00  4.680000e+00   \n",
      "max    3.246239e+06  3.301586e+06  3.337871e+06  3.354746e+06  3.351887e+06   \n",
      "\n",
      "               2100  \n",
      "count  5.143600e+04  \n",
      "mean   6.940296e+02  \n",
      "std    2.574189e+04  \n",
      "min   -4.500000e-01  \n",
      "25%    1.000000e-02  \n",
      "50%    2.200000e-01  \n",
      "75%    4.032500e+00  \n",
      "max    3.330484e+06  \n",
      "\n",
      "[8 rows x 65 columns]\n"
     ]
    }
   ],
   "source": [
    "print(df_data.describe())"
   ]
  },
  {
   "cell_type": "markdown",
   "id": "1fcc86ca-333c-4269-a2b0-b88c1a380f90",
   "metadata": {},
   "source": [
    "### <span style=\"color:pink\"> Croissance énorme des valeurs moyennes jusqu’aux années 1980 puis baisse, reprise et stabilisation jusqu'a 2100 </span>\n",
    "### <span style=\"color:pink\">Présence de valeurs aberrantes, valeurs minimales négatives: -4.21 en 1974, -3.65 en 1975, alors que la plupart des indicateurs comme la scolarisation ou la population ne devraient jamais être négatifs</span>\n",
    "### <span style=\"color:pink\">Chute de la moyenne après 2000, à partir de 2055, les moyennes deviennent très faibles, alors qu'on avait des milliards auparavant</span>\n",
    "### <span style=\"color:pink\">2095 sont des prévisions/projections?</span>"
   ]
  },
  {
   "cell_type": "code",
   "execution_count": 726,
   "id": "6df7f14f-10c0-4929-8dd0-ad00187e7742",
   "metadata": {},
   "outputs": [
    {
     "name": "stdout",
     "output_type": "stream",
     "text": [
      "Nombre de doublons : 0\n"
     ]
    }
   ],
   "source": [
    "doublons = df_data.duplicated().sum()\n",
    "print(\"Nombre de doublons :\", doublons)"
   ]
  },
  {
   "cell_type": "markdown",
   "id": "8b136b04-ef33-47e7-af69-f688f7d49e49",
   "metadata": {},
   "source": [
    "### <span style=\"color:pink\"> Pas de doublons dans ce DF  </span>"
   ]
  },
  {
   "cell_type": "code",
   "execution_count": 727,
   "id": "d0b8bcfd-217b-4320-9cdf-def7cff09870",
   "metadata": {},
   "outputs": [
    {
     "name": "stdout",
     "output_type": "stream",
     "text": [
      "Total de valeurs manquantes : 52568249\n"
     ]
    }
   ],
   "source": [
    "total_manquantes = df_data.isnull().sum().sum()\n",
    "print(\"Total de valeurs manquantes :\", total_manquantes)"
   ]
  },
  {
   "cell_type": "code",
   "execution_count": 728,
   "id": "0749f3e9-197f-4caf-ba5d-92e113461b72",
   "metadata": {},
   "outputs": [
    {
     "name": "stdout",
     "output_type": "stream",
     "text": [
      "1970    814642\n",
      "1971    851393\n",
      "1972    851311\n",
      "1973    851385\n",
      "1974    851200\n",
      "         ...  \n",
      "2080    835494\n",
      "2085    835494\n",
      "2090    835494\n",
      "2095    835494\n",
      "2100    835494\n",
      "Length: 65, dtype: int64\n"
     ]
    }
   ],
   "source": [
    "missing = df_data.isnull().sum()\n",
    "missing = missing[missing > 0]\n",
    "print(missing)"
   ]
  },
  {
   "cell_type": "markdown",
   "id": "c3c60f4e-1bff-43bc-af36-9bc7cb02bde0",
   "metadata": {},
   "source": [
    "### <span style=\"color:pink\"> Il y a 52568249 valeurs manquante dans ce DF, le plus est l'année 1971, trop de valeurs manquantes signifie que les donnés ne sont peut être pas exploitables  </span>"
   ]
  },
  {
   "cell_type": "markdown",
   "id": "5e47ca5d-9997-42f8-9976-b42719a3d860",
   "metadata": {},
   "source": [
    "### <span style=\"color:violet\"> DATA FRAME FOOT</span> "
   ]
  },
  {
   "cell_type": "code",
   "execution_count": 729,
   "id": "77bdfe0a-109f-4815-8c11-d8fae23ad468",
   "metadata": {},
   "outputs": [
    {
     "data": {
      "text/plain": [
       "Index(['CountryCode', 'SeriesCode', 'Year', 'DESCRIPTION', 'Unnamed: 4'], dtype='object')"
      ]
     },
     "execution_count": 729,
     "metadata": {},
     "output_type": "execute_result"
    }
   ],
   "source": [
    "df_foot.columns"
   ]
  },
  {
   "cell_type": "code",
   "execution_count": 730,
   "id": "02831861-8f8a-4293-91f1-d6f959376feb",
   "metadata": {},
   "outputs": [
    {
     "name": "stdout",
     "output_type": "stream",
     "text": [
      "(643638, 5)\n"
     ]
    }
   ],
   "source": [
    "print(df_foot.shape)"
   ]
  },
  {
   "cell_type": "code",
   "execution_count": 731,
   "id": "199dabe0-b982-409a-a07b-52192e0ce603",
   "metadata": {},
   "outputs": [
    {
     "name": "stdout",
     "output_type": "stream",
     "text": [
      "<class 'pandas.core.frame.DataFrame'>\n",
      "RangeIndex: 643638 entries, 0 to 643637\n",
      "Data columns (total 5 columns):\n",
      " #   Column       Non-Null Count   Dtype  \n",
      "---  ------       --------------   -----  \n",
      " 0   CountryCode  643638 non-null  object \n",
      " 1   SeriesCode   643638 non-null  object \n",
      " 2   Year         643638 non-null  object \n",
      " 3   DESCRIPTION  643638 non-null  object \n",
      " 4   Unnamed: 4   0 non-null       float64\n",
      "dtypes: float64(1), object(4)\n",
      "memory usage: 24.6+ MB\n",
      "None\n"
     ]
    }
   ],
   "source": [
    "print(df_foot.info())"
   ]
  },
  {
   "cell_type": "markdown",
   "id": "928375f7-aba6-4c1e-b580-aa9875dd35a4",
   "metadata": {},
   "source": [
    "### <span style=\"color:pink\"> Le DF Data contient 643 638 lignes qui sont numéroté de 0 à 643 637 et 5 colonnes </span>\n",
    "### <span style=\"color:pink\"> 4 colonnes contiennent du texte ou chaine de caractères </span>\n",
    "### <span style=\"color:pink\"> 1 colonne ds chiffres décimales mais on remarque qu'il s'agit de la colonne'unnamed'qui est vide: je choisi de la supprimer tout de suite</span>"
   ]
  },
  {
   "cell_type": "code",
   "execution_count": 732,
   "id": "7a89e824-7b5e-41e0-a985-2308d1ece569",
   "metadata": {},
   "outputs": [],
   "source": [
    "df_foot = df_foot.drop(columns=['Unnamed: 4'])"
   ]
  },
  {
   "cell_type": "code",
   "execution_count": 733,
   "id": "4c64e058-666d-4661-bd84-213ec76cc273",
   "metadata": {},
   "outputs": [
    {
     "data": {
      "text/html": [
       "<div>\n",
       "<style scoped>\n",
       "    .dataframe tbody tr th:only-of-type {\n",
       "        vertical-align: middle;\n",
       "    }\n",
       "\n",
       "    .dataframe tbody tr th {\n",
       "        vertical-align: top;\n",
       "    }\n",
       "\n",
       "    .dataframe thead th {\n",
       "        text-align: right;\n",
       "    }\n",
       "</style>\n",
       "<table border=\"1\" class=\"dataframe\">\n",
       "  <thead>\n",
       "    <tr style=\"text-align: right;\">\n",
       "      <th></th>\n",
       "      <th>CountryCode</th>\n",
       "      <th>SeriesCode</th>\n",
       "      <th>Year</th>\n",
       "      <th>DESCRIPTION</th>\n",
       "    </tr>\n",
       "  </thead>\n",
       "  <tbody>\n",
       "    <tr>\n",
       "      <th>0</th>\n",
       "      <td>ABW</td>\n",
       "      <td>SE.PRE.ENRL.FE</td>\n",
       "      <td>YR2001</td>\n",
       "      <td>Country estimation.</td>\n",
       "    </tr>\n",
       "    <tr>\n",
       "      <th>1</th>\n",
       "      <td>ABW</td>\n",
       "      <td>SE.TER.TCHR.FE</td>\n",
       "      <td>YR2005</td>\n",
       "      <td>Country estimation.</td>\n",
       "    </tr>\n",
       "    <tr>\n",
       "      <th>2</th>\n",
       "      <td>ABW</td>\n",
       "      <td>SE.PRE.TCHR.FE</td>\n",
       "      <td>YR2000</td>\n",
       "      <td>Country estimation.</td>\n",
       "    </tr>\n",
       "    <tr>\n",
       "      <th>3</th>\n",
       "      <td>ABW</td>\n",
       "      <td>SE.SEC.ENRL.GC</td>\n",
       "      <td>YR2004</td>\n",
       "      <td>Country estimation.</td>\n",
       "    </tr>\n",
       "    <tr>\n",
       "      <th>4</th>\n",
       "      <td>ABW</td>\n",
       "      <td>SE.PRE.TCHR</td>\n",
       "      <td>YR2006</td>\n",
       "      <td>Country estimation.</td>\n",
       "    </tr>\n",
       "  </tbody>\n",
       "</table>\n",
       "</div>"
      ],
      "text/plain": [
       "  CountryCode      SeriesCode    Year          DESCRIPTION\n",
       "0         ABW  SE.PRE.ENRL.FE  YR2001  Country estimation.\n",
       "1         ABW  SE.TER.TCHR.FE  YR2005  Country estimation.\n",
       "2         ABW  SE.PRE.TCHR.FE  YR2000  Country estimation.\n",
       "3         ABW  SE.SEC.ENRL.GC  YR2004  Country estimation.\n",
       "4         ABW     SE.PRE.TCHR  YR2006  Country estimation."
      ]
     },
     "execution_count": 733,
     "metadata": {},
     "output_type": "execute_result"
    }
   ],
   "source": [
    "df_foot.head()"
   ]
  },
  {
   "cell_type": "code",
   "execution_count": 734,
   "id": "21bacbac-f5ab-412e-b10f-e8c6df2ae54f",
   "metadata": {},
   "outputs": [
    {
     "name": "stdout",
     "output_type": "stream",
     "text": [
      "       CountryCode   SeriesCode    Year   DESCRIPTION\n",
      "count       643638       643638  643638        643638\n",
      "unique         239         1558      56          9102\n",
      "top            LIC  SH.DYN.MORT  YR2004  Country Data\n",
      "freq          7320         9226   27128        191188\n"
     ]
    }
   ],
   "source": [
    "print(df_foot.describe(include='object'))"
   ]
  },
  {
   "cell_type": "markdown",
   "id": "665f6dad-7f71-4c83-bfdc-cbddff0d7a04",
   "metadata": {},
   "source": [
    "### <span style=\"color:pink\"> Dans ce DF, il n'y a que 4 colonnes qui contiennent du texte ou chaine de caractères </span>\n",
    "### <span style=\"color:pink\">La colonne Country Code, contient 643 638 lignes, dont 239 uniques: les différents noms de pays</span>\n",
    "### <span style=\"color:pink\">Le country code le plus fréquent est LIC présent 7 320X peut être Low Income Countries</span>\n",
    "### <span style=\"color:pink\">La colonne indicator Series Code contient 643 638 lignes, dont 1 558 indicateurs différents, le plus présente est SH.DYN.MORT présent 9 226X, utilisé pour la mortalité infantile </span>\n",
    "### <span style=\"color:pink\">La colonne Year contient 643 638 lignes, dont 56 indicateurs différents, le plus présente est l'année 2004 présente 27 128 X </span>\n",
    "### <span style=\"color:pink\">La colonne DESCRIPTION contient 643 638 lignes, dont 9102 indicateurs différents, le plus présente est Country Data présent 191 188 X </span>"
   ]
  },
  {
   "cell_type": "code",
   "execution_count": 735,
   "id": "ff092ef4-e5ea-4490-8847-1f03731bc2ea",
   "metadata": {},
   "outputs": [
    {
     "name": "stdout",
     "output_type": "stream",
     "text": [
      "SeriesCode\n",
      "SH.DYN.MORT                 9226\n",
      "SE.PRM.AGES                 8771\n",
      "SE.PRM.DURS                 8771\n",
      "SE.SEC.DURS                 8619\n",
      "SE.SEC.AGES                 8581\n",
      "                            ... \n",
      "SABER.STD.ASS.GOAL1.LVL2       1\n",
      "SABER.STD.ASS.GOAL2            1\n",
      "SABER.STD.ASS.GOAL2.LVL1       1\n",
      "SABER.STD.ASS.GOAL2.LVL2       1\n",
      "UIS.XSPENDP.1.FDPUB.FNS        1\n",
      "Name: count, Length: 1558, dtype: int64\n"
     ]
    }
   ],
   "source": [
    "occurrences_df_foot = df_foot['SeriesCode'].value_counts()\n",
    "print(occurrences_df_foot)"
   ]
  },
  {
   "cell_type": "code",
   "execution_count": 736,
   "id": "572bff0e-6132-4a7d-b4d5-12b471f19b0c",
   "metadata": {},
   "outputs": [
    {
     "name": "stdout",
     "output_type": "stream",
     "text": [
      "CountryCode\n",
      "LIC    7320\n",
      "CYP    7183\n",
      "LDC    6481\n",
      "SSA    6389\n",
      "SSF    6336\n",
      "       ... \n",
      "IMN      32\n",
      "CUW      23\n",
      "XKX      12\n",
      "MNP       4\n",
      "FRO       2\n",
      "Name: count, Length: 239, dtype: int64\n"
     ]
    }
   ],
   "source": [
    "occurrences_df_foot = df_foot['CountryCode'].value_counts()\n",
    "print(occurrences_df_foot)"
   ]
  },
  {
   "cell_type": "markdown",
   "id": "78d2c657-b711-413c-842f-406da3b3ef2d",
   "metadata": {},
   "source": [
    "### <span style=\"color:pink\">Je compte les occurences de 2 colonnes par curiosité et comparatif avec les autres tableaux </span>"
   ]
  },
  {
   "cell_type": "code",
   "execution_count": 737,
   "id": "ed0ece44-6f72-4065-925f-837164f8124a",
   "metadata": {},
   "outputs": [
    {
     "name": "stdout",
     "output_type": "stream",
     "text": [
      "Nombre de doublons : 0\n"
     ]
    }
   ],
   "source": [
    "doublons = df_foot.duplicated().sum()\n",
    "print(\"Nombre de doublons :\", doublons)"
   ]
  },
  {
   "cell_type": "markdown",
   "id": "8a25712a-917b-49f4-81cf-97e359b164c0",
   "metadata": {},
   "source": [
    "### <span style=\"color:pink\"> Pas de doublons dans ce DF  </span>"
   ]
  },
  {
   "cell_type": "code",
   "execution_count": 738,
   "id": "7d5346fa-a728-43fe-ae75-baaef30a6652",
   "metadata": {},
   "outputs": [
    {
     "name": "stdout",
     "output_type": "stream",
     "text": [
      "Total de valeurs manquantes : 0\n"
     ]
    }
   ],
   "source": [
    "total_manquantes = df_foot.isnull().sum().sum()\n",
    "print(\"Total de valeurs manquantes :\", total_manquantes)"
   ]
  },
  {
   "cell_type": "markdown",
   "id": "91a128e7-411d-43bf-9024-f7f73ec88b74",
   "metadata": {},
   "source": [
    "### <span style=\"color:pink\"> Pas de valeurs manquante dans ce DF  </span>"
   ]
  },
  {
   "cell_type": "markdown",
   "id": "486038af-cf16-4418-911f-ac2a3beeb7ef",
   "metadata": {},
   "source": [
    "### <span style=\"color:violet\"> DATA FRAME FOOT</span> "
   ]
  },
  {
   "cell_type": "code",
   "execution_count": 739,
   "id": "7058c390-47c6-4020-81b6-4fbf860f8ac3",
   "metadata": {},
   "outputs": [
    {
     "data": {
      "text/plain": [
       "Index(['Series Code', 'Topic', 'Indicator Name', 'Short definition',\n",
       "       'Long definition', 'Unit of measure', 'Periodicity', 'Base Period',\n",
       "       'Other notes', 'Aggregation method', 'Limitations and exceptions',\n",
       "       'Notes from original source', 'General comments', 'Source',\n",
       "       'Statistical concept and methodology', 'Development relevance',\n",
       "       'Related source links', 'Other web links', 'Related indicators',\n",
       "       'License Type', 'Unnamed: 20'],\n",
       "      dtype='object')"
      ]
     },
     "execution_count": 739,
     "metadata": {},
     "output_type": "execute_result"
    }
   ],
   "source": [
    "df_stat_series.columns"
   ]
  },
  {
   "cell_type": "code",
   "execution_count": 740,
   "id": "9922679a-30b2-4215-88c8-edbeed32d22c",
   "metadata": {},
   "outputs": [
    {
     "name": "stdout",
     "output_type": "stream",
     "text": [
      "(3665, 21)\n"
     ]
    }
   ],
   "source": [
    "print(df_stat_series.shape)"
   ]
  },
  {
   "cell_type": "code",
   "execution_count": 741,
   "id": "3ae5e3fd-9d7e-4a93-927d-cff9e47efb2c",
   "metadata": {},
   "outputs": [
    {
     "name": "stdout",
     "output_type": "stream",
     "text": [
      "<class 'pandas.core.frame.DataFrame'>\n",
      "RangeIndex: 3665 entries, 0 to 3664\n",
      "Data columns (total 21 columns):\n",
      " #   Column                               Non-Null Count  Dtype  \n",
      "---  ------                               --------------  -----  \n",
      " 0   Series Code                          3665 non-null   object \n",
      " 1   Topic                                3665 non-null   object \n",
      " 2   Indicator Name                       3665 non-null   object \n",
      " 3   Short definition                     2156 non-null   object \n",
      " 4   Long definition                      3665 non-null   object \n",
      " 5   Unit of measure                      0 non-null      float64\n",
      " 6   Periodicity                          99 non-null     object \n",
      " 7   Base Period                          314 non-null    object \n",
      " 8   Other notes                          552 non-null    object \n",
      " 9   Aggregation method                   47 non-null     object \n",
      " 10  Limitations and exceptions           14 non-null     object \n",
      " 11  Notes from original source           0 non-null      float64\n",
      " 12  General comments                     14 non-null     object \n",
      " 13  Source                               3665 non-null   object \n",
      " 14  Statistical concept and methodology  23 non-null     object \n",
      " 15  Development relevance                3 non-null      object \n",
      " 16  Related source links                 215 non-null    object \n",
      " 17  Other web links                      0 non-null      float64\n",
      " 18  Related indicators                   0 non-null      float64\n",
      " 19  License Type                         0 non-null      float64\n",
      " 20  Unnamed: 20                          0 non-null      float64\n",
      "dtypes: float64(6), object(15)\n",
      "memory usage: 601.4+ KB\n",
      "None\n"
     ]
    }
   ],
   "source": [
    "print(df_stat_series.info())"
   ]
  },
  {
   "cell_type": "markdown",
   "id": "136c819f-37b5-4828-b778-c45630d22dd3",
   "metadata": {},
   "source": [
    "### <span style=\"color:pink\"> Le DF Data contient 3 665 lignes qui sont numéroté de 0 à 3 664 et 21 colonnes </span>\n",
    "### <span style=\"color:pink\"> 15 colonnes contiennent du texte ou chaine de caractères </span>\n",
    "### <span style=\"color:pink\"> 6 colonnes des chiffres décimaux mais on remarque que 6 d'entre eux sont vides: je choisi de la supprimer tout de suite</span>"
   ]
  },
  {
   "cell_type": "code",
   "execution_count": 742,
   "id": "a9b76946-2988-4683-96e0-88b7c3519520",
   "metadata": {},
   "outputs": [],
   "source": [
    "df_stat_series = df_stat_series.drop(columns=['Unnamed: 20'])"
   ]
  },
  {
   "cell_type": "code",
   "execution_count": 743,
   "id": "0e6b8520-8b75-43c5-b15e-3d3058a6481c",
   "metadata": {},
   "outputs": [],
   "source": [
    "df_stat_series = df_stat_series.drop(columns=['License Type'])"
   ]
  },
  {
   "cell_type": "code",
   "execution_count": 744,
   "id": "618bb437-421d-493c-b760-ae819d87ed28",
   "metadata": {},
   "outputs": [],
   "source": [
    "df_stat_series = df_stat_series.drop(columns=['Related indicators'])"
   ]
  },
  {
   "cell_type": "code",
   "execution_count": 745,
   "id": "eb4c36bc-7208-436b-ad17-38e990ff3efd",
   "metadata": {},
   "outputs": [],
   "source": [
    "df_stat_series = df_stat_series.drop(columns=['Other web links'])"
   ]
  },
  {
   "cell_type": "code",
   "execution_count": 746,
   "id": "bb3dbf45-8bf0-460f-a5e9-67b53a6b9f14",
   "metadata": {},
   "outputs": [],
   "source": [
    "df_stat_series = df_stat_series.drop(columns=['Notes from original source'])"
   ]
  },
  {
   "cell_type": "code",
   "execution_count": 747,
   "id": "b4d0b1ee-804f-40d9-91d3-d5d5c54b8eed",
   "metadata": {},
   "outputs": [],
   "source": [
    "df_stat_series = df_stat_series.drop(columns=['Unit of measure'])"
   ]
  },
  {
   "cell_type": "code",
   "execution_count": 748,
   "id": "030298a6-9a47-4204-85b6-17b9ef83d201",
   "metadata": {},
   "outputs": [
    {
     "data": {
      "text/html": [
       "<div>\n",
       "<style scoped>\n",
       "    .dataframe tbody tr th:only-of-type {\n",
       "        vertical-align: middle;\n",
       "    }\n",
       "\n",
       "    .dataframe tbody tr th {\n",
       "        vertical-align: top;\n",
       "    }\n",
       "\n",
       "    .dataframe thead th {\n",
       "        text-align: right;\n",
       "    }\n",
       "</style>\n",
       "<table border=\"1\" class=\"dataframe\">\n",
       "  <thead>\n",
       "    <tr style=\"text-align: right;\">\n",
       "      <th></th>\n",
       "      <th>Series Code</th>\n",
       "      <th>Topic</th>\n",
       "      <th>Indicator Name</th>\n",
       "      <th>Short definition</th>\n",
       "      <th>Long definition</th>\n",
       "      <th>Periodicity</th>\n",
       "      <th>Base Period</th>\n",
       "      <th>Other notes</th>\n",
       "      <th>Aggregation method</th>\n",
       "      <th>Limitations and exceptions</th>\n",
       "      <th>General comments</th>\n",
       "      <th>Source</th>\n",
       "      <th>Statistical concept and methodology</th>\n",
       "      <th>Development relevance</th>\n",
       "      <th>Related source links</th>\n",
       "    </tr>\n",
       "  </thead>\n",
       "  <tbody>\n",
       "    <tr>\n",
       "      <th>0</th>\n",
       "      <td>BAR.NOED.1519.FE.ZS</td>\n",
       "      <td>Attainment</td>\n",
       "      <td>Barro-Lee: Percentage of female population age...</td>\n",
       "      <td>Percentage of female population age 15-19 with...</td>\n",
       "      <td>Percentage of female population age 15-19 with...</td>\n",
       "      <td>NaN</td>\n",
       "      <td>NaN</td>\n",
       "      <td>NaN</td>\n",
       "      <td>NaN</td>\n",
       "      <td>NaN</td>\n",
       "      <td>NaN</td>\n",
       "      <td>Robert J. Barro and Jong-Wha Lee: http://www.b...</td>\n",
       "      <td>NaN</td>\n",
       "      <td>NaN</td>\n",
       "      <td>NaN</td>\n",
       "    </tr>\n",
       "    <tr>\n",
       "      <th>1</th>\n",
       "      <td>BAR.NOED.1519.ZS</td>\n",
       "      <td>Attainment</td>\n",
       "      <td>Barro-Lee: Percentage of population age 15-19 ...</td>\n",
       "      <td>Percentage of population age 15-19 with no edu...</td>\n",
       "      <td>Percentage of population age 15-19 with no edu...</td>\n",
       "      <td>NaN</td>\n",
       "      <td>NaN</td>\n",
       "      <td>NaN</td>\n",
       "      <td>NaN</td>\n",
       "      <td>NaN</td>\n",
       "      <td>NaN</td>\n",
       "      <td>Robert J. Barro and Jong-Wha Lee: http://www.b...</td>\n",
       "      <td>NaN</td>\n",
       "      <td>NaN</td>\n",
       "      <td>NaN</td>\n",
       "    </tr>\n",
       "    <tr>\n",
       "      <th>2</th>\n",
       "      <td>BAR.NOED.15UP.FE.ZS</td>\n",
       "      <td>Attainment</td>\n",
       "      <td>Barro-Lee: Percentage of female population age...</td>\n",
       "      <td>Percentage of female population age 15+ with n...</td>\n",
       "      <td>Percentage of female population age 15+ with n...</td>\n",
       "      <td>NaN</td>\n",
       "      <td>NaN</td>\n",
       "      <td>NaN</td>\n",
       "      <td>NaN</td>\n",
       "      <td>NaN</td>\n",
       "      <td>NaN</td>\n",
       "      <td>Robert J. Barro and Jong-Wha Lee: http://www.b...</td>\n",
       "      <td>NaN</td>\n",
       "      <td>NaN</td>\n",
       "      <td>NaN</td>\n",
       "    </tr>\n",
       "    <tr>\n",
       "      <th>3</th>\n",
       "      <td>BAR.NOED.15UP.ZS</td>\n",
       "      <td>Attainment</td>\n",
       "      <td>Barro-Lee: Percentage of population age 15+ wi...</td>\n",
       "      <td>Percentage of population age 15+ with no educa...</td>\n",
       "      <td>Percentage of population age 15+ with no educa...</td>\n",
       "      <td>NaN</td>\n",
       "      <td>NaN</td>\n",
       "      <td>NaN</td>\n",
       "      <td>NaN</td>\n",
       "      <td>NaN</td>\n",
       "      <td>NaN</td>\n",
       "      <td>Robert J. Barro and Jong-Wha Lee: http://www.b...</td>\n",
       "      <td>NaN</td>\n",
       "      <td>NaN</td>\n",
       "      <td>NaN</td>\n",
       "    </tr>\n",
       "    <tr>\n",
       "      <th>4</th>\n",
       "      <td>BAR.NOED.2024.FE.ZS</td>\n",
       "      <td>Attainment</td>\n",
       "      <td>Barro-Lee: Percentage of female population age...</td>\n",
       "      <td>Percentage of female population age 20-24 with...</td>\n",
       "      <td>Percentage of female population age 20-24 with...</td>\n",
       "      <td>NaN</td>\n",
       "      <td>NaN</td>\n",
       "      <td>NaN</td>\n",
       "      <td>NaN</td>\n",
       "      <td>NaN</td>\n",
       "      <td>NaN</td>\n",
       "      <td>Robert J. Barro and Jong-Wha Lee: http://www.b...</td>\n",
       "      <td>NaN</td>\n",
       "      <td>NaN</td>\n",
       "      <td>NaN</td>\n",
       "    </tr>\n",
       "  </tbody>\n",
       "</table>\n",
       "</div>"
      ],
      "text/plain": [
       "           Series Code       Topic  \\\n",
       "0  BAR.NOED.1519.FE.ZS  Attainment   \n",
       "1     BAR.NOED.1519.ZS  Attainment   \n",
       "2  BAR.NOED.15UP.FE.ZS  Attainment   \n",
       "3     BAR.NOED.15UP.ZS  Attainment   \n",
       "4  BAR.NOED.2024.FE.ZS  Attainment   \n",
       "\n",
       "                                      Indicator Name  \\\n",
       "0  Barro-Lee: Percentage of female population age...   \n",
       "1  Barro-Lee: Percentage of population age 15-19 ...   \n",
       "2  Barro-Lee: Percentage of female population age...   \n",
       "3  Barro-Lee: Percentage of population age 15+ wi...   \n",
       "4  Barro-Lee: Percentage of female population age...   \n",
       "\n",
       "                                    Short definition  \\\n",
       "0  Percentage of female population age 15-19 with...   \n",
       "1  Percentage of population age 15-19 with no edu...   \n",
       "2  Percentage of female population age 15+ with n...   \n",
       "3  Percentage of population age 15+ with no educa...   \n",
       "4  Percentage of female population age 20-24 with...   \n",
       "\n",
       "                                     Long definition Periodicity Base Period  \\\n",
       "0  Percentage of female population age 15-19 with...         NaN         NaN   \n",
       "1  Percentage of population age 15-19 with no edu...         NaN         NaN   \n",
       "2  Percentage of female population age 15+ with n...         NaN         NaN   \n",
       "3  Percentage of population age 15+ with no educa...         NaN         NaN   \n",
       "4  Percentage of female population age 20-24 with...         NaN         NaN   \n",
       "\n",
       "  Other notes Aggregation method Limitations and exceptions General comments  \\\n",
       "0         NaN                NaN                        NaN              NaN   \n",
       "1         NaN                NaN                        NaN              NaN   \n",
       "2         NaN                NaN                        NaN              NaN   \n",
       "3         NaN                NaN                        NaN              NaN   \n",
       "4         NaN                NaN                        NaN              NaN   \n",
       "\n",
       "                                              Source  \\\n",
       "0  Robert J. Barro and Jong-Wha Lee: http://www.b...   \n",
       "1  Robert J. Barro and Jong-Wha Lee: http://www.b...   \n",
       "2  Robert J. Barro and Jong-Wha Lee: http://www.b...   \n",
       "3  Robert J. Barro and Jong-Wha Lee: http://www.b...   \n",
       "4  Robert J. Barro and Jong-Wha Lee: http://www.b...   \n",
       "\n",
       "  Statistical concept and methodology Development relevance  \\\n",
       "0                                 NaN                   NaN   \n",
       "1                                 NaN                   NaN   \n",
       "2                                 NaN                   NaN   \n",
       "3                                 NaN                   NaN   \n",
       "4                                 NaN                   NaN   \n",
       "\n",
       "  Related source links  \n",
       "0                  NaN  \n",
       "1                  NaN  \n",
       "2                  NaN  \n",
       "3                  NaN  \n",
       "4                  NaN  "
      ]
     },
     "execution_count": 748,
     "metadata": {},
     "output_type": "execute_result"
    }
   ],
   "source": [
    "df_stat_series.head()"
   ]
  },
  {
   "cell_type": "code",
   "execution_count": 749,
   "id": "fd7cab5e-0ba4-45d0-99e7-580943e29d7e",
   "metadata": {},
   "outputs": [],
   "source": [
    "df_stat_series = df_stat_series.drop(columns=['Source'])"
   ]
  },
  {
   "cell_type": "code",
   "execution_count": 750,
   "id": "4a206190-120f-4fd8-b45e-9a9aeaab03ef",
   "metadata": {},
   "outputs": [],
   "source": [
    "df_stat_series = df_stat_series.drop(columns=['Related source links'])"
   ]
  },
  {
   "cell_type": "markdown",
   "id": "9ae68ddf-c53a-4c35-87a5-92605df6ec6b",
   "metadata": {},
   "source": [
    "### <span style=\"color:pink\"> Je supprime la colonne source et link qui je suis sur ne me servira pas </span>"
   ]
  },
  {
   "cell_type": "code",
   "execution_count": 751,
   "id": "672ca401-df7d-44ac-8c48-33585402369d",
   "metadata": {},
   "outputs": [
    {
     "name": "stdout",
     "output_type": "stream",
     "text": [
      "<class 'pandas.core.frame.DataFrame'>\n",
      "RangeIndex: 3665 entries, 0 to 3664\n",
      "Data columns (total 13 columns):\n",
      " #   Column                               Non-Null Count  Dtype \n",
      "---  ------                               --------------  ----- \n",
      " 0   Series Code                          3665 non-null   object\n",
      " 1   Topic                                3665 non-null   object\n",
      " 2   Indicator Name                       3665 non-null   object\n",
      " 3   Short definition                     2156 non-null   object\n",
      " 4   Long definition                      3665 non-null   object\n",
      " 5   Periodicity                          99 non-null     object\n",
      " 6   Base Period                          314 non-null    object\n",
      " 7   Other notes                          552 non-null    object\n",
      " 8   Aggregation method                   47 non-null     object\n",
      " 9   Limitations and exceptions           14 non-null     object\n",
      " 10  General comments                     14 non-null     object\n",
      " 11  Statistical concept and methodology  23 non-null     object\n",
      " 12  Development relevance                3 non-null      object\n",
      "dtypes: object(13)\n",
      "memory usage: 372.4+ KB\n",
      "None\n"
     ]
    }
   ],
   "source": [
    "print(df_stat_series.info())"
   ]
  },
  {
   "cell_type": "markdown",
   "id": "41a26804-161f-49bd-8ac1-edc3a4e88246",
   "metadata": {},
   "source": [
    "### <span style=\"color:pink\"> Juste pour controler que j'ai que des objects </span>"
   ]
  },
  {
   "cell_type": "code",
   "execution_count": 752,
   "id": "ae9eda3f-19fb-43f6-9d26-9093d7f7f90d",
   "metadata": {},
   "outputs": [
    {
     "name": "stdout",
     "output_type": "stream",
     "text": [
      "                Series Code              Topic  \\\n",
      "count                  3665               3665   \n",
      "unique                 3665                 37   \n",
      "top     BAR.NOED.1519.FE.ZS  Learning Outcomes   \n",
      "freq                      1               1046   \n",
      "\n",
      "                                           Indicator Name  \\\n",
      "count                                                3665   \n",
      "unique                                               3665   \n",
      "top     Barro-Lee: Percentage of female population age...   \n",
      "freq                                                    1   \n",
      "\n",
      "                                         Short definition  \\\n",
      "count                                                2156   \n",
      "unique                                               1169   \n",
      "top     Data Interpretation: 1=Latent; 2=Emerging; 3=E...   \n",
      "freq                                                  215   \n",
      "\n",
      "                                          Long definition Periodicity  \\\n",
      "count                                                3665          99   \n",
      "unique                                               2060           1   \n",
      "top     Data Interpretation: 1=Latent; 2=Emerging; 3=E...      Annual   \n",
      "freq                                                  215          99   \n",
      "\n",
      "                       Base Period Other notes Aggregation method  \\\n",
      "count                          314         552                 47   \n",
      "unique                           4          14                  3   \n",
      "top     Projections (2010 to 2100)        EGRA   Weighted average   \n",
      "freq                           308         403                 31   \n",
      "\n",
      "                               Limitations and exceptions  \\\n",
      "count                                                  14   \n",
      "unique                                                  9   \n",
      "top     Data should be used cautiously because of diff...   \n",
      "freq                                                    3   \n",
      "\n",
      "                                         General comments  \\\n",
      "count                                                  14   \n",
      "unique                                                  8   \n",
      "top     When NEET rates are available for more than tw...   \n",
      "freq                                                    3   \n",
      "\n",
      "       Statistical concept and methodology  \\\n",
      "count                                   23   \n",
      "unique                                   2   \n",
      "top                                  TIMSS   \n",
      "freq                                    20   \n",
      "\n",
      "                                    Development relevance  \n",
      "count                                                   3  \n",
      "unique                                                  1  \n",
      "top     Unemployment and total employment are the broa...  \n",
      "freq                                                    3  \n"
     ]
    }
   ],
   "source": [
    "print(df_stat_series.describe(include='object'))"
   ]
  },
  {
   "cell_type": "markdown",
   "id": "603a0ea7-5ef1-4226-8a47-c18030dfb30a",
   "metadata": {},
   "source": [
    "### <span style=\"color:pink\">La colonne Series Code contient 3665 indicateurs </span>\n",
    "### <span style=\"color:pink\">Tous aparaissent 1X par exemple l'indicateur BAR.NOED.1519.FE.ZS, j'imagine sur la scolarisation des femmes </span>\n",
    "### <span style=\"color:pink\">Il y a 37 thèmes, Learning Outcomes est le plus fréquent avec 1046 X</span>\n",
    "### <span style=\"color:pink\">Chaque code possède un nom nunique 3665</span>\n",
    "### <span style=\"color:pink\">2156 definition courtes 1169 catégories</span>\n",
    "### <span style=\"color:pink\">3665 Long definition Periodicity dont 2060 catégories, Data Interpretation: 1=Latent; 2=Emerging; 3=E aprait le plus 215X</span>\n",
    "### <span style=\"color:pink\">Une colonne indique si les données concernent des projections ou des périodes spécifiques: Projections (2010 to 2100)</span>\n",
    "### <span style=\"color:pink\"> les dernières colonnes Aggregation method est très peu renseigné 47 lignes dont 3 uniques</span>\n",
    "### <span style=\"color:pink\">Limitations and exceptions très peu renseigné 14 dont 8 unique</span>"
   ]
  },
  {
   "cell_type": "markdown",
   "id": "c172080b-412b-4e42-9f09-b117ecc7f594",
   "metadata": {},
   "source": [
    "# <span style=\"color:blue\">ÉTAPE 3: RÉALISER VOTRE 1ER NETTOYAGE</span>"
   ]
  },
  {
   "cell_type": "markdown",
   "id": "1a724162-6fa8-4da0-999e-775a3d1e8bed",
   "metadata": {},
   "source": [
    "## Regardez de plus près les lignes du fichier Country pour identifier des faux pays.\n",
    "## Supprimez les lignes correspondantes du dataframe contenant la donnée Country.\n",
    "## Utilisez les 2 méthodes suivantes pour supprimer les faux pays des autres dataframes : \n",
    "## En stockant les faux pays dans une liste qui sera utilisée pour le filtrage des différents dataframes. \n",
    "## En utilisant un inner join entre les pays du dataframe Country nettoyé, et les autres dataframes."
   ]
  },
  {
   "cell_type": "code",
   "execution_count": 753,
   "id": "6c80be54-a892-41c5-a3e0-822b9d512209",
   "metadata": {},
   "outputs": [
    {
     "data": {
      "text/html": [
       "<div>\n",
       "<style scoped>\n",
       "    .dataframe tbody tr th:only-of-type {\n",
       "        vertical-align: middle;\n",
       "    }\n",
       "\n",
       "    .dataframe tbody tr th {\n",
       "        vertical-align: top;\n",
       "    }\n",
       "\n",
       "    .dataframe thead th {\n",
       "        text-align: right;\n",
       "    }\n",
       "</style>\n",
       "<table border=\"1\" class=\"dataframe\">\n",
       "  <thead>\n",
       "    <tr style=\"text-align: right;\">\n",
       "      <th></th>\n",
       "      <th>Country Code</th>\n",
       "      <th>Short Name</th>\n",
       "      <th>Table Name</th>\n",
       "      <th>Long Name</th>\n",
       "      <th>2-alpha code</th>\n",
       "      <th>Currency Unit</th>\n",
       "      <th>Region</th>\n",
       "      <th>Income Group</th>\n",
       "      <th>WB-2 code</th>\n",
       "      <th>National accounts base year</th>\n",
       "      <th>...</th>\n",
       "      <th>Government Accounting concept</th>\n",
       "      <th>IMF data dissemination standard</th>\n",
       "      <th>Latest population census</th>\n",
       "      <th>Latest household survey</th>\n",
       "      <th>Source of most recent Income and expenditure data</th>\n",
       "      <th>Vital registration complete</th>\n",
       "      <th>Latest agricultural census</th>\n",
       "      <th>Latest industrial data</th>\n",
       "      <th>Latest trade data</th>\n",
       "      <th>Latest water withdrawal data</th>\n",
       "    </tr>\n",
       "  </thead>\n",
       "  <tbody>\n",
       "    <tr>\n",
       "      <th>0</th>\n",
       "      <td>ABW</td>\n",
       "      <td>Aruba</td>\n",
       "      <td>Aruba</td>\n",
       "      <td>Aruba</td>\n",
       "      <td>AW</td>\n",
       "      <td>Aruban florin</td>\n",
       "      <td>Latin America &amp; Caribbean</td>\n",
       "      <td>High income: nonOECD</td>\n",
       "      <td>AW</td>\n",
       "      <td>2000</td>\n",
       "      <td>...</td>\n",
       "      <td>NaN</td>\n",
       "      <td>NaN</td>\n",
       "      <td>2010</td>\n",
       "      <td>NaN</td>\n",
       "      <td>NaN</td>\n",
       "      <td>Yes</td>\n",
       "      <td>NaN</td>\n",
       "      <td>NaN</td>\n",
       "      <td>2012.0</td>\n",
       "      <td>NaN</td>\n",
       "    </tr>\n",
       "    <tr>\n",
       "      <th>1</th>\n",
       "      <td>AFG</td>\n",
       "      <td>Afghanistan</td>\n",
       "      <td>Afghanistan</td>\n",
       "      <td>Islamic State of Afghanistan</td>\n",
       "      <td>AF</td>\n",
       "      <td>Afghan afghani</td>\n",
       "      <td>South Asia</td>\n",
       "      <td>Low income</td>\n",
       "      <td>AF</td>\n",
       "      <td>2002/03</td>\n",
       "      <td>...</td>\n",
       "      <td>Consolidated central government</td>\n",
       "      <td>General Data Dissemination System (GDDS)</td>\n",
       "      <td>1979</td>\n",
       "      <td>Multiple Indicator Cluster Survey (MICS), 2010/11</td>\n",
       "      <td>Integrated household survey (IHS), 2008</td>\n",
       "      <td>NaN</td>\n",
       "      <td>2013/14</td>\n",
       "      <td>NaN</td>\n",
       "      <td>2012.0</td>\n",
       "      <td>2000</td>\n",
       "    </tr>\n",
       "    <tr>\n",
       "      <th>2</th>\n",
       "      <td>AGO</td>\n",
       "      <td>Angola</td>\n",
       "      <td>Angola</td>\n",
       "      <td>People's Republic of Angola</td>\n",
       "      <td>AO</td>\n",
       "      <td>Angolan kwanza</td>\n",
       "      <td>Sub-Saharan Africa</td>\n",
       "      <td>Upper middle income</td>\n",
       "      <td>AO</td>\n",
       "      <td>2002</td>\n",
       "      <td>...</td>\n",
       "      <td>Budgetary central government</td>\n",
       "      <td>General Data Dissemination System (GDDS)</td>\n",
       "      <td>1970</td>\n",
       "      <td>Malaria Indicator Survey (MIS), 2011</td>\n",
       "      <td>Integrated household survey (IHS), 2008</td>\n",
       "      <td>NaN</td>\n",
       "      <td>2015</td>\n",
       "      <td>NaN</td>\n",
       "      <td>NaN</td>\n",
       "      <td>2005</td>\n",
       "    </tr>\n",
       "    <tr>\n",
       "      <th>3</th>\n",
       "      <td>ALB</td>\n",
       "      <td>Albania</td>\n",
       "      <td>Albania</td>\n",
       "      <td>Republic of Albania</td>\n",
       "      <td>AL</td>\n",
       "      <td>Albanian lek</td>\n",
       "      <td>Europe &amp; Central Asia</td>\n",
       "      <td>Upper middle income</td>\n",
       "      <td>AL</td>\n",
       "      <td>Original chained constant price data are resca...</td>\n",
       "      <td>...</td>\n",
       "      <td>Budgetary central government</td>\n",
       "      <td>General Data Dissemination System (GDDS)</td>\n",
       "      <td>2011</td>\n",
       "      <td>Demographic and Health Survey (DHS), 2008/09</td>\n",
       "      <td>Living Standards Measurement Study Survey (LSM...</td>\n",
       "      <td>Yes</td>\n",
       "      <td>2012</td>\n",
       "      <td>2010.0</td>\n",
       "      <td>2012.0</td>\n",
       "      <td>2006</td>\n",
       "    </tr>\n",
       "    <tr>\n",
       "      <th>4</th>\n",
       "      <td>AND</td>\n",
       "      <td>Andorra</td>\n",
       "      <td>Andorra</td>\n",
       "      <td>Principality of Andorra</td>\n",
       "      <td>AD</td>\n",
       "      <td>Euro</td>\n",
       "      <td>Europe &amp; Central Asia</td>\n",
       "      <td>High income: nonOECD</td>\n",
       "      <td>AD</td>\n",
       "      <td>1990</td>\n",
       "      <td>...</td>\n",
       "      <td>NaN</td>\n",
       "      <td>NaN</td>\n",
       "      <td>2011. Population figures compiled from adminis...</td>\n",
       "      <td>NaN</td>\n",
       "      <td>NaN</td>\n",
       "      <td>Yes</td>\n",
       "      <td>NaN</td>\n",
       "      <td>NaN</td>\n",
       "      <td>2006.0</td>\n",
       "      <td>NaN</td>\n",
       "    </tr>\n",
       "  </tbody>\n",
       "</table>\n",
       "<p>5 rows × 30 columns</p>\n",
       "</div>"
      ],
      "text/plain": [
       "  Country Code   Short Name   Table Name                     Long Name  \\\n",
       "0          ABW        Aruba        Aruba                         Aruba   \n",
       "1          AFG  Afghanistan  Afghanistan  Islamic State of Afghanistan   \n",
       "2          AGO       Angola       Angola   People's Republic of Angola   \n",
       "3          ALB      Albania      Albania           Republic of Albania   \n",
       "4          AND      Andorra      Andorra       Principality of Andorra   \n",
       "\n",
       "  2-alpha code   Currency Unit                     Region  \\\n",
       "0           AW   Aruban florin  Latin America & Caribbean   \n",
       "1           AF  Afghan afghani                 South Asia   \n",
       "2           AO  Angolan kwanza         Sub-Saharan Africa   \n",
       "3           AL    Albanian lek      Europe & Central Asia   \n",
       "4           AD            Euro      Europe & Central Asia   \n",
       "\n",
       "           Income Group WB-2 code  \\\n",
       "0  High income: nonOECD        AW   \n",
       "1            Low income        AF   \n",
       "2   Upper middle income        AO   \n",
       "3   Upper middle income        AL   \n",
       "4  High income: nonOECD        AD   \n",
       "\n",
       "                         National accounts base year  ...  \\\n",
       "0                                               2000  ...   \n",
       "1                                            2002/03  ...   \n",
       "2                                               2002  ...   \n",
       "3  Original chained constant price data are resca...  ...   \n",
       "4                                               1990  ...   \n",
       "\n",
       "     Government Accounting concept           IMF data dissemination standard  \\\n",
       "0                              NaN                                       NaN   \n",
       "1  Consolidated central government  General Data Dissemination System (GDDS)   \n",
       "2     Budgetary central government  General Data Dissemination System (GDDS)   \n",
       "3     Budgetary central government  General Data Dissemination System (GDDS)   \n",
       "4                              NaN                                       NaN   \n",
       "\n",
       "                            Latest population census  \\\n",
       "0                                               2010   \n",
       "1                                               1979   \n",
       "2                                               1970   \n",
       "3                                               2011   \n",
       "4  2011. Population figures compiled from adminis...   \n",
       "\n",
       "                             Latest household survey  \\\n",
       "0                                                NaN   \n",
       "1  Multiple Indicator Cluster Survey (MICS), 2010/11   \n",
       "2               Malaria Indicator Survey (MIS), 2011   \n",
       "3       Demographic and Health Survey (DHS), 2008/09   \n",
       "4                                                NaN   \n",
       "\n",
       "   Source of most recent Income and expenditure data  \\\n",
       "0                                                NaN   \n",
       "1            Integrated household survey (IHS), 2008   \n",
       "2            Integrated household survey (IHS), 2008   \n",
       "3  Living Standards Measurement Study Survey (LSM...   \n",
       "4                                                NaN   \n",
       "\n",
       "  Vital registration complete Latest agricultural census  \\\n",
       "0                         Yes                        NaN   \n",
       "1                         NaN                    2013/14   \n",
       "2                         NaN                       2015   \n",
       "3                         Yes                       2012   \n",
       "4                         Yes                        NaN   \n",
       "\n",
       "  Latest industrial data Latest trade data Latest water withdrawal data  \n",
       "0                    NaN            2012.0                          NaN  \n",
       "1                    NaN            2012.0                         2000  \n",
       "2                    NaN               NaN                         2005  \n",
       "3                 2010.0            2012.0                         2006  \n",
       "4                    NaN            2006.0                          NaN  \n",
       "\n",
       "[5 rows x 30 columns]"
      ]
     },
     "execution_count": 753,
     "metadata": {},
     "output_type": "execute_result"
    }
   ],
   "source": [
    "df_country.head()"
   ]
  },
  {
   "cell_type": "markdown",
   "id": "873a0a5f-b488-46ba-bbdc-9f2c33e9ed4a",
   "metadata": {},
   "source": [
    "### <span style=\"color:pink\">J'identifie les faux pays</span>\n",
    "### <span style=\"color:pink\">Je veux voir la liste des valeurs uniques de Region, si je vois aggregates ou des zones régionales World ce sont probablement des faux pays.</span>"
   ]
  },
  {
   "cell_type": "code",
   "execution_count": 754,
   "id": "33945c32-dc7d-475f-97d8-b6c7856adf1c",
   "metadata": {},
   "outputs": [
    {
     "name": "stdout",
     "output_type": "stream",
     "text": [
      "['Latin America & Caribbean' 'South Asia' 'Sub-Saharan Africa'\n",
      " 'Europe & Central Asia' nan 'Middle East & North Africa'\n",
      " 'East Asia & Pacific' 'North America']\n"
     ]
    }
   ],
   "source": [
    "print(df_country['Region'].unique())"
   ]
  },
  {
   "cell_type": "markdown",
   "id": "7032f599-8e4e-4909-87f8-3b247e7ac451",
   "metadata": {},
   "source": [
    "### <span style=\"color:pink\">Je n'ai pas de fausses région, je vais rechercher dans les Noms courts</span>"
   ]
  },
  {
   "cell_type": "code",
   "execution_count": 755,
   "id": "6c6759ae-6b9a-44a2-98bd-ff17f1aac892",
   "metadata": {},
   "outputs": [
    {
     "name": "stdout",
     "output_type": "stream",
     "text": [
      "['Afghanistan' 'Albania' 'Algeria' 'American Samoa' 'Andorra' 'Angola'\n",
      " 'Antigua and Barbuda' 'Arab World' 'Argentina' 'Armenia' 'Aruba'\n",
      " 'Australia' 'Austria' 'Azerbaijan' 'Bahrain' 'Bangladesh' 'Barbados'\n",
      " 'Belarus' 'Belgium' 'Belize' 'Benin' 'Bermuda' 'Bhutan' 'Bolivia'\n",
      " 'Bosnia and Herzegovina' 'Botswana' 'Brazil' 'Brunei' 'Bulgaria'\n",
      " 'Burkina Faso' 'Burundi' 'Cabo Verde' 'Cambodia' 'Cameroon' 'Canada'\n",
      " 'Cayman Islands' 'Central African Republic' 'Chad' 'Channel Islands'\n",
      " 'Chile' 'China' 'Colombia' 'Comoros' 'Congo' 'Costa Rica' 'Croatia'\n",
      " 'Cuba' 'Curaçao' 'Cyprus' 'Czech Republic' \"Côte d'Ivoire\"\n",
      " \"Dem. People's Rep. Korea\" 'Dem. Rep. Congo' 'Denmark' 'Djibouti'\n",
      " 'Dominica' 'Dominican Republic' 'East Asia & Pacific (all income levels)'\n",
      " 'East Asia & Pacific (developing only)' 'Ecuador' 'Egypt' 'El Salvador'\n",
      " 'Equatorial Guinea' 'Eritrea' 'Estonia' 'Ethiopia' 'Euro area'\n",
      " 'Europe & Central Asia (all income levels)'\n",
      " 'Europe & Central Asia (developing only)' 'European Union'\n",
      " 'Faeroe Islands' 'Fiji' 'Finland' 'France' 'French Polynesia' 'Gabon'\n",
      " 'Georgia' 'Germany' 'Ghana' 'Gibraltar' 'Greece' 'Greenland' 'Grenada'\n",
      " 'Guam' 'Guatemala' 'Guinea' 'Guinea-Bissau' 'Guyana' 'Haiti'\n",
      " 'Heavily indebted poor countries (HIPC)' 'High income' 'Honduras'\n",
      " 'Hong Kong SAR, China' 'Hungary' 'Iceland' 'India' 'Indonesia' 'Iran'\n",
      " 'Iraq' 'Ireland' 'Isle of Man' 'Israel' 'Italy' 'Jamaica' 'Japan'\n",
      " 'Jordan' 'Kazakhstan' 'Kenya' 'Kiribati' 'Korea' 'Kosovo' 'Kuwait'\n",
      " 'Kyrgyz Republic' 'Lao PDR'\n",
      " 'Latin America & Caribbean (all income levels)'\n",
      " 'Latin America & Caribbean (developing only)' 'Latvia'\n",
      " 'Least developed countries: UN classification' 'Lebanon' 'Lesotho'\n",
      " 'Liberia' 'Libya' 'Liechtenstein' 'Lithuania' 'Low & middle income'\n",
      " 'Low income' 'Lower middle income' 'Luxembourg' 'Macao SAR, China'\n",
      " 'Macedonia' 'Madagascar' 'Malawi' 'Malaysia' 'Maldives' 'Mali' 'Malta'\n",
      " 'Marshall Islands' 'Mauritania' 'Mauritius' 'Mexico' 'Micronesia'\n",
      " 'Middle East & North Africa (all income levels)'\n",
      " 'Middle East & North Africa (developing only)' 'Middle income' 'Moldova'\n",
      " 'Monaco' 'Mongolia' 'Montenegro' 'Morocco' 'Mozambique' 'Myanmar'\n",
      " 'Namibia' 'Nauru' 'Nepal' 'Netherlands' 'New Caledonia' 'New Zealand'\n",
      " 'Nicaragua' 'Niger' 'Nigeria' 'North America' 'Northern Mariana Islands'\n",
      " 'Norway' 'OECD members' 'Oman' 'Pakistan' 'Palau' 'Panama'\n",
      " 'Papua New Guinea' 'Paraguay' 'Peru' 'Philippines' 'Poland' 'Portugal'\n",
      " 'Puerto Rico' 'Qatar' 'Romania' 'Russia' 'Rwanda' 'Samoa' 'San Marino'\n",
      " 'Saudi Arabia' 'Senegal' 'Serbia' 'Seychelles' 'Sierra Leone' 'Singapore'\n",
      " 'Sint Maarten (Dutch part)' 'Slovak Republic' 'Slovenia'\n",
      " 'Solomon Islands' 'Somalia' 'South Africa' 'South Asia' 'South Sudan'\n",
      " 'Spain' 'Sri Lanka' 'St. Kitts and Nevis' 'St. Lucia'\n",
      " 'St. Martin (French part)' 'St. Vincent and the Grenadines'\n",
      " 'Sub-Saharan Africa (all income levels)'\n",
      " 'Sub-Saharan Africa (developing only)' 'Sudan' 'Suriname' 'Swaziland'\n",
      " 'Sweden' 'Switzerland' 'Syrian Arab Republic' 'São Tomé and Principe'\n",
      " 'Tajikistan' 'Tanzania' 'Thailand' 'The Bahamas' 'The Gambia'\n",
      " 'Timor-Leste' 'Togo' 'Tonga' 'Trinidad and Tobago' 'Tunisia' 'Turkey'\n",
      " 'Turkmenistan' 'Turks and Caicos Islands' 'Tuvalu' 'Uganda' 'Ukraine'\n",
      " 'United Arab Emirates' 'United Kingdom' 'United States'\n",
      " 'Upper middle income' 'Uruguay' 'Uzbekistan' 'Vanuatu' 'Venezuela'\n",
      " 'Vietnam' 'Virgin Islands' 'West Bank and Gaza' 'World' 'Yemen' 'Zambia'\n",
      " 'Zimbabwe']\n"
     ]
    }
   ],
   "source": [
    "print(df_country['Short Name'].sort_values().unique())"
   ]
  },
  {
   "cell_type": "markdown",
   "id": "cddd19bf-3260-46e3-ac11-aabe5b1b44d4",
   "metadata": {},
   "source": [
    "### <span style=\"color:pink\">J'ai bien une liste de faux pays qui sont des agrégas ou groupe que voici:</span>\n",
    "### <span style=\"color:pink\">'Arab World','East Asia & Pacific (all income levels)','East Asia & Pacific (developing only)','Europe & Central Asia (all income levels)','Europe & Central Asia (developing only)','European Union','Heavily indebted poor countries (HIPC)','Latin America & Caribbean (all income levels)','Latin America & Caribbean (developing only)','Least developed countries: UN classification','Middle East & North Africa (all income levels)','Middle East & North Africa (developing only)','North America','OECD members','South Asia','Sub-Saharan Africa (all income levels)','Sub-Saharan Africa (developing only)','World','High income','Low & middle income','Low income','Lower middle income','Middle income',Upper middle income']</span>\n",
    "\n",
    "### <span style=\"color:pink\">Ce sont ces noms qu’il faut supprimer du DataFrame Country et des autres DataFrames, je créer une liste False_country puis supprime les faux pays de la colonne Short name  </span>"
   ]
  },
  {
   "cell_type": "code",
   "execution_count": 756,
   "id": "f1fd68e0-373f-4083-a83f-c1efbfad46bd",
   "metadata": {},
   "outputs": [],
   "source": [
    "false_countries = [\n",
    "    'Arab World',\n",
    "    'East Asia & Pacific (all income levels)',\n",
    "    'East Asia & Pacific (developing only)',\n",
    "    'Europe & Central Asia (all income levels)',\n",
    "    'Europe & Central Asia (developing only)',\n",
    "    'European Union',\n",
    "    'Heavily indebted poor countries (HIPC)',\n",
    "    'Latin America & Caribbean (all income levels)',\n",
    "    'Latin America & Caribbean (developing only)',\n",
    "    'Least developed countries: UN classification',\n",
    "    'Middle East & North Africa (all income levels)',\n",
    "    'Middle East & North Africa (developing only)',\n",
    "    'North America',\n",
    "    'OECD members',\n",
    "    'South Asia',\n",
    "    'Sub-Saharan Africa (all income levels)',\n",
    "    'Sub-Saharan Africa (developing only)',\n",
    "    'World',\n",
    "    'High income',\n",
    "    'Low & middle income',\n",
    "    'Low income',\n",
    "    'Lower middle income',\n",
    "    'Middle income',\n",
    "    'Upper middle income'\n",
    "]"
   ]
  },
  {
   "cell_type": "code",
   "execution_count": 757,
   "id": "e3e8002c-2dde-481a-a121-c2e3f36d6f3b",
   "metadata": {},
   "outputs": [
    {
     "data": {
      "text/plain": [
       "21"
      ]
     },
     "execution_count": 757,
     "metadata": {},
     "output_type": "execute_result"
    }
   ],
   "source": [
    "filtered_names = [name for name in df_country['Short Name'].unique()\n",
    "                  if 'income' in name.lower() or\n",
    "                     'world' in name.lower() or\n",
    "                     '(' in name]\n",
    "len(filtered_names)\n",
    "filtered_names\n",
    "len(filtered_names)"
   ]
  },
  {
   "cell_type": "code",
   "execution_count": 758,
   "id": "272179ce-4d34-4957-a9c4-d755a127dd4e",
   "metadata": {},
   "outputs": [],
   "source": [
    "df_country_cleaned = df_country[~df_country['Short Name'].isin(false_countries)]"
   ]
  },
  {
   "cell_type": "code",
   "execution_count": 759,
   "id": "4b6c5833-7a56-4353-bfb1-fbcf3f4bbb52",
   "metadata": {},
   "outputs": [
    {
     "name": "stdout",
     "output_type": "stream",
     "text": [
      "0             Aruba\n",
      "1       Afghanistan\n",
      "2            Angola\n",
      "3           Albania\n",
      "4           Andorra\n",
      "           ...     \n",
      "236          Kosovo\n",
      "237           Yemen\n",
      "238    South Africa\n",
      "239          Zambia\n",
      "240        Zimbabwe\n",
      "Name: Short Name, Length: 217, dtype: object\n"
     ]
    }
   ],
   "source": [
    "print(df_country_cleaned['Short Name'])"
   ]
  },
  {
   "cell_type": "code",
   "execution_count": 760,
   "id": "ae8e6b09-6f7b-4759-9c72-c5b4b6a5a22e",
   "metadata": {},
   "outputs": [
    {
     "name": "stdout",
     "output_type": "stream",
     "text": [
      "['Afghanistan' 'Albania' 'Algeria' 'American Samoa' 'Andorra' 'Angola'\n",
      " 'Antigua and Barbuda' 'Argentina' 'Armenia' 'Aruba' 'Australia' 'Austria'\n",
      " 'Azerbaijan' 'Bahrain' 'Bangladesh' 'Barbados' 'Belarus' 'Belgium'\n",
      " 'Belize' 'Benin' 'Bermuda' 'Bhutan' 'Bolivia' 'Bosnia and Herzegovina'\n",
      " 'Botswana' 'Brazil' 'Brunei' 'Bulgaria' 'Burkina Faso' 'Burundi'\n",
      " 'Cabo Verde' 'Cambodia' 'Cameroon' 'Canada' 'Cayman Islands'\n",
      " 'Central African Republic' 'Chad' 'Channel Islands' 'Chile' 'China'\n",
      " 'Colombia' 'Comoros' 'Congo' 'Costa Rica' 'Croatia' 'Cuba' 'Curaçao'\n",
      " 'Cyprus' 'Czech Republic' \"Côte d'Ivoire\" \"Dem. People's Rep. Korea\"\n",
      " 'Dem. Rep. Congo' 'Denmark' 'Djibouti' 'Dominica' 'Dominican Republic'\n",
      " 'Ecuador' 'Egypt' 'El Salvador' 'Equatorial Guinea' 'Eritrea' 'Estonia'\n",
      " 'Ethiopia' 'Euro area' 'Faeroe Islands' 'Fiji' 'Finland' 'France'\n",
      " 'French Polynesia' 'Gabon' 'Georgia' 'Germany' 'Ghana' 'Gibraltar'\n",
      " 'Greece' 'Greenland' 'Grenada' 'Guam' 'Guatemala' 'Guinea'\n",
      " 'Guinea-Bissau' 'Guyana' 'Haiti' 'Honduras' 'Hong Kong SAR, China'\n",
      " 'Hungary' 'Iceland' 'India' 'Indonesia' 'Iran' 'Iraq' 'Ireland'\n",
      " 'Isle of Man' 'Israel' 'Italy' 'Jamaica' 'Japan' 'Jordan' 'Kazakhstan'\n",
      " 'Kenya' 'Kiribati' 'Korea' 'Kosovo' 'Kuwait' 'Kyrgyz Republic' 'Lao PDR'\n",
      " 'Latvia' 'Lebanon' 'Lesotho' 'Liberia' 'Libya' 'Liechtenstein'\n",
      " 'Lithuania' 'Luxembourg' 'Macao SAR, China' 'Macedonia' 'Madagascar'\n",
      " 'Malawi' 'Malaysia' 'Maldives' 'Mali' 'Malta' 'Marshall Islands'\n",
      " 'Mauritania' 'Mauritius' 'Mexico' 'Micronesia' 'Moldova' 'Monaco'\n",
      " 'Mongolia' 'Montenegro' 'Morocco' 'Mozambique' 'Myanmar' 'Namibia'\n",
      " 'Nauru' 'Nepal' 'Netherlands' 'New Caledonia' 'New Zealand' 'Nicaragua'\n",
      " 'Niger' 'Nigeria' 'Northern Mariana Islands' 'Norway' 'Oman' 'Pakistan'\n",
      " 'Palau' 'Panama' 'Papua New Guinea' 'Paraguay' 'Peru' 'Philippines'\n",
      " 'Poland' 'Portugal' 'Puerto Rico' 'Qatar' 'Romania' 'Russia' 'Rwanda'\n",
      " 'Samoa' 'San Marino' 'Saudi Arabia' 'Senegal' 'Serbia' 'Seychelles'\n",
      " 'Sierra Leone' 'Singapore' 'Sint Maarten (Dutch part)' 'Slovak Republic'\n",
      " 'Slovenia' 'Solomon Islands' 'Somalia' 'South Africa' 'South Sudan'\n",
      " 'Spain' 'Sri Lanka' 'St. Kitts and Nevis' 'St. Lucia'\n",
      " 'St. Martin (French part)' 'St. Vincent and the Grenadines' 'Sudan'\n",
      " 'Suriname' 'Swaziland' 'Sweden' 'Switzerland' 'Syrian Arab Republic'\n",
      " 'São Tomé and Principe' 'Tajikistan' 'Tanzania' 'Thailand' 'The Bahamas'\n",
      " 'The Gambia' 'Timor-Leste' 'Togo' 'Tonga' 'Trinidad and Tobago' 'Tunisia'\n",
      " 'Turkey' 'Turkmenistan' 'Turks and Caicos Islands' 'Tuvalu' 'Uganda'\n",
      " 'Ukraine' 'United Arab Emirates' 'United Kingdom' 'United States'\n",
      " 'Uruguay' 'Uzbekistan' 'Vanuatu' 'Venezuela' 'Vietnam' 'Virgin Islands'\n",
      " 'West Bank and Gaza' 'Yemen' 'Zambia' 'Zimbabwe']\n"
     ]
    }
   ],
   "source": [
    "print(df_country_cleaned['Short Name'].sort_values().unique())"
   ]
  },
  {
   "cell_type": "code",
   "execution_count": 761,
   "id": "6fb42d26-da0b-4d76-bdc7-1e1106edd1aa",
   "metadata": {},
   "outputs": [
    {
     "name": "stdout",
     "output_type": "stream",
     "text": [
      "241\n"
     ]
    }
   ],
   "source": [
    "print(df_country.shape[0])"
   ]
  },
  {
   "cell_type": "markdown",
   "id": "e7bfd2b0-0618-4c87-8b73-59a4807adc57",
   "metadata": {},
   "source": [
    "### <span style=\"color:pink\">Résultat, après le nettoyage du DF COUNTRY il me reste 217 lignes de pays uniques/241</span>\n",
    "\n",
    "### <span style=\"color:pink\">Pour faire un Inner join, avec ce DF nettoyé, j'ai besoin d'un DF qui ai des colonnes en commun, donc tous sauf df_stat_series </span>\n",
    "\n",
    "### <span style=\"color:pink\">Je commence avec le df_data</span>"
   ]
  },
  {
   "cell_type": "code",
   "execution_count": 762,
   "id": "a6367b73-186c-410b-b4a7-812a53c7b8e8",
   "metadata": {},
   "outputs": [],
   "source": [
    "df_data_cleaned = df_data.merge(\n",
    "    df_country_cleaned[['Country Code']],\n",
    "    on='Country Code',\n",
    "    how='inner'\n",
    ")"
   ]
  },
  {
   "cell_type": "code",
   "execution_count": 763,
   "id": "1e426c6d-97d1-4c92-bd02-731056e785ca",
   "metadata": {},
   "outputs": [
    {
     "name": "stdout",
     "output_type": "stream",
     "text": [
      "886930\n"
     ]
    }
   ],
   "source": [
    "print(df_data.shape[0])"
   ]
  },
  {
   "cell_type": "code",
   "execution_count": 764,
   "id": "3444bb03-f049-4e6a-b656-77ada53806b7",
   "metadata": {},
   "outputs": [
    {
     "name": "stdout",
     "output_type": "stream",
     "text": [
      "795305\n"
     ]
    }
   ],
   "source": [
    "print(df_data_cleaned.shape[0])"
   ]
  },
  {
   "cell_type": "markdown",
   "id": "5839b3ae-3b3f-434c-880c-48f059973c17",
   "metadata": {},
   "source": [
    "### <span style=\"color:pink\">Je compare avant et après avoir nettoyé le df_data</span>\n",
    "\n",
    "### <span style=\"color:pink\">Je fais le df_foot</span>"
   ]
  },
  {
   "cell_type": "code",
   "execution_count": 765,
   "id": "409e74e7-159c-4dda-a61c-dca0614965a2",
   "metadata": {},
   "outputs": [],
   "source": [
    "df_foot_cleaned = df_foot.merge(\n",
    "    df_country_cleaned[['Country Code']],\n",
    "    left_on='CountryCode',\n",
    "    right_on='Country Code',\n",
    "    how='inner'\n",
    ")"
   ]
  },
  {
   "cell_type": "code",
   "execution_count": 766,
   "id": "98ea7d77-887c-4f2b-aded-38dadd887aff",
   "metadata": {},
   "outputs": [
    {
     "name": "stdout",
     "output_type": "stream",
     "text": [
      "643638\n"
     ]
    }
   ],
   "source": [
    "print(df_foot.shape[0])"
   ]
  },
  {
   "cell_type": "code",
   "execution_count": 767,
   "id": "54995dc3-842d-4395-82ae-80bdb2067e09",
   "metadata": {},
   "outputs": [
    {
     "name": "stdout",
     "output_type": "stream",
     "text": [
      "521710\n"
     ]
    }
   ],
   "source": [
    "print(df_foot_cleaned.shape[0])"
   ]
  },
  {
   "cell_type": "markdown",
   "id": "2c6fe695-38b2-48d7-944e-afcd67c7781b",
   "metadata": {},
   "source": [
    "### <span style=\"color:pink\">Je compare avant et après avoir nettoyé le df_foot</span>\n",
    "\n",
    "### <span style=\"color:pink\">Je fais le df_series</span>"
   ]
  },
  {
   "cell_type": "code",
   "execution_count": 768,
   "id": "94937bad-1452-4eeb-9ac5-57bb80d56d6c",
   "metadata": {},
   "outputs": [],
   "source": [
    "df_series_cleaned = df_series.merge(\n",
    "    df_country_cleaned[['Country Code']],\n",
    "    left_on='CountryCode',\n",
    "    right_on='Country Code',\n",
    "    how='inner'\n",
    ")"
   ]
  },
  {
   "cell_type": "code",
   "execution_count": 769,
   "id": "df3b0d1d-6dab-496c-9486-213554932670",
   "metadata": {},
   "outputs": [
    {
     "name": "stdout",
     "output_type": "stream",
     "text": [
      "613\n"
     ]
    }
   ],
   "source": [
    "print(df_series.shape[0])"
   ]
  },
  {
   "cell_type": "code",
   "execution_count": 770,
   "id": "b159b3fe-ee1a-4fac-a7f2-6dd15fea385c",
   "metadata": {},
   "outputs": [
    {
     "name": "stdout",
     "output_type": "stream",
     "text": [
      "613\n"
     ]
    }
   ],
   "source": [
    "print(df_series_cleaned.shape[0])"
   ]
  },
  {
   "cell_type": "markdown",
   "id": "2b2fac1b-093d-438c-ae73-e210f889814b",
   "metadata": {},
   "source": [
    "### <span style=\"color:pink\"> il n’y a aucun faux pays à supprimer dans df_stat_series car il n’y a pas de pays dedans </span>"
   ]
  },
  {
   "cell_type": "markdown",
   "id": "e9d1cbf7-765e-43cb-b7d4-8347dc011b40",
   "metadata": {},
   "source": [
    "# <span style=\"color:red\">EXERCICE 2</span>\n",
    "\n",
    "# <span style=\"color:blue\">ÉTAPE 1: RÉDUIRE LE PÉRIMÈTRE EN UTILISANT UNE APPROCHE MÉTIER</span>"
   ]
  },
  {
   "cell_type": "markdown",
   "id": "074fdaee-6984-49c6-a366-40cf9b1df92f",
   "metadata": {},
   "source": [
    "# Instructions \n",
    "## Parmi les jeux de données centrés sur les indicateurs, identifiez la colonne qui décrit la catégorie métier à laquelle appartient chaque indicateur\n",
    "## Gardez les catégories qui font sens par rapport à la demande de Mark et l’objectif du projet et supprimez les autres\n",
    "## Calculez le nombre d’indicateurs restants\n",
    "## Filtrez l’ensemble des jeux de données pour ne garder que les indicateurs sélectionnés\n",
    "## Dans le fichier Data, interprétez les colonnes représentant les années\n",
    "## Pourquoi avons-nous des valeurs d’indicateur pour des années futures ? \n",
    "## Sur la base de votre compréhension de la problématique métier, filtrez les années en conséquence"
   ]
  },
  {
   "cell_type": "code",
   "execution_count": 771,
   "id": "cb52255c-4b47-43f9-afe2-39bca8467c34",
   "metadata": {},
   "outputs": [
    {
     "data": {
      "text/html": [
       "<div>\n",
       "<style scoped>\n",
       "    .dataframe tbody tr th:only-of-type {\n",
       "        vertical-align: middle;\n",
       "    }\n",
       "\n",
       "    .dataframe tbody tr th {\n",
       "        vertical-align: top;\n",
       "    }\n",
       "\n",
       "    .dataframe thead th {\n",
       "        text-align: right;\n",
       "    }\n",
       "</style>\n",
       "<table border=\"1\" class=\"dataframe\">\n",
       "  <thead>\n",
       "    <tr style=\"text-align: right;\">\n",
       "      <th></th>\n",
       "      <th>CountryCode</th>\n",
       "      <th>SeriesCode</th>\n",
       "    </tr>\n",
       "  </thead>\n",
       "  <tbody>\n",
       "    <tr>\n",
       "      <th>0</th>\n",
       "      <td>ABW</td>\n",
       "      <td>SP.POP.TOTL</td>\n",
       "    </tr>\n",
       "    <tr>\n",
       "      <th>1</th>\n",
       "      <td>ABW</td>\n",
       "      <td>SP.POP.GROW</td>\n",
       "    </tr>\n",
       "    <tr>\n",
       "      <th>2</th>\n",
       "      <td>AFG</td>\n",
       "      <td>SP.POP.GROW</td>\n",
       "    </tr>\n",
       "    <tr>\n",
       "      <th>3</th>\n",
       "      <td>AFG</td>\n",
       "      <td>NY.GDP.PCAP.PP.CD</td>\n",
       "    </tr>\n",
       "    <tr>\n",
       "      <th>4</th>\n",
       "      <td>AFG</td>\n",
       "      <td>SP.POP.TOTL</td>\n",
       "    </tr>\n",
       "  </tbody>\n",
       "</table>\n",
       "</div>"
      ],
      "text/plain": [
       "  CountryCode         SeriesCode\n",
       "0         ABW        SP.POP.TOTL\n",
       "1         ABW        SP.POP.GROW\n",
       "2         AFG        SP.POP.GROW\n",
       "3         AFG  NY.GDP.PCAP.PP.CD\n",
       "4         AFG        SP.POP.TOTL"
      ]
     },
     "execution_count": 771,
     "metadata": {},
     "output_type": "execute_result"
    }
   ],
   "source": [
    "df_series.head()"
   ]
  },
  {
   "cell_type": "code",
   "execution_count": 772,
   "id": "bfee0a3a-4857-4441-9e81-6fc809193a2c",
   "metadata": {},
   "outputs": [
    {
     "data": {
      "text/html": [
       "<div>\n",
       "<style scoped>\n",
       "    .dataframe tbody tr th:only-of-type {\n",
       "        vertical-align: middle;\n",
       "    }\n",
       "\n",
       "    .dataframe tbody tr th {\n",
       "        vertical-align: top;\n",
       "    }\n",
       "\n",
       "    .dataframe thead th {\n",
       "        text-align: right;\n",
       "    }\n",
       "</style>\n",
       "<table border=\"1\" class=\"dataframe\">\n",
       "  <thead>\n",
       "    <tr style=\"text-align: right;\">\n",
       "      <th></th>\n",
       "      <th>Country Code</th>\n",
       "      <th>Short Name</th>\n",
       "      <th>Table Name</th>\n",
       "      <th>Long Name</th>\n",
       "      <th>2-alpha code</th>\n",
       "      <th>Currency Unit</th>\n",
       "      <th>Region</th>\n",
       "      <th>Income Group</th>\n",
       "      <th>WB-2 code</th>\n",
       "      <th>National accounts base year</th>\n",
       "      <th>...</th>\n",
       "      <th>Government Accounting concept</th>\n",
       "      <th>IMF data dissemination standard</th>\n",
       "      <th>Latest population census</th>\n",
       "      <th>Latest household survey</th>\n",
       "      <th>Source of most recent Income and expenditure data</th>\n",
       "      <th>Vital registration complete</th>\n",
       "      <th>Latest agricultural census</th>\n",
       "      <th>Latest industrial data</th>\n",
       "      <th>Latest trade data</th>\n",
       "      <th>Latest water withdrawal data</th>\n",
       "    </tr>\n",
       "  </thead>\n",
       "  <tbody>\n",
       "    <tr>\n",
       "      <th>0</th>\n",
       "      <td>ABW</td>\n",
       "      <td>Aruba</td>\n",
       "      <td>Aruba</td>\n",
       "      <td>Aruba</td>\n",
       "      <td>AW</td>\n",
       "      <td>Aruban florin</td>\n",
       "      <td>Latin America &amp; Caribbean</td>\n",
       "      <td>High income: nonOECD</td>\n",
       "      <td>AW</td>\n",
       "      <td>2000</td>\n",
       "      <td>...</td>\n",
       "      <td>NaN</td>\n",
       "      <td>NaN</td>\n",
       "      <td>2010</td>\n",
       "      <td>NaN</td>\n",
       "      <td>NaN</td>\n",
       "      <td>Yes</td>\n",
       "      <td>NaN</td>\n",
       "      <td>NaN</td>\n",
       "      <td>2012.0</td>\n",
       "      <td>NaN</td>\n",
       "    </tr>\n",
       "    <tr>\n",
       "      <th>1</th>\n",
       "      <td>AFG</td>\n",
       "      <td>Afghanistan</td>\n",
       "      <td>Afghanistan</td>\n",
       "      <td>Islamic State of Afghanistan</td>\n",
       "      <td>AF</td>\n",
       "      <td>Afghan afghani</td>\n",
       "      <td>South Asia</td>\n",
       "      <td>Low income</td>\n",
       "      <td>AF</td>\n",
       "      <td>2002/03</td>\n",
       "      <td>...</td>\n",
       "      <td>Consolidated central government</td>\n",
       "      <td>General Data Dissemination System (GDDS)</td>\n",
       "      <td>1979</td>\n",
       "      <td>Multiple Indicator Cluster Survey (MICS), 2010/11</td>\n",
       "      <td>Integrated household survey (IHS), 2008</td>\n",
       "      <td>NaN</td>\n",
       "      <td>2013/14</td>\n",
       "      <td>NaN</td>\n",
       "      <td>2012.0</td>\n",
       "      <td>2000</td>\n",
       "    </tr>\n",
       "    <tr>\n",
       "      <th>2</th>\n",
       "      <td>AGO</td>\n",
       "      <td>Angola</td>\n",
       "      <td>Angola</td>\n",
       "      <td>People's Republic of Angola</td>\n",
       "      <td>AO</td>\n",
       "      <td>Angolan kwanza</td>\n",
       "      <td>Sub-Saharan Africa</td>\n",
       "      <td>Upper middle income</td>\n",
       "      <td>AO</td>\n",
       "      <td>2002</td>\n",
       "      <td>...</td>\n",
       "      <td>Budgetary central government</td>\n",
       "      <td>General Data Dissemination System (GDDS)</td>\n",
       "      <td>1970</td>\n",
       "      <td>Malaria Indicator Survey (MIS), 2011</td>\n",
       "      <td>Integrated household survey (IHS), 2008</td>\n",
       "      <td>NaN</td>\n",
       "      <td>2015</td>\n",
       "      <td>NaN</td>\n",
       "      <td>NaN</td>\n",
       "      <td>2005</td>\n",
       "    </tr>\n",
       "    <tr>\n",
       "      <th>3</th>\n",
       "      <td>ALB</td>\n",
       "      <td>Albania</td>\n",
       "      <td>Albania</td>\n",
       "      <td>Republic of Albania</td>\n",
       "      <td>AL</td>\n",
       "      <td>Albanian lek</td>\n",
       "      <td>Europe &amp; Central Asia</td>\n",
       "      <td>Upper middle income</td>\n",
       "      <td>AL</td>\n",
       "      <td>Original chained constant price data are resca...</td>\n",
       "      <td>...</td>\n",
       "      <td>Budgetary central government</td>\n",
       "      <td>General Data Dissemination System (GDDS)</td>\n",
       "      <td>2011</td>\n",
       "      <td>Demographic and Health Survey (DHS), 2008/09</td>\n",
       "      <td>Living Standards Measurement Study Survey (LSM...</td>\n",
       "      <td>Yes</td>\n",
       "      <td>2012</td>\n",
       "      <td>2010.0</td>\n",
       "      <td>2012.0</td>\n",
       "      <td>2006</td>\n",
       "    </tr>\n",
       "    <tr>\n",
       "      <th>4</th>\n",
       "      <td>AND</td>\n",
       "      <td>Andorra</td>\n",
       "      <td>Andorra</td>\n",
       "      <td>Principality of Andorra</td>\n",
       "      <td>AD</td>\n",
       "      <td>Euro</td>\n",
       "      <td>Europe &amp; Central Asia</td>\n",
       "      <td>High income: nonOECD</td>\n",
       "      <td>AD</td>\n",
       "      <td>1990</td>\n",
       "      <td>...</td>\n",
       "      <td>NaN</td>\n",
       "      <td>NaN</td>\n",
       "      <td>2011. Population figures compiled from adminis...</td>\n",
       "      <td>NaN</td>\n",
       "      <td>NaN</td>\n",
       "      <td>Yes</td>\n",
       "      <td>NaN</td>\n",
       "      <td>NaN</td>\n",
       "      <td>2006.0</td>\n",
       "      <td>NaN</td>\n",
       "    </tr>\n",
       "  </tbody>\n",
       "</table>\n",
       "<p>5 rows × 30 columns</p>\n",
       "</div>"
      ],
      "text/plain": [
       "  Country Code   Short Name   Table Name                     Long Name  \\\n",
       "0          ABW        Aruba        Aruba                         Aruba   \n",
       "1          AFG  Afghanistan  Afghanistan  Islamic State of Afghanistan   \n",
       "2          AGO       Angola       Angola   People's Republic of Angola   \n",
       "3          ALB      Albania      Albania           Republic of Albania   \n",
       "4          AND      Andorra      Andorra       Principality of Andorra   \n",
       "\n",
       "  2-alpha code   Currency Unit                     Region  \\\n",
       "0           AW   Aruban florin  Latin America & Caribbean   \n",
       "1           AF  Afghan afghani                 South Asia   \n",
       "2           AO  Angolan kwanza         Sub-Saharan Africa   \n",
       "3           AL    Albanian lek      Europe & Central Asia   \n",
       "4           AD            Euro      Europe & Central Asia   \n",
       "\n",
       "           Income Group WB-2 code  \\\n",
       "0  High income: nonOECD        AW   \n",
       "1            Low income        AF   \n",
       "2   Upper middle income        AO   \n",
       "3   Upper middle income        AL   \n",
       "4  High income: nonOECD        AD   \n",
       "\n",
       "                         National accounts base year  ...  \\\n",
       "0                                               2000  ...   \n",
       "1                                            2002/03  ...   \n",
       "2                                               2002  ...   \n",
       "3  Original chained constant price data are resca...  ...   \n",
       "4                                               1990  ...   \n",
       "\n",
       "     Government Accounting concept           IMF data dissemination standard  \\\n",
       "0                              NaN                                       NaN   \n",
       "1  Consolidated central government  General Data Dissemination System (GDDS)   \n",
       "2     Budgetary central government  General Data Dissemination System (GDDS)   \n",
       "3     Budgetary central government  General Data Dissemination System (GDDS)   \n",
       "4                              NaN                                       NaN   \n",
       "\n",
       "                            Latest population census  \\\n",
       "0                                               2010   \n",
       "1                                               1979   \n",
       "2                                               1970   \n",
       "3                                               2011   \n",
       "4  2011. Population figures compiled from adminis...   \n",
       "\n",
       "                             Latest household survey  \\\n",
       "0                                                NaN   \n",
       "1  Multiple Indicator Cluster Survey (MICS), 2010/11   \n",
       "2               Malaria Indicator Survey (MIS), 2011   \n",
       "3       Demographic and Health Survey (DHS), 2008/09   \n",
       "4                                                NaN   \n",
       "\n",
       "   Source of most recent Income and expenditure data  \\\n",
       "0                                                NaN   \n",
       "1            Integrated household survey (IHS), 2008   \n",
       "2            Integrated household survey (IHS), 2008   \n",
       "3  Living Standards Measurement Study Survey (LSM...   \n",
       "4                                                NaN   \n",
       "\n",
       "  Vital registration complete Latest agricultural census  \\\n",
       "0                         Yes                        NaN   \n",
       "1                         NaN                    2013/14   \n",
       "2                         NaN                       2015   \n",
       "3                         Yes                       2012   \n",
       "4                         Yes                        NaN   \n",
       "\n",
       "  Latest industrial data Latest trade data Latest water withdrawal data  \n",
       "0                    NaN            2012.0                          NaN  \n",
       "1                    NaN            2012.0                         2000  \n",
       "2                    NaN               NaN                         2005  \n",
       "3                 2010.0            2012.0                         2006  \n",
       "4                    NaN            2006.0                          NaN  \n",
       "\n",
       "[5 rows x 30 columns]"
      ]
     },
     "execution_count": 772,
     "metadata": {},
     "output_type": "execute_result"
    }
   ],
   "source": [
    "df_country.head()"
   ]
  },
  {
   "cell_type": "code",
   "execution_count": 773,
   "id": "87f4d003-0b1c-4431-9a57-d6a6664a745e",
   "metadata": {},
   "outputs": [
    {
     "data": {
      "text/html": [
       "<div>\n",
       "<style scoped>\n",
       "    .dataframe tbody tr th:only-of-type {\n",
       "        vertical-align: middle;\n",
       "    }\n",
       "\n",
       "    .dataframe tbody tr th {\n",
       "        vertical-align: top;\n",
       "    }\n",
       "\n",
       "    .dataframe thead th {\n",
       "        text-align: right;\n",
       "    }\n",
       "</style>\n",
       "<table border=\"1\" class=\"dataframe\">\n",
       "  <thead>\n",
       "    <tr style=\"text-align: right;\">\n",
       "      <th></th>\n",
       "      <th>Country Name</th>\n",
       "      <th>Country Code</th>\n",
       "      <th>Indicator Name</th>\n",
       "      <th>Indicator Code</th>\n",
       "      <th>1970</th>\n",
       "      <th>1971</th>\n",
       "      <th>1972</th>\n",
       "      <th>1973</th>\n",
       "      <th>1974</th>\n",
       "      <th>1975</th>\n",
       "      <th>...</th>\n",
       "      <th>2055</th>\n",
       "      <th>2060</th>\n",
       "      <th>2065</th>\n",
       "      <th>2070</th>\n",
       "      <th>2075</th>\n",
       "      <th>2080</th>\n",
       "      <th>2085</th>\n",
       "      <th>2090</th>\n",
       "      <th>2095</th>\n",
       "      <th>2100</th>\n",
       "    </tr>\n",
       "  </thead>\n",
       "  <tbody>\n",
       "    <tr>\n",
       "      <th>0</th>\n",
       "      <td>Arab World</td>\n",
       "      <td>ARB</td>\n",
       "      <td>Adjusted net enrolment rate, lower secondary, ...</td>\n",
       "      <td>UIS.NERA.2</td>\n",
       "      <td>NaN</td>\n",
       "      <td>NaN</td>\n",
       "      <td>NaN</td>\n",
       "      <td>NaN</td>\n",
       "      <td>NaN</td>\n",
       "      <td>NaN</td>\n",
       "      <td>...</td>\n",
       "      <td>NaN</td>\n",
       "      <td>NaN</td>\n",
       "      <td>NaN</td>\n",
       "      <td>NaN</td>\n",
       "      <td>NaN</td>\n",
       "      <td>NaN</td>\n",
       "      <td>NaN</td>\n",
       "      <td>NaN</td>\n",
       "      <td>NaN</td>\n",
       "      <td>NaN</td>\n",
       "    </tr>\n",
       "    <tr>\n",
       "      <th>1</th>\n",
       "      <td>Arab World</td>\n",
       "      <td>ARB</td>\n",
       "      <td>Adjusted net enrolment rate, lower secondary, ...</td>\n",
       "      <td>UIS.NERA.2.F</td>\n",
       "      <td>NaN</td>\n",
       "      <td>NaN</td>\n",
       "      <td>NaN</td>\n",
       "      <td>NaN</td>\n",
       "      <td>NaN</td>\n",
       "      <td>NaN</td>\n",
       "      <td>...</td>\n",
       "      <td>NaN</td>\n",
       "      <td>NaN</td>\n",
       "      <td>NaN</td>\n",
       "      <td>NaN</td>\n",
       "      <td>NaN</td>\n",
       "      <td>NaN</td>\n",
       "      <td>NaN</td>\n",
       "      <td>NaN</td>\n",
       "      <td>NaN</td>\n",
       "      <td>NaN</td>\n",
       "    </tr>\n",
       "    <tr>\n",
       "      <th>2</th>\n",
       "      <td>Arab World</td>\n",
       "      <td>ARB</td>\n",
       "      <td>Adjusted net enrolment rate, lower secondary, ...</td>\n",
       "      <td>UIS.NERA.2.GPI</td>\n",
       "      <td>NaN</td>\n",
       "      <td>NaN</td>\n",
       "      <td>NaN</td>\n",
       "      <td>NaN</td>\n",
       "      <td>NaN</td>\n",
       "      <td>NaN</td>\n",
       "      <td>...</td>\n",
       "      <td>NaN</td>\n",
       "      <td>NaN</td>\n",
       "      <td>NaN</td>\n",
       "      <td>NaN</td>\n",
       "      <td>NaN</td>\n",
       "      <td>NaN</td>\n",
       "      <td>NaN</td>\n",
       "      <td>NaN</td>\n",
       "      <td>NaN</td>\n",
       "      <td>NaN</td>\n",
       "    </tr>\n",
       "    <tr>\n",
       "      <th>3</th>\n",
       "      <td>Arab World</td>\n",
       "      <td>ARB</td>\n",
       "      <td>Adjusted net enrolment rate, lower secondary, ...</td>\n",
       "      <td>UIS.NERA.2.M</td>\n",
       "      <td>NaN</td>\n",
       "      <td>NaN</td>\n",
       "      <td>NaN</td>\n",
       "      <td>NaN</td>\n",
       "      <td>NaN</td>\n",
       "      <td>NaN</td>\n",
       "      <td>...</td>\n",
       "      <td>NaN</td>\n",
       "      <td>NaN</td>\n",
       "      <td>NaN</td>\n",
       "      <td>NaN</td>\n",
       "      <td>NaN</td>\n",
       "      <td>NaN</td>\n",
       "      <td>NaN</td>\n",
       "      <td>NaN</td>\n",
       "      <td>NaN</td>\n",
       "      <td>NaN</td>\n",
       "    </tr>\n",
       "    <tr>\n",
       "      <th>4</th>\n",
       "      <td>Arab World</td>\n",
       "      <td>ARB</td>\n",
       "      <td>Adjusted net enrolment rate, primary, both sex...</td>\n",
       "      <td>SE.PRM.TENR</td>\n",
       "      <td>54.822121</td>\n",
       "      <td>54.894138</td>\n",
       "      <td>56.209438</td>\n",
       "      <td>57.267109</td>\n",
       "      <td>57.991138</td>\n",
       "      <td>59.36554</td>\n",
       "      <td>...</td>\n",
       "      <td>NaN</td>\n",
       "      <td>NaN</td>\n",
       "      <td>NaN</td>\n",
       "      <td>NaN</td>\n",
       "      <td>NaN</td>\n",
       "      <td>NaN</td>\n",
       "      <td>NaN</td>\n",
       "      <td>NaN</td>\n",
       "      <td>NaN</td>\n",
       "      <td>NaN</td>\n",
       "    </tr>\n",
       "  </tbody>\n",
       "</table>\n",
       "<p>5 rows × 69 columns</p>\n",
       "</div>"
      ],
      "text/plain": [
       "  Country Name Country Code  \\\n",
       "0   Arab World          ARB   \n",
       "1   Arab World          ARB   \n",
       "2   Arab World          ARB   \n",
       "3   Arab World          ARB   \n",
       "4   Arab World          ARB   \n",
       "\n",
       "                                      Indicator Name  Indicator Code  \\\n",
       "0  Adjusted net enrolment rate, lower secondary, ...      UIS.NERA.2   \n",
       "1  Adjusted net enrolment rate, lower secondary, ...    UIS.NERA.2.F   \n",
       "2  Adjusted net enrolment rate, lower secondary, ...  UIS.NERA.2.GPI   \n",
       "3  Adjusted net enrolment rate, lower secondary, ...    UIS.NERA.2.M   \n",
       "4  Adjusted net enrolment rate, primary, both sex...     SE.PRM.TENR   \n",
       "\n",
       "        1970       1971       1972       1973       1974      1975  ...  2055  \\\n",
       "0        NaN        NaN        NaN        NaN        NaN       NaN  ...   NaN   \n",
       "1        NaN        NaN        NaN        NaN        NaN       NaN  ...   NaN   \n",
       "2        NaN        NaN        NaN        NaN        NaN       NaN  ...   NaN   \n",
       "3        NaN        NaN        NaN        NaN        NaN       NaN  ...   NaN   \n",
       "4  54.822121  54.894138  56.209438  57.267109  57.991138  59.36554  ...   NaN   \n",
       "\n",
       "   2060  2065  2070  2075  2080  2085  2090  2095  2100  \n",
       "0   NaN   NaN   NaN   NaN   NaN   NaN   NaN   NaN   NaN  \n",
       "1   NaN   NaN   NaN   NaN   NaN   NaN   NaN   NaN   NaN  \n",
       "2   NaN   NaN   NaN   NaN   NaN   NaN   NaN   NaN   NaN  \n",
       "3   NaN   NaN   NaN   NaN   NaN   NaN   NaN   NaN   NaN  \n",
       "4   NaN   NaN   NaN   NaN   NaN   NaN   NaN   NaN   NaN  \n",
       "\n",
       "[5 rows x 69 columns]"
      ]
     },
     "execution_count": 773,
     "metadata": {},
     "output_type": "execute_result"
    }
   ],
   "source": [
    "df_data.head()"
   ]
  },
  {
   "cell_type": "code",
   "execution_count": 774,
   "id": "04133fd7-870f-43e4-8561-7ba1cb6071a0",
   "metadata": {},
   "outputs": [
    {
     "data": {
      "text/html": [
       "<div>\n",
       "<style scoped>\n",
       "    .dataframe tbody tr th:only-of-type {\n",
       "        vertical-align: middle;\n",
       "    }\n",
       "\n",
       "    .dataframe tbody tr th {\n",
       "        vertical-align: top;\n",
       "    }\n",
       "\n",
       "    .dataframe thead th {\n",
       "        text-align: right;\n",
       "    }\n",
       "</style>\n",
       "<table border=\"1\" class=\"dataframe\">\n",
       "  <thead>\n",
       "    <tr style=\"text-align: right;\">\n",
       "      <th></th>\n",
       "      <th>CountryCode</th>\n",
       "      <th>SeriesCode</th>\n",
       "      <th>Year</th>\n",
       "      <th>DESCRIPTION</th>\n",
       "    </tr>\n",
       "  </thead>\n",
       "  <tbody>\n",
       "    <tr>\n",
       "      <th>0</th>\n",
       "      <td>ABW</td>\n",
       "      <td>SE.PRE.ENRL.FE</td>\n",
       "      <td>YR2001</td>\n",
       "      <td>Country estimation.</td>\n",
       "    </tr>\n",
       "    <tr>\n",
       "      <th>1</th>\n",
       "      <td>ABW</td>\n",
       "      <td>SE.TER.TCHR.FE</td>\n",
       "      <td>YR2005</td>\n",
       "      <td>Country estimation.</td>\n",
       "    </tr>\n",
       "    <tr>\n",
       "      <th>2</th>\n",
       "      <td>ABW</td>\n",
       "      <td>SE.PRE.TCHR.FE</td>\n",
       "      <td>YR2000</td>\n",
       "      <td>Country estimation.</td>\n",
       "    </tr>\n",
       "    <tr>\n",
       "      <th>3</th>\n",
       "      <td>ABW</td>\n",
       "      <td>SE.SEC.ENRL.GC</td>\n",
       "      <td>YR2004</td>\n",
       "      <td>Country estimation.</td>\n",
       "    </tr>\n",
       "    <tr>\n",
       "      <th>4</th>\n",
       "      <td>ABW</td>\n",
       "      <td>SE.PRE.TCHR</td>\n",
       "      <td>YR2006</td>\n",
       "      <td>Country estimation.</td>\n",
       "    </tr>\n",
       "  </tbody>\n",
       "</table>\n",
       "</div>"
      ],
      "text/plain": [
       "  CountryCode      SeriesCode    Year          DESCRIPTION\n",
       "0         ABW  SE.PRE.ENRL.FE  YR2001  Country estimation.\n",
       "1         ABW  SE.TER.TCHR.FE  YR2005  Country estimation.\n",
       "2         ABW  SE.PRE.TCHR.FE  YR2000  Country estimation.\n",
       "3         ABW  SE.SEC.ENRL.GC  YR2004  Country estimation.\n",
       "4         ABW     SE.PRE.TCHR  YR2006  Country estimation."
      ]
     },
     "execution_count": 774,
     "metadata": {},
     "output_type": "execute_result"
    }
   ],
   "source": [
    "df_foot.head()"
   ]
  },
  {
   "cell_type": "code",
   "execution_count": 775,
   "id": "b0c83278-8c2a-4fb6-9f6f-cfb6a793dffb",
   "metadata": {},
   "outputs": [
    {
     "data": {
      "text/html": [
       "<div>\n",
       "<style scoped>\n",
       "    .dataframe tbody tr th:only-of-type {\n",
       "        vertical-align: middle;\n",
       "    }\n",
       "\n",
       "    .dataframe tbody tr th {\n",
       "        vertical-align: top;\n",
       "    }\n",
       "\n",
       "    .dataframe thead th {\n",
       "        text-align: right;\n",
       "    }\n",
       "</style>\n",
       "<table border=\"1\" class=\"dataframe\">\n",
       "  <thead>\n",
       "    <tr style=\"text-align: right;\">\n",
       "      <th></th>\n",
       "      <th>Series Code</th>\n",
       "      <th>Topic</th>\n",
       "      <th>Indicator Name</th>\n",
       "      <th>Short definition</th>\n",
       "      <th>Long definition</th>\n",
       "      <th>Periodicity</th>\n",
       "      <th>Base Period</th>\n",
       "      <th>Other notes</th>\n",
       "      <th>Aggregation method</th>\n",
       "      <th>Limitations and exceptions</th>\n",
       "      <th>General comments</th>\n",
       "      <th>Statistical concept and methodology</th>\n",
       "      <th>Development relevance</th>\n",
       "    </tr>\n",
       "  </thead>\n",
       "  <tbody>\n",
       "    <tr>\n",
       "      <th>0</th>\n",
       "      <td>BAR.NOED.1519.FE.ZS</td>\n",
       "      <td>Attainment</td>\n",
       "      <td>Barro-Lee: Percentage of female population age...</td>\n",
       "      <td>Percentage of female population age 15-19 with...</td>\n",
       "      <td>Percentage of female population age 15-19 with...</td>\n",
       "      <td>NaN</td>\n",
       "      <td>NaN</td>\n",
       "      <td>NaN</td>\n",
       "      <td>NaN</td>\n",
       "      <td>NaN</td>\n",
       "      <td>NaN</td>\n",
       "      <td>NaN</td>\n",
       "      <td>NaN</td>\n",
       "    </tr>\n",
       "    <tr>\n",
       "      <th>1</th>\n",
       "      <td>BAR.NOED.1519.ZS</td>\n",
       "      <td>Attainment</td>\n",
       "      <td>Barro-Lee: Percentage of population age 15-19 ...</td>\n",
       "      <td>Percentage of population age 15-19 with no edu...</td>\n",
       "      <td>Percentage of population age 15-19 with no edu...</td>\n",
       "      <td>NaN</td>\n",
       "      <td>NaN</td>\n",
       "      <td>NaN</td>\n",
       "      <td>NaN</td>\n",
       "      <td>NaN</td>\n",
       "      <td>NaN</td>\n",
       "      <td>NaN</td>\n",
       "      <td>NaN</td>\n",
       "    </tr>\n",
       "    <tr>\n",
       "      <th>2</th>\n",
       "      <td>BAR.NOED.15UP.FE.ZS</td>\n",
       "      <td>Attainment</td>\n",
       "      <td>Barro-Lee: Percentage of female population age...</td>\n",
       "      <td>Percentage of female population age 15+ with n...</td>\n",
       "      <td>Percentage of female population age 15+ with n...</td>\n",
       "      <td>NaN</td>\n",
       "      <td>NaN</td>\n",
       "      <td>NaN</td>\n",
       "      <td>NaN</td>\n",
       "      <td>NaN</td>\n",
       "      <td>NaN</td>\n",
       "      <td>NaN</td>\n",
       "      <td>NaN</td>\n",
       "    </tr>\n",
       "    <tr>\n",
       "      <th>3</th>\n",
       "      <td>BAR.NOED.15UP.ZS</td>\n",
       "      <td>Attainment</td>\n",
       "      <td>Barro-Lee: Percentage of population age 15+ wi...</td>\n",
       "      <td>Percentage of population age 15+ with no educa...</td>\n",
       "      <td>Percentage of population age 15+ with no educa...</td>\n",
       "      <td>NaN</td>\n",
       "      <td>NaN</td>\n",
       "      <td>NaN</td>\n",
       "      <td>NaN</td>\n",
       "      <td>NaN</td>\n",
       "      <td>NaN</td>\n",
       "      <td>NaN</td>\n",
       "      <td>NaN</td>\n",
       "    </tr>\n",
       "    <tr>\n",
       "      <th>4</th>\n",
       "      <td>BAR.NOED.2024.FE.ZS</td>\n",
       "      <td>Attainment</td>\n",
       "      <td>Barro-Lee: Percentage of female population age...</td>\n",
       "      <td>Percentage of female population age 20-24 with...</td>\n",
       "      <td>Percentage of female population age 20-24 with...</td>\n",
       "      <td>NaN</td>\n",
       "      <td>NaN</td>\n",
       "      <td>NaN</td>\n",
       "      <td>NaN</td>\n",
       "      <td>NaN</td>\n",
       "      <td>NaN</td>\n",
       "      <td>NaN</td>\n",
       "      <td>NaN</td>\n",
       "    </tr>\n",
       "  </tbody>\n",
       "</table>\n",
       "</div>"
      ],
      "text/plain": [
       "           Series Code       Topic  \\\n",
       "0  BAR.NOED.1519.FE.ZS  Attainment   \n",
       "1     BAR.NOED.1519.ZS  Attainment   \n",
       "2  BAR.NOED.15UP.FE.ZS  Attainment   \n",
       "3     BAR.NOED.15UP.ZS  Attainment   \n",
       "4  BAR.NOED.2024.FE.ZS  Attainment   \n",
       "\n",
       "                                      Indicator Name  \\\n",
       "0  Barro-Lee: Percentage of female population age...   \n",
       "1  Barro-Lee: Percentage of population age 15-19 ...   \n",
       "2  Barro-Lee: Percentage of female population age...   \n",
       "3  Barro-Lee: Percentage of population age 15+ wi...   \n",
       "4  Barro-Lee: Percentage of female population age...   \n",
       "\n",
       "                                    Short definition  \\\n",
       "0  Percentage of female population age 15-19 with...   \n",
       "1  Percentage of population age 15-19 with no edu...   \n",
       "2  Percentage of female population age 15+ with n...   \n",
       "3  Percentage of population age 15+ with no educa...   \n",
       "4  Percentage of female population age 20-24 with...   \n",
       "\n",
       "                                     Long definition Periodicity Base Period  \\\n",
       "0  Percentage of female population age 15-19 with...         NaN         NaN   \n",
       "1  Percentage of population age 15-19 with no edu...         NaN         NaN   \n",
       "2  Percentage of female population age 15+ with n...         NaN         NaN   \n",
       "3  Percentage of population age 15+ with no educa...         NaN         NaN   \n",
       "4  Percentage of female population age 20-24 with...         NaN         NaN   \n",
       "\n",
       "  Other notes Aggregation method Limitations and exceptions General comments  \\\n",
       "0         NaN                NaN                        NaN              NaN   \n",
       "1         NaN                NaN                        NaN              NaN   \n",
       "2         NaN                NaN                        NaN              NaN   \n",
       "3         NaN                NaN                        NaN              NaN   \n",
       "4         NaN                NaN                        NaN              NaN   \n",
       "\n",
       "  Statistical concept and methodology Development relevance  \n",
       "0                                 NaN                   NaN  \n",
       "1                                 NaN                   NaN  \n",
       "2                                 NaN                   NaN  \n",
       "3                                 NaN                   NaN  \n",
       "4                                 NaN                   NaN  "
      ]
     },
     "execution_count": 775,
     "metadata": {},
     "output_type": "execute_result"
    }
   ],
   "source": [
    "df_stat_series.head()"
   ]
  },
  {
   "cell_type": "markdown",
   "id": "65a7464f-c6ce-4120-a652-ada8b0f60c78",
   "metadata": {},
   "source": [
    "### <span style=\"color:pink\"> J'ai utilisé un .head pour connaitre les 5 premières lignes de mes DF </span>\n",
    "### <span style=\"color:pink\"> La colonne qui décrit la catégorie métier est 'Topic' dans le DF DF_STAT_SERIES</span>\n",
    "### <span style=\"color:pink\"> C’est elle qui indique à quel domaine appartient chaque indicateur (éducation, santé, population, etc.)</span>\n",
    "\n",
    "### <span style=\"color:pink\"> Je veux voir ce qu'il y a comme valeurs a l'intérieur de Topic, sous forme de tableau</span>"
   ]
  },
  {
   "cell_type": "code",
   "execution_count": 776,
   "id": "6a018cad-b219-446a-bce6-47bcb5b9d86d",
   "metadata": {
    "scrolled": true
   },
   "outputs": [
    {
     "name": "stdout",
     "output_type": "stream",
     "text": [
      "Valeurs uniques de 'Topic' :\n",
      "0                                              Attainment\n",
      "360                                    Education Equality\n",
      "610                        Infrastructure: Communications\n",
      "612                                     Learning Outcomes\n",
      "1658    Economic Policy & Debt: National accounts: US$...\n",
      "1659    Economic Policy & Debt: National accounts: US$...\n",
      "1660      Economic Policy & Debt: Purchasing power parity\n",
      "1668    Economic Policy & Debt: National accounts: Atl...\n",
      "1670                                             Teachers\n",
      "1994     Education Management Information Systems (SABER)\n",
      "2017                      Early Child Development (SABER)\n",
      "2029                  Engaging the Private Sector (SABER)\n",
      "2057             School Health and School Feeding (SABER)\n",
      "2089           School Autonomy and Accountability (SABER)\n",
      "2118                               School Finance (SABER)\n",
      "2136                           Student Assessment (SABER)\n",
      "2151                                     Teachers (SABER)\n",
      "2180                           Tertiary Education (SABER)\n",
      "2197                        Workforce Development (SABER)\n",
      "2209                                             Literacy\n",
      "2216                                           Background\n",
      "2217                                              Primary\n",
      "2218                                            Secondary\n",
      "2220                                             Tertiary\n",
      "2221                            Early Childhood Education\n",
      "2225                                          Pre-Primary\n",
      "2373                                         Expenditures\n",
      "2382                                 Health: Risk factors\n",
      "2383                                    Health: Mortality\n",
      "2384     Social Protection & Labor: Labor force structure\n",
      "2395                                                Laber\n",
      "2398              Social Protection & Labor: Unemployment\n",
      "2401                        Health: Population: Structure\n",
      "2405                                           Population\n",
      "2589                         Health: Population: Dynamics\n",
      "2697                                                 EMIS\n",
      "2837                          Post-Secondary/Non-Tertiary\n",
      "Name: Topic, dtype: object\n"
     ]
    }
   ],
   "source": [
    "print(\"Valeurs uniques de 'Topic' :\")\n",
    "print(df_stat_series['Topic'].drop_duplicates())"
   ]
  },
  {
   "cell_type": "markdown",
   "id": "8281ee22-5a43-4ee2-afca-b7265bcf628f",
   "metadata": {},
   "source": [
    "### <span style=\"color:pink\"> Pour rappel Mark veut identifier des pays à fort potentiel de clients pour des contenus de niveau lycée / université</span>\n",
    "### <span style=\"color:pink\"> Pour gardez les catégories qui font sens par rapport à la demande de Mark et l’objectif du projet, je séléctionne une liste des plus importantes catégories en relation avec l'éducation, ici je l'ai appelé Topic To Keep</span>"
   ]
  },
  {
   "cell_type": "code",
   "execution_count": 777,
   "id": "a6fcfa0a-c18e-4b65-9884-a33333122004",
   "metadata": {},
   "outputs": [],
   "source": [
    "topics_to_keep = [\n",
    "    'Attainment',\n",
    "    'Education Equality',\n",
    "    'Learning Outcomes',\n",
    "    'Teachers',\n",
    "    'Education Management Information Systems (SABER)',\n",
    "    'Early Child Development (SABER)',\n",
    "    'Engaging the Private Sector (SABER)',\n",
    "    'School Health and School Feeding (SABER)',\n",
    "    'School Autonomy and Accountability (SABER)',\n",
    "    'School Finance (SABER)',\n",
    "    'Student Assessment (SABER)',\n",
    "    'Teachers (SABER)',\n",
    "    'Tertiary Education (SABER)',\n",
    "    'Literacy',\n",
    "    'Primary',\n",
    "    'Secondary',\n",
    "    'Tertiary',\n",
    "    'Early Childhood Education',\n",
    "    'Pre-Primary',\n",
    "    'Post-Secondary/Non-Tertiary'\n",
    "]"
   ]
  },
  {
   "cell_type": "code",
   "execution_count": 778,
   "id": "062082a7-62d4-4591-bf4b-6b69433a2777",
   "metadata": {},
   "outputs": [],
   "source": [
    "df_stat_series_filtered = df_stat_series[\n",
    "    df_stat_series['Topic'].isin(topics_to_keep)\n",
    "]"
   ]
  },
  {
   "cell_type": "code",
   "execution_count": 779,
   "id": "3381264f-495a-4bfd-9b58-4ef3a250f9ba",
   "metadata": {
    "scrolled": true
   },
   "outputs": [
    {
     "name": "stdout",
     "output_type": "stream",
     "text": [
      "Topic\n",
      "Learning Outcomes                                   1046\n",
      "Attainment                                           733\n",
      "Education Equality                                   426\n",
      "Secondary                                            256\n",
      "Primary                                              248\n",
      "Tertiary                                             158\n",
      "Teachers                                             137\n",
      "Engaging the Private Sector (SABER)                   51\n",
      "Literacy                                              32\n",
      "School Autonomy and Accountability (SABER)            29\n",
      "Teachers (SABER)                                      29\n",
      "Early Childhood Education                             24\n",
      "Education Management Information Systems (SABER)      23\n",
      "Post-Secondary/Non-Tertiary                           19\n",
      "School Finance (SABER)                                18\n",
      "Tertiary Education (SABER)                            17\n",
      "Student Assessment (SABER)                            15\n",
      "Pre-Primary                                           14\n",
      "Early Child Development (SABER)                       12\n",
      "School Health and School Feeding (SABER)               9\n",
      "Name: count, dtype: int64\n"
     ]
    }
   ],
   "source": [
    "print(df_stat_series_filtered['Topic'].value_counts())"
   ]
  },
  {
   "cell_type": "markdown",
   "id": "20ec5366-b7b6-46cb-ae87-5c182a151ed8",
   "metadata": {},
   "source": [
    "### <span style=\"color:pink\">J'ai filtrer ma colonne Topic en éliminant toutes les valeurs qui ne sont pas dans la liste que j'ai créée précédemnt, puis je voulais voir les valeurs restantes de ma colonne topic</span>"
   ]
  },
  {
   "cell_type": "code",
   "execution_count": 780,
   "id": "10f65b95-a5f2-4d04-8779-782a2cb74249",
   "metadata": {},
   "outputs": [
    {
     "name": "stdout",
     "output_type": "stream",
     "text": [
      "3665\n"
     ]
    }
   ],
   "source": [
    "print(df_stat_series.shape[0])"
   ]
  },
  {
   "cell_type": "code",
   "execution_count": 781,
   "id": "0544c240-b38f-4d7b-81bc-df41d0581e27",
   "metadata": {},
   "outputs": [
    {
     "name": "stdout",
     "output_type": "stream",
     "text": [
      "3296\n"
     ]
    }
   ],
   "source": [
    "print(df_stat_series_filtered.shape[0])"
   ]
  },
  {
   "cell_type": "markdown",
   "id": "5e18921f-1877-4bcc-a36c-0061d57fd4c4",
   "metadata": {},
   "source": [
    "### <span style=\"color:pink\">Juste par curiosité je regarde combien j'avais de données avant et après mon filtre sur la colonne Topic </span>"
   ]
  },
  {
   "cell_type": "code",
   "execution_count": 782,
   "id": "725034cc-d764-4911-9f74-f9a69d0d22bc",
   "metadata": {},
   "outputs": [
    {
     "name": "stdout",
     "output_type": "stream",
     "text": [
      "Nombre d’indicateurs restants : 3296\n"
     ]
    }
   ],
   "source": [
    "print(\"Nombre d’indicateurs restants :\", df_stat_series_filtered.shape[0])"
   ]
  },
  {
   "cell_type": "markdown",
   "id": "37fe1afa-a325-4d37-b0eb-42e717bf13dc",
   "metadata": {},
   "source": [
    "### <span style=\"color:pink\">Pour répondre à la consigne il me reste 3 296 indicateurs retenus sur le DF Stat Series</span>\n",
    "\n",
    "\n",
    "### <span style=\"color:pink\">Je dois maintenant prendre en compte ma liste filtré du DF Stat Series et le transposer aux autres data frames\n",
    "\n",
    "### <span style=\"color:pink\">J'utilise le inner join pour DF DATA pour n'avoir que les données qui nous intéresse</span>\n",
    "\n",
    "### <span style=\"color:pink\">Je veux lier 2 colonnes, 'Indicator Code' du df_data et 'Series Code' du df_stat_series et supprimer tout le reste pour ne garder que les indicateurs liée à l’éducation car df serie est très lourd</span>"
   ]
  },
  {
   "cell_type": "code",
   "execution_count": 783,
   "id": "eddc6043-6feb-4f2b-a750-82189c4ce2f3",
   "metadata": {},
   "outputs": [
    {
     "name": "stdout",
     "output_type": "stream",
     "text": [
      "Taille du df_data filtré : (786742, 69)\n",
      "  Country Name Country Code  \\\n",
      "0   Arab World          ARB   \n",
      "1   Arab World          ARB   \n",
      "2   Arab World          ARB   \n",
      "3   Arab World          ARB   \n",
      "4   Arab World          ARB   \n",
      "\n",
      "                                      Indicator Name  Indicator Code  \\\n",
      "0  Adjusted net enrolment rate, lower secondary, ...      UIS.NERA.2   \n",
      "1  Adjusted net enrolment rate, lower secondary, ...    UIS.NERA.2.F   \n",
      "2  Adjusted net enrolment rate, lower secondary, ...  UIS.NERA.2.GPI   \n",
      "3  Adjusted net enrolment rate, lower secondary, ...    UIS.NERA.2.M   \n",
      "4  Adjusted net enrolment rate, primary, both sex...     SE.PRM.TENR   \n",
      "\n",
      "        1970       1971       1972       1973       1974      1975  ...  2055  \\\n",
      "0        NaN        NaN        NaN        NaN        NaN       NaN  ...   NaN   \n",
      "1        NaN        NaN        NaN        NaN        NaN       NaN  ...   NaN   \n",
      "2        NaN        NaN        NaN        NaN        NaN       NaN  ...   NaN   \n",
      "3        NaN        NaN        NaN        NaN        NaN       NaN  ...   NaN   \n",
      "4  54.822121  54.894138  56.209438  57.267109  57.991138  59.36554  ...   NaN   \n",
      "\n",
      "   2060  2065  2070  2075  2080  2085  2090  2095  2100  \n",
      "0   NaN   NaN   NaN   NaN   NaN   NaN   NaN   NaN   NaN  \n",
      "1   NaN   NaN   NaN   NaN   NaN   NaN   NaN   NaN   NaN  \n",
      "2   NaN   NaN   NaN   NaN   NaN   NaN   NaN   NaN   NaN  \n",
      "3   NaN   NaN   NaN   NaN   NaN   NaN   NaN   NaN   NaN  \n",
      "4   NaN   NaN   NaN   NaN   NaN   NaN   NaN   NaN   NaN  \n",
      "\n",
      "[5 rows x 69 columns]\n"
     ]
    }
   ],
   "source": [
    "indicators_to_keep = df_stat_series_filtered['Series Code'].unique()\n",
    "\n",
    "df_data_filtered = df_data[\n",
    "    df_data['Indicator Code'].isin(indicators_to_keep)\n",
    "]\n",
    "\n",
    "print(\"Taille du df_data filtré :\", df_data_filtered.shape)\n",
    "print(df_data_filtered.head())"
   ]
  },
  {
   "cell_type": "code",
   "execution_count": 784,
   "id": "fd4f291d-8476-4e0f-9da2-6c1f7380f1dc",
   "metadata": {},
   "outputs": [
    {
     "name": "stdout",
     "output_type": "stream",
     "text": [
      "886930\n"
     ]
    }
   ],
   "source": [
    "print(df_data.shape[0])"
   ]
  },
  {
   "cell_type": "code",
   "execution_count": 785,
   "id": "aa67a2de-427f-4e64-808d-1df3e252ed80",
   "metadata": {},
   "outputs": [
    {
     "name": "stdout",
     "output_type": "stream",
     "text": [
      "786742\n"
     ]
    }
   ],
   "source": [
    "print(df_data_filtered.shape[0])"
   ]
  },
  {
   "cell_type": "markdown",
   "id": "61e6adfd-fbaf-4454-a75c-a98f9879d3ba",
   "metadata": {},
   "source": [
    "### <span style=\"color:pink\">Il me reste 786 742 indicateurs sur le DF DATA</span>"
   ]
  },
  {
   "cell_type": "code",
   "execution_count": 786,
   "id": "1cc38a89-82b9-437a-bd80-36181ddc9b65",
   "metadata": {},
   "outputs": [],
   "source": [
    "series_codes_to_keep = df_stat_series_filtered[\"Series Code\"].unique()"
   ]
  },
  {
   "cell_type": "markdown",
   "id": "1aa377dd-a65c-4014-8773-5e22bff2c8be",
   "metadata": {},
   "source": [
    "### <span style=\"color:pink\">Je créer une liste sur la colonne Serie Code que je souhaite concerver, la même que la colonne Topic dans le DF Stat Series</span>\n",
    "### <span style=\"color:pink\">Maintenant, j'applique ce filtre au DF Data</span>"
   ]
  },
  {
   "cell_type": "code",
   "execution_count": 787,
   "id": "8a75cfdb-7c88-4c57-9641-54e83b94b1ce",
   "metadata": {},
   "outputs": [],
   "source": [
    "df_foot_filtered = df_foot[\n",
    "    df_foot[\"SeriesCode\"].isin(series_codes_to_keep)\n",
    "]"
   ]
  },
  {
   "cell_type": "code",
   "execution_count": 788,
   "id": "37d63bda-c071-4e18-89a8-56e19b998368",
   "metadata": {},
   "outputs": [
    {
     "name": "stdout",
     "output_type": "stream",
     "text": [
      "643638\n"
     ]
    }
   ],
   "source": [
    "print(df_foot.shape[0])"
   ]
  },
  {
   "cell_type": "code",
   "execution_count": 789,
   "id": "b30fccc7-476d-4b22-87e6-96d2da66e31b",
   "metadata": {},
   "outputs": [
    {
     "name": "stdout",
     "output_type": "stream",
     "text": [
      "566355\n"
     ]
    }
   ],
   "source": [
    "print(df_foot_filtered.shape[0])"
   ]
  },
  {
   "cell_type": "markdown",
   "id": "36b1582c-73d3-4875-8e9e-515e473d9308",
   "metadata": {},
   "source": [
    "### <span style=\"color:pink\">Pour le DF foot il reste 566 355 indicateurs</span>"
   ]
  },
  {
   "cell_type": "code",
   "execution_count": 791,
   "id": "d3d53360-9b4a-4c68-a218-d683d4e47b5a",
   "metadata": {},
   "outputs": [],
   "source": [
    "df_series_filtered = df_series[\n",
    "    df_series[\"SeriesCode\"].isin(series_codes_to_keep)\n",
    "]"
   ]
  },
  {
   "cell_type": "code",
   "execution_count": 792,
   "id": "ac6c0824-9163-4333-97ce-22444de9bf9e",
   "metadata": {},
   "outputs": [
    {
     "name": "stdout",
     "output_type": "stream",
     "text": [
      "613\n"
     ]
    }
   ],
   "source": [
    "print(df_series.shape[0])"
   ]
  },
  {
   "cell_type": "code",
   "execution_count": 793,
   "id": "3d9f62cb-2e7f-4000-927b-309f1b7aac48",
   "metadata": {},
   "outputs": [
    {
     "name": "stdout",
     "output_type": "stream",
     "text": [
      "0\n"
     ]
    }
   ],
   "source": [
    "print(df_series_filtered.shape[0])"
   ]
  },
  {
   "cell_type": "markdown",
   "id": "07b5065d-cd67-40be-b308-e3724f5eacfd",
   "metadata": {},
   "source": [
    "### <span style=\"color:pink\">Il me reste 0 indicateurs sur le résultat de mon nettoyage du DF Series, les donnés ne doivent pas se recouper ou ne pas exister, je laisse tombé le filtre sur le DF Series, je le laisse comme il est</span>\n",
    "\n",
    "\n",
    "### <span style=\"color:pink\">Je choisi de ne pas filtrer le DF country avec ma liste du DF Stat Series car il ne contient pas d'indicateurs mais  des pays, je pourrais filtrer par pays restant mais je préfère concerver cette donnée pour avoir par exemple les pays dans lesquels il ne faut pas s'implanter</span>\n",
    "\n",
    "### <span style=\"color:pink\">En conclusion j'utilise maintenant : df_series , df_foot_filtered , df_data_filtered , df_country et df_stat_series_filtered</span>"
   ]
  },
  {
   "cell_type": "markdown",
   "id": "455053e5-47f3-4c2d-b44f-ff720c41cdb4",
   "metadata": {},
   "source": [
    "## Dans le fichier Data, interprétez les colonnes représentant les années\n",
    "## Pourquoi avons-nous des valeurs d’indicateur pour des années futures ? \n",
    "## Sur la base de votre compréhension de la problématique métier, filtrez les années en conséquence"
   ]
  },
  {
   "cell_type": "code",
   "execution_count": 794,
   "id": "934f772f-8d0d-4f69-9459-d62b6ca8c408",
   "metadata": {},
   "outputs": [
    {
     "data": {
      "text/html": [
       "<div>\n",
       "<style scoped>\n",
       "    .dataframe tbody tr th:only-of-type {\n",
       "        vertical-align: middle;\n",
       "    }\n",
       "\n",
       "    .dataframe tbody tr th {\n",
       "        vertical-align: top;\n",
       "    }\n",
       "\n",
       "    .dataframe thead th {\n",
       "        text-align: right;\n",
       "    }\n",
       "</style>\n",
       "<table border=\"1\" class=\"dataframe\">\n",
       "  <thead>\n",
       "    <tr style=\"text-align: right;\">\n",
       "      <th></th>\n",
       "      <th>Country Name</th>\n",
       "      <th>Country Code</th>\n",
       "      <th>Indicator Name</th>\n",
       "      <th>Indicator Code</th>\n",
       "      <th>1970</th>\n",
       "      <th>1971</th>\n",
       "      <th>1972</th>\n",
       "      <th>1973</th>\n",
       "      <th>1974</th>\n",
       "      <th>1975</th>\n",
       "      <th>...</th>\n",
       "      <th>2055</th>\n",
       "      <th>2060</th>\n",
       "      <th>2065</th>\n",
       "      <th>2070</th>\n",
       "      <th>2075</th>\n",
       "      <th>2080</th>\n",
       "      <th>2085</th>\n",
       "      <th>2090</th>\n",
       "      <th>2095</th>\n",
       "      <th>2100</th>\n",
       "    </tr>\n",
       "  </thead>\n",
       "  <tbody>\n",
       "    <tr>\n",
       "      <th>0</th>\n",
       "      <td>Arab World</td>\n",
       "      <td>ARB</td>\n",
       "      <td>Adjusted net enrolment rate, lower secondary, ...</td>\n",
       "      <td>UIS.NERA.2</td>\n",
       "      <td>NaN</td>\n",
       "      <td>NaN</td>\n",
       "      <td>NaN</td>\n",
       "      <td>NaN</td>\n",
       "      <td>NaN</td>\n",
       "      <td>NaN</td>\n",
       "      <td>...</td>\n",
       "      <td>NaN</td>\n",
       "      <td>NaN</td>\n",
       "      <td>NaN</td>\n",
       "      <td>NaN</td>\n",
       "      <td>NaN</td>\n",
       "      <td>NaN</td>\n",
       "      <td>NaN</td>\n",
       "      <td>NaN</td>\n",
       "      <td>NaN</td>\n",
       "      <td>NaN</td>\n",
       "    </tr>\n",
       "    <tr>\n",
       "      <th>1</th>\n",
       "      <td>Arab World</td>\n",
       "      <td>ARB</td>\n",
       "      <td>Adjusted net enrolment rate, lower secondary, ...</td>\n",
       "      <td>UIS.NERA.2.F</td>\n",
       "      <td>NaN</td>\n",
       "      <td>NaN</td>\n",
       "      <td>NaN</td>\n",
       "      <td>NaN</td>\n",
       "      <td>NaN</td>\n",
       "      <td>NaN</td>\n",
       "      <td>...</td>\n",
       "      <td>NaN</td>\n",
       "      <td>NaN</td>\n",
       "      <td>NaN</td>\n",
       "      <td>NaN</td>\n",
       "      <td>NaN</td>\n",
       "      <td>NaN</td>\n",
       "      <td>NaN</td>\n",
       "      <td>NaN</td>\n",
       "      <td>NaN</td>\n",
       "      <td>NaN</td>\n",
       "    </tr>\n",
       "    <tr>\n",
       "      <th>2</th>\n",
       "      <td>Arab World</td>\n",
       "      <td>ARB</td>\n",
       "      <td>Adjusted net enrolment rate, lower secondary, ...</td>\n",
       "      <td>UIS.NERA.2.GPI</td>\n",
       "      <td>NaN</td>\n",
       "      <td>NaN</td>\n",
       "      <td>NaN</td>\n",
       "      <td>NaN</td>\n",
       "      <td>NaN</td>\n",
       "      <td>NaN</td>\n",
       "      <td>...</td>\n",
       "      <td>NaN</td>\n",
       "      <td>NaN</td>\n",
       "      <td>NaN</td>\n",
       "      <td>NaN</td>\n",
       "      <td>NaN</td>\n",
       "      <td>NaN</td>\n",
       "      <td>NaN</td>\n",
       "      <td>NaN</td>\n",
       "      <td>NaN</td>\n",
       "      <td>NaN</td>\n",
       "    </tr>\n",
       "    <tr>\n",
       "      <th>3</th>\n",
       "      <td>Arab World</td>\n",
       "      <td>ARB</td>\n",
       "      <td>Adjusted net enrolment rate, lower secondary, ...</td>\n",
       "      <td>UIS.NERA.2.M</td>\n",
       "      <td>NaN</td>\n",
       "      <td>NaN</td>\n",
       "      <td>NaN</td>\n",
       "      <td>NaN</td>\n",
       "      <td>NaN</td>\n",
       "      <td>NaN</td>\n",
       "      <td>...</td>\n",
       "      <td>NaN</td>\n",
       "      <td>NaN</td>\n",
       "      <td>NaN</td>\n",
       "      <td>NaN</td>\n",
       "      <td>NaN</td>\n",
       "      <td>NaN</td>\n",
       "      <td>NaN</td>\n",
       "      <td>NaN</td>\n",
       "      <td>NaN</td>\n",
       "      <td>NaN</td>\n",
       "    </tr>\n",
       "    <tr>\n",
       "      <th>4</th>\n",
       "      <td>Arab World</td>\n",
       "      <td>ARB</td>\n",
       "      <td>Adjusted net enrolment rate, primary, both sex...</td>\n",
       "      <td>SE.PRM.TENR</td>\n",
       "      <td>54.822121</td>\n",
       "      <td>54.894138</td>\n",
       "      <td>56.209438</td>\n",
       "      <td>57.267109</td>\n",
       "      <td>57.991138</td>\n",
       "      <td>59.36554</td>\n",
       "      <td>...</td>\n",
       "      <td>NaN</td>\n",
       "      <td>NaN</td>\n",
       "      <td>NaN</td>\n",
       "      <td>NaN</td>\n",
       "      <td>NaN</td>\n",
       "      <td>NaN</td>\n",
       "      <td>NaN</td>\n",
       "      <td>NaN</td>\n",
       "      <td>NaN</td>\n",
       "      <td>NaN</td>\n",
       "    </tr>\n",
       "  </tbody>\n",
       "</table>\n",
       "<p>5 rows × 69 columns</p>\n",
       "</div>"
      ],
      "text/plain": [
       "  Country Name Country Code  \\\n",
       "0   Arab World          ARB   \n",
       "1   Arab World          ARB   \n",
       "2   Arab World          ARB   \n",
       "3   Arab World          ARB   \n",
       "4   Arab World          ARB   \n",
       "\n",
       "                                      Indicator Name  Indicator Code  \\\n",
       "0  Adjusted net enrolment rate, lower secondary, ...      UIS.NERA.2   \n",
       "1  Adjusted net enrolment rate, lower secondary, ...    UIS.NERA.2.F   \n",
       "2  Adjusted net enrolment rate, lower secondary, ...  UIS.NERA.2.GPI   \n",
       "3  Adjusted net enrolment rate, lower secondary, ...    UIS.NERA.2.M   \n",
       "4  Adjusted net enrolment rate, primary, both sex...     SE.PRM.TENR   \n",
       "\n",
       "        1970       1971       1972       1973       1974      1975  ...  2055  \\\n",
       "0        NaN        NaN        NaN        NaN        NaN       NaN  ...   NaN   \n",
       "1        NaN        NaN        NaN        NaN        NaN       NaN  ...   NaN   \n",
       "2        NaN        NaN        NaN        NaN        NaN       NaN  ...   NaN   \n",
       "3        NaN        NaN        NaN        NaN        NaN       NaN  ...   NaN   \n",
       "4  54.822121  54.894138  56.209438  57.267109  57.991138  59.36554  ...   NaN   \n",
       "\n",
       "   2060  2065  2070  2075  2080  2085  2090  2095  2100  \n",
       "0   NaN   NaN   NaN   NaN   NaN   NaN   NaN   NaN   NaN  \n",
       "1   NaN   NaN   NaN   NaN   NaN   NaN   NaN   NaN   NaN  \n",
       "2   NaN   NaN   NaN   NaN   NaN   NaN   NaN   NaN   NaN  \n",
       "3   NaN   NaN   NaN   NaN   NaN   NaN   NaN   NaN   NaN  \n",
       "4   NaN   NaN   NaN   NaN   NaN   NaN   NaN   NaN   NaN  \n",
       "\n",
       "[5 rows x 69 columns]"
      ]
     },
     "execution_count": 794,
     "metadata": {},
     "output_type": "execute_result"
    }
   ],
   "source": [
    "df_data_filtered.head()"
   ]
  },
  {
   "cell_type": "markdown",
   "id": "4a07e37b-129d-4106-91fc-8d0597f40fd8",
   "metadata": {},
   "source": [
    "### <span style=\"color:pink\">Chaque colonne d’année correspond à la valeur d’un indicateur pour un pays donné sur cette année</span>\n",
    "### <span style=\"color:pink\">Le fichier va jusqu'à 2100, je suppose que les années futures correspondent à des projections, estimées à partir de modèles économiques, démographiques ou éducatifs des différents indicateurs</span>\n",
    "\n",
    "### <span style=\"color:pink\">Mark veut explorer les pays avec fort potentiel de clients et voir comment ce potentiel pourrait évoluer, nous devons observer: les données récents par ex de 2010 à 2024, et éventuellement quelques années futures proches, par ex de 2025 à 2030, si les projections sont fiables, mais peut être que plus ne serai pas pertient peut être trop d'erreur ou d'incertitude ou un élément pourrai changer car temporellement trop lointain</span>"
   ]
  },
  {
   "cell_type": "code",
   "execution_count": 795,
   "id": "03238f4f-d03c-4ad1-b3e4-f46fc329c7b1",
   "metadata": {},
   "outputs": [
    {
     "name": "stdout",
     "output_type": "stream",
     "text": [
      "['1970', '1971', '1972', '1973', '1974', '1975', '1976', '1977', '1978', '1979', '1980', '1981', '1982', '1983', '1984', '1985', '1986', '1987', '1988', '1989', '1990', '1991', '1992', '1993', '1994', '1995', '1996', '1997', '1998', '1999', '2000', '2001', '2002', '2003', '2004', '2005', '2006', '2007', '2008', '2009', '2010', '2011', '2012', '2013', '2014', '2015', '2016', '2017', '2020', '2025', '2030', '2035', '2040', '2045', '2050', '2055', '2060', '2065', '2070', '2075', '2080', '2085', '2090', '2095', '2100']\n"
     ]
    }
   ],
   "source": [
    "years_cols = [col for col in df_data.columns if col.isdigit()]\n",
    "print(years_cols)"
   ]
  },
  {
   "cell_type": "markdown",
   "id": "6300a0b4-6da8-420a-9034-b690a5701db3",
   "metadata": {},
   "source": [
    "### <span style=\"color:pink\">Apres avoir lister les colonnes d'années, je garde uniquement les colonnes récentes 2010-2025</span>"
   ]
  },
  {
   "cell_type": "code",
   "execution_count": 802,
   "id": "762825d2-4f47-45e5-9be4-42fe528f0926",
   "metadata": {},
   "outputs": [],
   "source": [
    "years_to_keep = [str(year) for year in range(2010, 2026)]\n",
    "cols_to_keep = [\"Country Name\", \"Country Code\", \"Indicator Name\", \"Indicator Code\"] + years_to_keep"
   ]
  },
  {
   "cell_type": "code",
   "execution_count": 804,
   "id": "56bcdc72-3ef2-459c-a218-01ae9cf3bece",
   "metadata": {},
   "outputs": [],
   "source": [
    "available_cols = df_data_filtered.columns"
   ]
  },
  {
   "cell_type": "code",
   "execution_count": 805,
   "id": "8b041b8a-4841-4cde-8c85-dec0267213d5",
   "metadata": {},
   "outputs": [],
   "source": [
    "fixed_cols = [\"Country Name\", \"Country Code\", \"Indicator Name\", \"Indicator Code\"]"
   ]
  },
  {
   "cell_type": "code",
   "execution_count": 807,
   "id": "ba52a88d-42cb-481c-90a7-833eacd5f6f1",
   "metadata": {},
   "outputs": [],
   "source": [
    "years_to_keep = [str(year) for year in range(2010, 2026) if str(year) in available_cols]"
   ]
  },
  {
   "cell_type": "code",
   "execution_count": 808,
   "id": "70a2dae0-94b7-40c3-8e11-d7e526f953b0",
   "metadata": {},
   "outputs": [],
   "source": [
    "cols_to_keep = fixed_cols + years_to_keep"
   ]
  },
  {
   "cell_type": "code",
   "execution_count": 813,
   "id": "f15d070f-a638-4ac2-a585-420ff48e23a4",
   "metadata": {},
   "outputs": [],
   "source": [
    "df_data_filtered_year2025 = df_data_filtered[cols_to_keep]"
   ]
  },
  {
   "cell_type": "code",
   "execution_count": 814,
   "id": "2b61a966-2e60-4ac7-bf5a-c0bb5d0b6dd2",
   "metadata": {},
   "outputs": [
    {
     "name": "stdout",
     "output_type": "stream",
     "text": [
      "(786742, 14)\n",
      "  Country Name Country Code  \\\n",
      "0   Arab World          ARB   \n",
      "1   Arab World          ARB   \n",
      "2   Arab World          ARB   \n",
      "3   Arab World          ARB   \n",
      "4   Arab World          ARB   \n",
      "\n",
      "                                      Indicator Name  Indicator Code  \\\n",
      "0  Adjusted net enrolment rate, lower secondary, ...      UIS.NERA.2   \n",
      "1  Adjusted net enrolment rate, lower secondary, ...    UIS.NERA.2.F   \n",
      "2  Adjusted net enrolment rate, lower secondary, ...  UIS.NERA.2.GPI   \n",
      "3  Adjusted net enrolment rate, lower secondary, ...    UIS.NERA.2.M   \n",
      "4  Adjusted net enrolment rate, primary, both sex...     SE.PRM.TENR   \n",
      "\n",
      "        2010      2011       2012      2013       2014  2015  2016  2017  \\\n",
      "0        NaN       NaN        NaN       NaN        NaN   NaN   NaN   NaN   \n",
      "1        NaN       NaN        NaN       NaN        NaN   NaN   NaN   NaN   \n",
      "2        NaN       NaN        NaN       NaN        NaN   NaN   NaN   NaN   \n",
      "3        NaN       NaN        NaN       NaN        NaN   NaN   NaN   NaN   \n",
      "4  85.211998  85.24514  86.101669  85.51194  85.320152   NaN   NaN   NaN   \n",
      "\n",
      "   2020  2025  \n",
      "0   NaN   NaN  \n",
      "1   NaN   NaN  \n",
      "2   NaN   NaN  \n",
      "3   NaN   NaN  \n",
      "4   NaN   NaN  \n"
     ]
    }
   ],
   "source": [
    "print(df_data_filtered_year2025.shape)\n",
    "print(df_data_filtered_year2025.head())"
   ]
  },
  {
   "cell_type": "markdown",
   "id": "8cccceca-2132-4aa5-9843-385fdbc5c0ba",
   "metadata": {},
   "source": [
    "### <span style=\"color:pink\">J'ai fait plusieurs lignes de code car je ne souhaitais concerver que les colonnes de 2010 à 2025 mais j'ai eu un code erreur suite au 1er code me montrant que l'année 2018-2019 n'existait pas du coup, ce code garantit de ne sélectionner que les colonnes réellement présentes dans le DF country</span>\n",
    "\n",
    "### <span style=\"color:pink\">En conclusion, le df_data_filtered_year2025, nous montre des données récents sur les indicateurs concernant l'éducation"
   ]
  },
  {
   "cell_type": "code",
   "execution_count": 816,
   "id": "1e23ebb7-9c5f-45bf-a91d-4ab69108c220",
   "metadata": {},
   "outputs": [],
   "source": [
    "years_to_project = [str(year) for year in range(2025, 2031)]"
   ]
  },
  {
   "cell_type": "code",
   "execution_count": 817,
   "id": "cb227fcb-54e6-4708-b081-fd0744d57cb3",
   "metadata": {},
   "outputs": [],
   "source": [
    "cols_to_keep_proj = ['Country Name', 'Country Code', 'Indicator Name', 'Indicator Code'] + years_to_project"
   ]
  },
  {
   "cell_type": "code",
   "execution_count": 818,
   "id": "7d9e3048-5e6c-4fc8-82c9-a04b32be7ad5",
   "metadata": {},
   "outputs": [],
   "source": [
    "cols_to_keep_proj = [col for col in cols_to_keep_proj if col in df_data_filtered.columns]"
   ]
  },
  {
   "cell_type": "code",
   "execution_count": 819,
   "id": "fd362efb-03e4-42a7-b747-4a2fc6257429",
   "metadata": {},
   "outputs": [
    {
     "name": "stdout",
     "output_type": "stream",
     "text": [
      "(786742, 6)\n",
      "  Country Name Country Code  \\\n",
      "0   Arab World          ARB   \n",
      "1   Arab World          ARB   \n",
      "2   Arab World          ARB   \n",
      "3   Arab World          ARB   \n",
      "4   Arab World          ARB   \n",
      "\n",
      "                                      Indicator Name  Indicator Code  2025  \\\n",
      "0  Adjusted net enrolment rate, lower secondary, ...      UIS.NERA.2   NaN   \n",
      "1  Adjusted net enrolment rate, lower secondary, ...    UIS.NERA.2.F   NaN   \n",
      "2  Adjusted net enrolment rate, lower secondary, ...  UIS.NERA.2.GPI   NaN   \n",
      "3  Adjusted net enrolment rate, lower secondary, ...    UIS.NERA.2.M   NaN   \n",
      "4  Adjusted net enrolment rate, primary, both sex...     SE.PRM.TENR   NaN   \n",
      "\n",
      "   2030  \n",
      "0   NaN  \n",
      "1   NaN  \n",
      "2   NaN  \n",
      "3   NaN  \n",
      "4   NaN  \n"
     ]
    }
   ],
   "source": [
    "df_data_projection = df_data_filtered[cols_to_keep_proj]\n",
    "print(df_data_projection.shape)\n",
    "print(df_data_projection.head())"
   ]
  },
  {
   "cell_type": "markdown",
   "id": "e0dfd7a3-3119-4230-a555-de326997eb42",
   "metadata": {},
   "source": [
    "### <span style=\"color:pink\">Pour la suite je peux aussi utiliser ces projections de 2025 à 2030</span>"
   ]
  },
  {
   "cell_type": "markdown",
   "id": "e3cc9d08-843d-49c2-9c18-37bf2c16e38f",
   "metadata": {},
   "source": [
    "# <span style=\"color:blue\">ÉTAPE 2: RÉDUIRE LE PÉRIMÈTRE EN UTILISANT UNE APPROCHE DATA</span>"
   ]
  }
 ],
 "metadata": {
  "kernelspec": {
   "display_name": "Python [conda env:base] *",
   "language": "python",
   "name": "conda-base-py"
  },
  "language_info": {
   "codemirror_mode": {
    "name": "ipython",
    "version": 3
   },
   "file_extension": ".py",
   "mimetype": "text/x-python",
   "name": "python",
   "nbconvert_exporter": "python",
   "pygments_lexer": "ipython3",
   "version": "3.13.5"
  }
 },
 "nbformat": 4,
 "nbformat_minor": 5
}
